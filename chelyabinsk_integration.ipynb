{
 "cells": [
  {
   "cell_type": "code",
   "execution_count": 1,
   "metadata": {},
   "outputs": [],
   "source": [
    "import pandas as pd\n",
    "import spiceypy as spy\n",
    "import numpy as np\n",
    "import rebound as rb\n",
    "from Utils import *\n",
    "from astroquery.jplhorizons import Horizons"
   ]
  },
  {
   "cell_type": "code",
   "execution_count": 2,
   "metadata": {},
   "outputs": [
    {
     "data": {
      "text/html": [
       "<div>\n",
       "<style scoped>\n",
       "    .dataframe tbody tr th:only-of-type {\n",
       "        vertical-align: middle;\n",
       "    }\n",
       "\n",
       "    .dataframe tbody tr th {\n",
       "        vertical-align: top;\n",
       "    }\n",
       "\n",
       "    .dataframe thead th {\n",
       "        text-align: right;\n",
       "    }\n",
       "</style>\n",
       "<table border=\"1\" class=\"dataframe\">\n",
       "  <thead>\n",
       "    <tr style=\"text-align: right;\">\n",
       "      <th></th>\n",
       "      <th>Peak Brightness Date/Time (UT)</th>\n",
       "      <th>Latitude (deg.)</th>\n",
       "      <th>Longitude (deg.)</th>\n",
       "      <th>Altitude (km)</th>\n",
       "      <th>Velocity (km/s)</th>\n",
       "      <th>vx</th>\n",
       "      <th>vy</th>\n",
       "      <th>vz</th>\n",
       "      <th>Total Radiated Energy (J)</th>\n",
       "      <th>Calculated Total Impact Energy (kt)</th>\n",
       "    </tr>\n",
       "  </thead>\n",
       "  <tbody>\n",
       "    <tr>\n",
       "      <th>376</th>\n",
       "      <td>2013-02-15 03:20:33</td>\n",
       "      <td>54.8N</td>\n",
       "      <td>61.1E</td>\n",
       "      <td>23.3</td>\n",
       "      <td>18.6</td>\n",
       "      <td>12.8</td>\n",
       "      <td>-13.3</td>\n",
       "      <td>-2.4</td>\n",
       "      <td>3.750000e+14</td>\n",
       "      <td>440.000</td>\n",
       "    </tr>\n",
       "    <tr>\n",
       "      <th>178</th>\n",
       "      <td>2018-12-18 23:48:20</td>\n",
       "      <td>56.9N</td>\n",
       "      <td>172.4E</td>\n",
       "      <td>26.0</td>\n",
       "      <td>13.6</td>\n",
       "      <td>6.3</td>\n",
       "      <td>-3.0</td>\n",
       "      <td>-31.2</td>\n",
       "      <td>3.130000e+13</td>\n",
       "      <td>49.000</td>\n",
       "    </tr>\n",
       "    <tr>\n",
       "      <th>494</th>\n",
       "      <td>2009-10-08 02:57:00</td>\n",
       "      <td>4.2S</td>\n",
       "      <td>120.6E</td>\n",
       "      <td>19.1</td>\n",
       "      <td>19.2</td>\n",
       "      <td>14.0</td>\n",
       "      <td>-16.0</td>\n",
       "      <td>-6.0</td>\n",
       "      <td>2.000000e+13</td>\n",
       "      <td>33.000</td>\n",
       "    </tr>\n",
       "    <tr>\n",
       "      <th>448</th>\n",
       "      <td>2010-12-25 23:24:00</td>\n",
       "      <td>38.0N</td>\n",
       "      <td>158.0E</td>\n",
       "      <td>26.0</td>\n",
       "      <td>18.1</td>\n",
       "      <td>18.0</td>\n",
       "      <td>-2.0</td>\n",
       "      <td>-4.0</td>\n",
       "      <td>2.000000e+13</td>\n",
       "      <td>33.000</td>\n",
       "    </tr>\n",
       "    <tr>\n",
       "      <th>954</th>\n",
       "      <td>1994-02-01 22:38:09</td>\n",
       "      <td>2.7N</td>\n",
       "      <td>164.1E</td>\n",
       "      <td>NaN</td>\n",
       "      <td>NaN</td>\n",
       "      <td>NaN</td>\n",
       "      <td>NaN</td>\n",
       "      <td>NaN</td>\n",
       "      <td>1.820000e+13</td>\n",
       "      <td>30.000</td>\n",
       "    </tr>\n",
       "    <tr>\n",
       "      <th>...</th>\n",
       "      <td>...</td>\n",
       "      <td>...</td>\n",
       "      <td>...</td>\n",
       "      <td>...</td>\n",
       "      <td>...</td>\n",
       "      <td>...</td>\n",
       "      <td>...</td>\n",
       "      <td>...</td>\n",
       "      <td>...</td>\n",
       "      <td>...</td>\n",
       "    </tr>\n",
       "    <tr>\n",
       "      <th>641</th>\n",
       "      <td>2005-04-16 10:40:38</td>\n",
       "      <td>NaN</td>\n",
       "      <td>NaN</td>\n",
       "      <td>NaN</td>\n",
       "      <td>NaN</td>\n",
       "      <td>NaN</td>\n",
       "      <td>NaN</td>\n",
       "      <td>NaN</td>\n",
       "      <td>2.000000e+10</td>\n",
       "      <td>0.073</td>\n",
       "    </tr>\n",
       "    <tr>\n",
       "      <th>181</th>\n",
       "      <td>2018-11-15 08:02:44</td>\n",
       "      <td>42N</td>\n",
       "      <td>57W</td>\n",
       "      <td>NaN</td>\n",
       "      <td>NaN</td>\n",
       "      <td>NaN</td>\n",
       "      <td>NaN</td>\n",
       "      <td>NaN</td>\n",
       "      <td>2.000000e+10</td>\n",
       "      <td>0.073</td>\n",
       "    </tr>\n",
       "    <tr>\n",
       "      <th>757</th>\n",
       "      <td>2002-03-18 14:44:57</td>\n",
       "      <td>60.4S</td>\n",
       "      <td>120.5W</td>\n",
       "      <td>NaN</td>\n",
       "      <td>NaN</td>\n",
       "      <td>NaN</td>\n",
       "      <td>NaN</td>\n",
       "      <td>NaN</td>\n",
       "      <td>2.000000e+10</td>\n",
       "      <td>0.073</td>\n",
       "    </tr>\n",
       "    <tr>\n",
       "      <th>48</th>\n",
       "      <td>2022-03-30 18:19:18</td>\n",
       "      <td>45.9S</td>\n",
       "      <td>171.4W</td>\n",
       "      <td>74.0</td>\n",
       "      <td>NaN</td>\n",
       "      <td>NaN</td>\n",
       "      <td>NaN</td>\n",
       "      <td>NaN</td>\n",
       "      <td>2.000000e+10</td>\n",
       "      <td>0.073</td>\n",
       "    </tr>\n",
       "    <tr>\n",
       "      <th>458</th>\n",
       "      <td>2010-10-08 09:58:01</td>\n",
       "      <td>NaN</td>\n",
       "      <td>NaN</td>\n",
       "      <td>NaN</td>\n",
       "      <td>NaN</td>\n",
       "      <td>NaN</td>\n",
       "      <td>NaN</td>\n",
       "      <td>NaN</td>\n",
       "      <td>2.000000e+10</td>\n",
       "      <td>0.073</td>\n",
       "    </tr>\n",
       "  </tbody>\n",
       "</table>\n",
       "<p>960 rows × 10 columns</p>\n",
       "</div>"
      ],
      "text/plain": [
       "    Peak Brightness Date/Time (UT) Latitude (deg.) Longitude (deg.)  \\\n",
       "376            2013-02-15 03:20:33           54.8N            61.1E   \n",
       "178            2018-12-18 23:48:20           56.9N           172.4E   \n",
       "494            2009-10-08 02:57:00            4.2S           120.6E   \n",
       "448            2010-12-25 23:24:00           38.0N           158.0E   \n",
       "954            1994-02-01 22:38:09            2.7N           164.1E   \n",
       "..                             ...             ...              ...   \n",
       "641            2005-04-16 10:40:38             NaN              NaN   \n",
       "181            2018-11-15 08:02:44             42N              57W   \n",
       "757            2002-03-18 14:44:57           60.4S           120.5W   \n",
       "48             2022-03-30 18:19:18           45.9S           171.4W   \n",
       "458            2010-10-08 09:58:01             NaN              NaN   \n",
       "\n",
       "     Altitude (km)  Velocity (km/s)    vx    vy    vz  \\\n",
       "376           23.3             18.6  12.8 -13.3  -2.4   \n",
       "178           26.0             13.6   6.3  -3.0 -31.2   \n",
       "494           19.1             19.2  14.0 -16.0  -6.0   \n",
       "448           26.0             18.1  18.0  -2.0  -4.0   \n",
       "954            NaN              NaN   NaN   NaN   NaN   \n",
       "..             ...              ...   ...   ...   ...   \n",
       "641            NaN              NaN   NaN   NaN   NaN   \n",
       "181            NaN              NaN   NaN   NaN   NaN   \n",
       "757            NaN              NaN   NaN   NaN   NaN   \n",
       "48            74.0              NaN   NaN   NaN   NaN   \n",
       "458            NaN              NaN   NaN   NaN   NaN   \n",
       "\n",
       "     Total Radiated Energy (J)  Calculated Total Impact Energy (kt)  \n",
       "376               3.750000e+14                              440.000  \n",
       "178               3.130000e+13                               49.000  \n",
       "494               2.000000e+13                               33.000  \n",
       "448               2.000000e+13                               33.000  \n",
       "954               1.820000e+13                               30.000  \n",
       "..                         ...                                  ...  \n",
       "641               2.000000e+10                                0.073  \n",
       "181               2.000000e+10                                0.073  \n",
       "757               2.000000e+10                                0.073  \n",
       "48                2.000000e+10                                0.073  \n",
       "458               2.000000e+10                                0.073  \n",
       "\n",
       "[960 rows x 10 columns]"
      ]
     },
     "execution_count": 2,
     "metadata": {},
     "output_type": "execute_result"
    }
   ],
   "source": [
    "fireballs = pd.read_csv('datos/cneos_fireball_data_original.csv', comment='#').sort_values(by=['Calculated Total Impact Energy (kt)'], ascending=False)\n",
    "fireballs"
   ]
  },
  {
   "cell_type": "markdown",
   "metadata": {},
   "source": [
    "Notemos que el bolido de Chelyabinks es el de mayor energia de impacto con indice 376"
   ]
  },
  {
   "cell_type": "code",
   "execution_count": 3,
   "metadata": {},
   "outputs": [
    {
     "data": {
      "text/plain": [
       "Peak Brightness Date/Time (UT)         2013-02-15 03:20:33\n",
       "Latitude (deg.)                                      54.8N\n",
       "Longitude (deg.)                                     61.1E\n",
       "Altitude (km)                                         23.3\n",
       "Velocity (km/s)                                       18.6\n",
       "vx                                                    12.8\n",
       "vy                                                   -13.3\n",
       "vz                                                    -2.4\n",
       "Total Radiated Energy (J)                375000000000000.0\n",
       "Calculated Total Impact Energy (kt)                  440.0\n",
       "Name: 376, dtype: object"
      ]
     },
     "execution_count": 3,
     "metadata": {},
     "output_type": "execute_result"
    }
   ],
   "source": [
    "indice = 376\n",
    "meteor = fireballs.loc[376]\n",
    "meteor"
   ]
  },
  {
   "cell_type": "code",
   "execution_count": 4,
   "metadata": {},
   "outputs": [
    {
     "data": {
      "text/plain": [
       "('2013-02-15 03:20:33', 61.1, 54.8, 23.3, 12.8, -13.3, -2.4)"
      ]
     },
     "execution_count": 4,
     "metadata": {},
     "output_type": "execute_result"
    }
   ],
   "source": [
    "def change_coord(x):\n",
    "    #funcion para trasformar el formato de coordenadas terrestres que da CNEOS\n",
    "    if x[-1] == 'N' or x[-1] == 'E':\n",
    "        new = float(x[:-1])\n",
    "    elif x[-1] == 'S' or x[-1] == 'W':\n",
    "        new = -float(x[:-1])\n",
    "    return new    \n",
    "\n",
    "#Parametros que obtenemos de los datos:\n",
    "date = meteor['Peak Brightness Date/Time (UT)']\n",
    "lon = change_coord(meteor['Longitude (deg.)'])\n",
    "lat = change_coord(meteor['Latitude (deg.)'])\n",
    "alt = meteor['Altitude (km)']\n",
    "vx = meteor['vx']\n",
    "vy = meteor['vy']\n",
    "vz = meteor['vz']\n",
    "\n",
    "date, lon, lat, alt, vx, vy, vz"
   ]
  },
  {
   "cell_type": "code",
   "execution_count": 5,
   "metadata": {},
   "outputs": [],
   "source": [
    "path = 'datos/kernels/'\n",
    "spy.furnsh([path + 'naif0012.tls', path + 'pck00010.tpc', path + 'earth_fixed.tf', path + 'earth_720101_230601.bpc', path + 'earth_latest_high_prec.bpc'])"
   ]
  },
  {
   "cell_type": "code",
   "execution_count": 6,
   "metadata": {},
   "outputs": [],
   "source": [
    "r = Geo2Rec(lon, lat, alt) \n",
    "r_eclip = Geo2Eclip(lon, lat, alt, date, frame='IAU_EARTH')\n",
    "\n",
    "v = np.array([vx, vy, vz])  \n",
    "\n",
    "T_earth = 86400  \n",
    "omega = np.array([0,0,(2*np.pi)/T_earth]) \n",
    "\n",
    "v_E = (v - spy.vcrss(omega, r))\n",
    "#v_E, -v, mag(v_E), np.arccos((v@r_irtf)/(np.linalg.norm(v)*np.linalg.norm(r_irtf)))*180/np.pi\n",
    "\n",
    "et = spy.utc2et(date)\n",
    "mx = spy.pxform('IAU_EARTH', 'ECLIPJ2000', et)\n",
    "v_eclip = spy.mxv(mx, v_E)"
   ]
  },
  {
   "cell_type": "markdown",
   "metadata": {},
   "source": [
    "### Integrando por 4 periodos orbitales"
   ]
  },
  {
   "cell_type": "code",
   "execution_count": 7,
   "metadata": {},
   "outputs": [
    {
     "name": "stdout",
     "output_type": "stream",
     "text": [
      "Searching NASA Horizons for 'Sun'... \n",
      "Found: Sun (10) \n",
      "Searching NASA Horizons for 'Earth'... \n",
      "Found: Earth-Moon Barycenter (3) (chosen from query 'Earth')\n",
      "Searching NASA Horizons for 'Mercury'... \n",
      "Found: Mercury Barycenter (199) (chosen from query 'Mercury')\n",
      "Searching NASA Horizons for 'Venus'... \n",
      "Found: Venus Barycenter (299) (chosen from query 'Venus')\n",
      "Searching NASA Horizons for 'Earth'... \n",
      "Found: Earth-Moon Barycenter (3) (chosen from query 'Earth')\n",
      "Searching NASA Horizons for 'Mars'... \n",
      "Found: Mars Barycenter (4) (chosen from query 'Mars')\n",
      "Searching NASA Horizons for 'Jupiter'... \n",
      "Found: Jupiter Barycenter (5) (chosen from query 'Jupiter')\n",
      "Searching NASA Horizons for 'Saturn'... \n",
      "Found: Saturn Barycenter (6) (chosen from query 'Saturn')\n",
      "Searching NASA Horizons for 'Uranus'... \n",
      "Found: Uranus Barycenter (7) (chosen from query 'Uranus')\n",
      "Searching NASA Horizons for 'Neptune'... \n",
      "Found: Neptune Barycenter (8) (chosen from query 'Neptune')\n"
     ]
    }
   ],
   "source": [
    "rb.horizons.SSL_CONTEXT = 'unverified'\n",
    "\n",
    "sim = rb.Simulation()\n",
    "sim.units = 'km', 's', 'kg'\n",
    "sim.integrator = \"WHFast\"\n",
    "sim.dt = 86400\n",
    "\n",
    "for body in [\"Sun\", \"Earth\", \"Mercury\", \"Venus\", \"Earth\", \"Mars\", \"Jupiter\", \"Saturn\", \"Uranus\", \"Neptune\"]:\n",
    "    sim.add(body, hash=body, date=date)\n",
    "\n",
    "sun = sim.particles[0]\n",
    "r_earth = np.array(sim.particles['Earth'].xyz)\n",
    "v_earth = np.array(sim.particles['Earth'].vxyz)\n",
    "\n",
    "r_asteroid = r_eclip  + r_earth \n",
    "v_asteroid = v_eclip + v_earth #así si es \n",
    "\n",
    "asteroid = sim.add(x=r_asteroid[0], y=r_asteroid[1], z=r_asteroid[2], \n",
    "                vx=v_asteroid[0], vy=v_asteroid[1], vz=v_asteroid[2])"
   ]
  },
  {
   "cell_type": "code",
   "execution_count": 8,
   "metadata": {},
   "outputs": [
    {
     "name": "stdout",
     "output_type": "stream",
     "text": [
      "tiempo de integracion:  287238006.36966944\n",
      "Elementos orbitales osculantes ultimo t: 287238006.36966944 s\n",
      "a=2.3385762251932456, e=0.6993721124445695, i=10.253801255745914, Omega=-31.65654354775234, omega=106.1260321132565, f=3.133402373466005\n"
     ]
    }
   ],
   "source": [
    "deg = 180/np.pi\n",
    "AU = 149597870 #km\n",
    "a = 1.73*AU\n",
    "mu = 1.98847e30*sim.G\n",
    "periodo_orb = 2*np.pi*np.sqrt(a**3/mu)\n",
    "\n",
    "t_end = 4*periodo_orb \n",
    "print(\"tiempo de integracion: \", t_end)\n",
    "\n",
    "N = 10\n",
    "times = np.linspace(0, t_end, N)\n",
    "\n",
    "orbit_elements = np.zeros((N, 6))\n",
    "asteroid_statev = np.zeros((N, 6))\n",
    "for i,time in enumerate(times):\n",
    "    sim.integrate(-time)\n",
    "    sim.move_to_com()\n",
    "    asteroid_statev[i] = sim.particles[-1].xyz + sim.particles[-1].vxyz\n",
    "    o = sim.orbits(primary=sun)[-1]\n",
    "    orbit_elements[i] = [o.a/AU, o.e, o.inc*deg, o.Omega*deg, o.omega*deg, o.f] \n",
    "\n",
    "osc = orbit_elements[-1]\n",
    "print(f\"Elementos orbitales osculantes ultimo t: {time} s\")   \n",
    "print(f\"a={osc[0]}, e={osc[1]}, i={osc[2]}, Omega={osc[3]}, omega={osc[4]}, f={osc[5]}\")  "
   ]
  },
  {
   "cell_type": "markdown",
   "metadata": {},
   "source": [
    "### Calculando elementos orbitales osculantes con spy"
   ]
  },
  {
   "cell_type": "code",
   "execution_count": 9,
   "metadata": {},
   "outputs": [
    {
     "name": "stdout",
     "output_type": "stream",
     "text": [
      "Elementos orbitales osculantes ultimo t calculados con SPY: 287238006.36966944 s\n",
      "q=0.704557392937663, e=0.6989529853226245, i=10.247448922396474, Omega=328.4407221134385, omega=106.07595575994935, f=3.10938743481394\n"
     ]
    }
   ],
   "source": [
    "r_int = asteroid_statev[-1]\n",
    "et = spy.utc2et(date)\n",
    "state = [r_int[0], r_int[1], r_int[2], r_int[3], r_int[4], r_int[5]]\n",
    "mu = 1.98847e30*sim.G\n",
    "\n",
    "osc_spy = spy.oscelt(state, et, mu)\n",
    "print(f\"Elementos orbitales osculantes ultimo t calculados con SPY: {time} s\")   \n",
    "print(f\"q={osc_spy[0]/AU}, e={osc_spy[1]}, i={osc_spy[2]*deg}, Omega={osc_spy[3]*deg}, omega={osc_spy[4]*deg}, f={osc_spy[5]}\") "
   ]
  },
  {
   "cell_type": "code",
   "execution_count": null,
   "metadata": {},
   "outputs": [],
   "source": []
  }
 ],
 "metadata": {
  "kernelspec": {
   "display_name": "Python 3",
   "language": "python",
   "name": "python3"
  },
  "language_info": {
   "codemirror_mode": {
    "name": "ipython",
    "version": 3
   },
   "file_extension": ".py",
   "mimetype": "text/x-python",
   "name": "python",
   "nbconvert_exporter": "python",
   "pygments_lexer": "ipython3",
   "version": "3.12.4"
  }
 },
 "nbformat": 4,
 "nbformat_minor": 2
}
