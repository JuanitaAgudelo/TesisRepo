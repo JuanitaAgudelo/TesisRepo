{
 "cells": [
  {
   "cell_type": "code",
   "execution_count": 1,
   "metadata": {},
   "outputs": [],
   "source": [
    "import pandas as pd\n",
    "import spiceypy as spy\n",
    "import numpy as np\n",
    "import rebound as rb\n",
    "from Utils import *\n",
    "from astroquery.jplhorizons import Horizons"
   ]
  },
  {
   "cell_type": "code",
   "execution_count": 2,
   "metadata": {},
   "outputs": [
    {
     "data": {
      "text/html": [
       "<div>\n",
       "<style scoped>\n",
       "    .dataframe tbody tr th:only-of-type {\n",
       "        vertical-align: middle;\n",
       "    }\n",
       "\n",
       "    .dataframe tbody tr th {\n",
       "        vertical-align: top;\n",
       "    }\n",
       "\n",
       "    .dataframe thead th {\n",
       "        text-align: right;\n",
       "    }\n",
       "</style>\n",
       "<table border=\"1\" class=\"dataframe\">\n",
       "  <thead>\n",
       "    <tr style=\"text-align: right;\">\n",
       "      <th></th>\n",
       "      <th>Peak Brightness Date/Time (UT)</th>\n",
       "      <th>Latitude (deg.)</th>\n",
       "      <th>Longitude (deg.)</th>\n",
       "      <th>Altitude (km)</th>\n",
       "      <th>Velocity (km/s)</th>\n",
       "      <th>vx</th>\n",
       "      <th>vy</th>\n",
       "      <th>vz</th>\n",
       "      <th>Total Radiated Energy (J)</th>\n",
       "      <th>Calculated Total Impact Energy (kt)</th>\n",
       "    </tr>\n",
       "  </thead>\n",
       "  <tbody>\n",
       "    <tr>\n",
       "      <th>376</th>\n",
       "      <td>2013-02-15 03:20:33</td>\n",
       "      <td>54.8N</td>\n",
       "      <td>61.1E</td>\n",
       "      <td>23.3</td>\n",
       "      <td>18.6</td>\n",
       "      <td>12.8</td>\n",
       "      <td>-13.3</td>\n",
       "      <td>-2.4</td>\n",
       "      <td>3.750000e+14</td>\n",
       "      <td>440.000</td>\n",
       "    </tr>\n",
       "    <tr>\n",
       "      <th>178</th>\n",
       "      <td>2018-12-18 23:48:20</td>\n",
       "      <td>56.9N</td>\n",
       "      <td>172.4E</td>\n",
       "      <td>26.0</td>\n",
       "      <td>13.6</td>\n",
       "      <td>6.3</td>\n",
       "      <td>-3.0</td>\n",
       "      <td>-31.2</td>\n",
       "      <td>3.130000e+13</td>\n",
       "      <td>49.000</td>\n",
       "    </tr>\n",
       "    <tr>\n",
       "      <th>494</th>\n",
       "      <td>2009-10-08 02:57:00</td>\n",
       "      <td>4.2S</td>\n",
       "      <td>120.6E</td>\n",
       "      <td>19.1</td>\n",
       "      <td>19.2</td>\n",
       "      <td>14.0</td>\n",
       "      <td>-16.0</td>\n",
       "      <td>-6.0</td>\n",
       "      <td>2.000000e+13</td>\n",
       "      <td>33.000</td>\n",
       "    </tr>\n",
       "    <tr>\n",
       "      <th>448</th>\n",
       "      <td>2010-12-25 23:24:00</td>\n",
       "      <td>38.0N</td>\n",
       "      <td>158.0E</td>\n",
       "      <td>26.0</td>\n",
       "      <td>18.1</td>\n",
       "      <td>18.0</td>\n",
       "      <td>-2.0</td>\n",
       "      <td>-4.0</td>\n",
       "      <td>2.000000e+13</td>\n",
       "      <td>33.000</td>\n",
       "    </tr>\n",
       "    <tr>\n",
       "      <th>954</th>\n",
       "      <td>1994-02-01 22:38:09</td>\n",
       "      <td>2.7N</td>\n",
       "      <td>164.1E</td>\n",
       "      <td>NaN</td>\n",
       "      <td>NaN</td>\n",
       "      <td>NaN</td>\n",
       "      <td>NaN</td>\n",
       "      <td>NaN</td>\n",
       "      <td>1.820000e+13</td>\n",
       "      <td>30.000</td>\n",
       "    </tr>\n",
       "    <tr>\n",
       "      <th>...</th>\n",
       "      <td>...</td>\n",
       "      <td>...</td>\n",
       "      <td>...</td>\n",
       "      <td>...</td>\n",
       "      <td>...</td>\n",
       "      <td>...</td>\n",
       "      <td>...</td>\n",
       "      <td>...</td>\n",
       "      <td>...</td>\n",
       "      <td>...</td>\n",
       "    </tr>\n",
       "    <tr>\n",
       "      <th>641</th>\n",
       "      <td>2005-04-16 10:40:38</td>\n",
       "      <td>NaN</td>\n",
       "      <td>NaN</td>\n",
       "      <td>NaN</td>\n",
       "      <td>NaN</td>\n",
       "      <td>NaN</td>\n",
       "      <td>NaN</td>\n",
       "      <td>NaN</td>\n",
       "      <td>2.000000e+10</td>\n",
       "      <td>0.073</td>\n",
       "    </tr>\n",
       "    <tr>\n",
       "      <th>181</th>\n",
       "      <td>2018-11-15 08:02:44</td>\n",
       "      <td>42N</td>\n",
       "      <td>57W</td>\n",
       "      <td>NaN</td>\n",
       "      <td>NaN</td>\n",
       "      <td>NaN</td>\n",
       "      <td>NaN</td>\n",
       "      <td>NaN</td>\n",
       "      <td>2.000000e+10</td>\n",
       "      <td>0.073</td>\n",
       "    </tr>\n",
       "    <tr>\n",
       "      <th>757</th>\n",
       "      <td>2002-03-18 14:44:57</td>\n",
       "      <td>60.4S</td>\n",
       "      <td>120.5W</td>\n",
       "      <td>NaN</td>\n",
       "      <td>NaN</td>\n",
       "      <td>NaN</td>\n",
       "      <td>NaN</td>\n",
       "      <td>NaN</td>\n",
       "      <td>2.000000e+10</td>\n",
       "      <td>0.073</td>\n",
       "    </tr>\n",
       "    <tr>\n",
       "      <th>48</th>\n",
       "      <td>2022-03-30 18:19:18</td>\n",
       "      <td>45.9S</td>\n",
       "      <td>171.4W</td>\n",
       "      <td>74.0</td>\n",
       "      <td>NaN</td>\n",
       "      <td>NaN</td>\n",
       "      <td>NaN</td>\n",
       "      <td>NaN</td>\n",
       "      <td>2.000000e+10</td>\n",
       "      <td>0.073</td>\n",
       "    </tr>\n",
       "    <tr>\n",
       "      <th>458</th>\n",
       "      <td>2010-10-08 09:58:01</td>\n",
       "      <td>NaN</td>\n",
       "      <td>NaN</td>\n",
       "      <td>NaN</td>\n",
       "      <td>NaN</td>\n",
       "      <td>NaN</td>\n",
       "      <td>NaN</td>\n",
       "      <td>NaN</td>\n",
       "      <td>2.000000e+10</td>\n",
       "      <td>0.073</td>\n",
       "    </tr>\n",
       "  </tbody>\n",
       "</table>\n",
       "<p>960 rows × 10 columns</p>\n",
       "</div>"
      ],
      "text/plain": [
       "    Peak Brightness Date/Time (UT) Latitude (deg.) Longitude (deg.)  \\\n",
       "376            2013-02-15 03:20:33           54.8N            61.1E   \n",
       "178            2018-12-18 23:48:20           56.9N           172.4E   \n",
       "494            2009-10-08 02:57:00            4.2S           120.6E   \n",
       "448            2010-12-25 23:24:00           38.0N           158.0E   \n",
       "954            1994-02-01 22:38:09            2.7N           164.1E   \n",
       "..                             ...             ...              ...   \n",
       "641            2005-04-16 10:40:38             NaN              NaN   \n",
       "181            2018-11-15 08:02:44             42N              57W   \n",
       "757            2002-03-18 14:44:57           60.4S           120.5W   \n",
       "48             2022-03-30 18:19:18           45.9S           171.4W   \n",
       "458            2010-10-08 09:58:01             NaN              NaN   \n",
       "\n",
       "     Altitude (km)  Velocity (km/s)    vx    vy    vz  \\\n",
       "376           23.3             18.6  12.8 -13.3  -2.4   \n",
       "178           26.0             13.6   6.3  -3.0 -31.2   \n",
       "494           19.1             19.2  14.0 -16.0  -6.0   \n",
       "448           26.0             18.1  18.0  -2.0  -4.0   \n",
       "954            NaN              NaN   NaN   NaN   NaN   \n",
       "..             ...              ...   ...   ...   ...   \n",
       "641            NaN              NaN   NaN   NaN   NaN   \n",
       "181            NaN              NaN   NaN   NaN   NaN   \n",
       "757            NaN              NaN   NaN   NaN   NaN   \n",
       "48            74.0              NaN   NaN   NaN   NaN   \n",
       "458            NaN              NaN   NaN   NaN   NaN   \n",
       "\n",
       "     Total Radiated Energy (J)  Calculated Total Impact Energy (kt)  \n",
       "376               3.750000e+14                              440.000  \n",
       "178               3.130000e+13                               49.000  \n",
       "494               2.000000e+13                               33.000  \n",
       "448               2.000000e+13                               33.000  \n",
       "954               1.820000e+13                               30.000  \n",
       "..                         ...                                  ...  \n",
       "641               2.000000e+10                                0.073  \n",
       "181               2.000000e+10                                0.073  \n",
       "757               2.000000e+10                                0.073  \n",
       "48                2.000000e+10                                0.073  \n",
       "458               2.000000e+10                                0.073  \n",
       "\n",
       "[960 rows x 10 columns]"
      ]
     },
     "execution_count": 2,
     "metadata": {},
     "output_type": "execute_result"
    }
   ],
   "source": [
    "fireballs = pd.read_csv('datos/cneos_fireball_data_original.csv', comment='#').sort_values(by=['Calculated Total Impact Energy (kt)'], ascending=False)\n",
    "fireballs"
   ]
  },
  {
   "cell_type": "markdown",
   "metadata": {},
   "source": [
    "Notemos que el bolido de Chelyabinks es el de mayor energia de impacto con indice 376"
   ]
  },
  {
   "cell_type": "code",
   "execution_count": 3,
   "metadata": {},
   "outputs": [
    {
     "data": {
      "text/plain": [
       "Peak Brightness Date/Time (UT)         2013-02-15 03:20:33\n",
       "Latitude (deg.)                                      54.8N\n",
       "Longitude (deg.)                                     61.1E\n",
       "Altitude (km)                                         23.3\n",
       "Velocity (km/s)                                       18.6\n",
       "vx                                                    12.8\n",
       "vy                                                   -13.3\n",
       "vz                                                    -2.4\n",
       "Total Radiated Energy (J)                375000000000000.0\n",
       "Calculated Total Impact Energy (kt)                  440.0\n",
       "Name: 376, dtype: object"
      ]
     },
     "execution_count": 3,
     "metadata": {},
     "output_type": "execute_result"
    }
   ],
   "source": [
    "indice = 376\n",
    "meteor = fireballs.loc[indice]\n",
    "meteor"
   ]
  },
  {
   "cell_type": "code",
   "execution_count": 4,
   "metadata": {},
   "outputs": [
    {
     "data": {
      "text/plain": [
       "('2013-02-15 03:20:33', 61.1, 54.8, 23.3, 12.8, -13.3, -2.4)"
      ]
     },
     "execution_count": 4,
     "metadata": {},
     "output_type": "execute_result"
    }
   ],
   "source": [
    "def change_coord(x):\n",
    "    #funcion para trasformar el formato de coordenadas terrestres que da CNEOS\n",
    "    if x[-1] == 'N' or x[-1] == 'E':\n",
    "        new = float(x[:-1])\n",
    "    elif x[-1] == 'S' or x[-1] == 'W':\n",
    "        new = -float(x[:-1])\n",
    "    return new    \n",
    "\n",
    "#Parametros que obtenemos de los datos:\n",
    "date = meteor['Peak Brightness Date/Time (UT)']\n",
    "lon = change_coord(meteor['Longitude (deg.)'])\n",
    "lat = change_coord(meteor['Latitude (deg.)'])\n",
    "alt = meteor['Altitude (km)']\n",
    "vx = meteor['vx']\n",
    "vy = meteor['vy']\n",
    "vz = meteor['vz']\n",
    "\n",
    "date, lon, lat, alt, vx, vy, vz"
   ]
  },
  {
   "cell_type": "code",
   "execution_count": 5,
   "metadata": {},
   "outputs": [],
   "source": [
    "path = 'datos/kernels/'\n",
    "spy.furnsh([path + 'naif0012.tls', path + 'pck00010.tpc', path + 'earth_fixed.tf', path + 'earth_720101_230601.bpc', path + 'earth_latest_high_prec.bpc'])"
   ]
  },
  {
   "cell_type": "code",
   "execution_count": 54,
   "metadata": {},
   "outputs": [],
   "source": [
    "r = Geo2Rec(lon, lat, alt) \n",
    "r_eclip = Geo2Eclip(lon, lat, alt, date=date, frame='IAU_EARTH') #return units base on \"alt\" units\n",
    "\n",
    "v = np.array([vx, vy, vz])  \n",
    "\n",
    "T_earth = 86400  \n",
    "omega = np.array([0,0,(2*np.pi)/T_earth]) \n",
    "\n",
    "v_E = (v - spy.vcrss(omega, r))\n",
    "#v_E, -v, mag(v_E), np.arccos((v@r_irtf)/(np.linalg.norm(v)*np.linalg.norm(r_irtf)))*180/np.pi\n",
    "\n",
    "et = spy.utc2et(date)\n",
    "mx = spy.pxform('IAU_EARTH', 'ECLIPJ2000', et)\n",
    "v_eclip = spy.mxv(mx, v_E)"
   ]
  },
  {
   "cell_type": "markdown",
   "metadata": {},
   "source": [
    "### Integrando por 4 periodos orbitales"
   ]
  },
  {
   "cell_type": "code",
   "execution_count": 55,
   "metadata": {},
   "outputs": [
    {
     "name": "stdout",
     "output_type": "stream",
     "text": [
      "Searching NASA Horizons for 'Sun'... \n",
      "Found: Sun (10) \n",
      "Searching NASA Horizons for 'Earth'... \n",
      "Found: Earth-Moon Barycenter (3) (chosen from query 'Earth')\n",
      "Searching NASA Horizons for 'Mercury'... \n",
      "Found: Mercury Barycenter (199) (chosen from query 'Mercury')\n",
      "Searching NASA Horizons for 'Venus'... \n",
      "Found: Venus Barycenter (299) (chosen from query 'Venus')\n",
      "Searching NASA Horizons for 'Earth'... \n",
      "Found: Earth-Moon Barycenter (3) (chosen from query 'Earth')\n",
      "Searching NASA Horizons for 'Mars'... \n",
      "Found: Mars Barycenter (4) (chosen from query 'Mars')\n",
      "Searching NASA Horizons for 'Jupiter'... \n",
      "Found: Jupiter Barycenter (5) (chosen from query 'Jupiter')\n",
      "Searching NASA Horizons for 'Saturn'... \n",
      "Found: Saturn Barycenter (6) (chosen from query 'Saturn')\n",
      "Searching NASA Horizons for 'Uranus'... \n",
      "Found: Uranus Barycenter (7) (chosen from query 'Uranus')\n",
      "Searching NASA Horizons for 'Neptune'... \n",
      "Found: Neptune Barycenter (8) (chosen from query 'Neptune')\n"
     ]
    }
   ],
   "source": [
    "rb.horizons.SSL_CONTEXT = 'unverified'\n",
    "\n",
    "sim = rb.Simulation()\n",
    "sim.units = 'km', 's', 'kg'\n",
    "sim.integrator = \"WHFast\"\n",
    "sim.dt = 86400\n",
    "\n",
    "for body in [\"Sun\", \"Earth\", \"Mercury\", \"Venus\", \"Earth\", \"Mars\", \"Jupiter\", \"Saturn\", \"Uranus\", \"Neptune\"]:\n",
    "    sim.add(body, hash=body, date=date)\n",
    "\n",
    "sun = sim.particles[0]\n",
    "r_earth = np.array(sim.particles['Earth'].xyz)\n",
    "v_earth = np.array(sim.particles['Earth'].vxyz)\n",
    "\n",
    "r_asteroid = r_eclip  + r_earth \n",
    "v_asteroid = v_eclip + v_earth #así si es \n",
    "\n",
    "asteroid = sim.add(x=r_asteroid[0], y=r_asteroid[1], z=r_asteroid[2], \n",
    "                vx=v_asteroid[0], vy=v_asteroid[1], vz=v_asteroid[2])"
   ]
  },
  {
   "cell_type": "code",
   "execution_count": 56,
   "metadata": {},
   "outputs": [
    {
     "name": "stdout",
     "output_type": "stream",
     "text": [
      "Position ECLIPJ200:  [-8.23964364e-01  5.43791769e-01 -2.23039340e-05]\n",
      "Velocity ECLIPJ200:  [-0.01908999 -0.00988929 -0.00345246]\n"
     ]
    }
   ],
   "source": [
    "AU = 149597870 #km\n",
    "day = 86400\n",
    "\n",
    "print(\"Position ECLIPJ200: \", r_asteroid/AU)\n",
    "print(\"Velocity ECLIPJ200: \", (v_asteroid/AU)*day)"
   ]
  },
  {
   "cell_type": "code",
   "execution_count": 41,
   "metadata": {},
   "outputs": [
    {
     "name": "stdout",
     "output_type": "stream",
     "text": [
      "tiempo de integracion:  287238006.36966944\n",
      "Elementos orbitales osculantes ultimo t: 287238006.36966944 s\n",
      "a=2.3385762251932456, e=0.6993721124445695, i=10.253801255745914, Omega=-31.65654354775234, omega=106.1260321132565, f=3.133402373466005\n"
     ]
    }
   ],
   "source": [
    "deg = 180/np.pi\n",
    "AU = 149597870 #km\n",
    "a = 1.73*AU\n",
    "mu = 1.98847e30*sim.G\n",
    "periodo_orb = 2*np.pi*np.sqrt(a**3/mu)\n",
    "\n",
    "t_end = 4*periodo_orb \n",
    "print(\"tiempo de integracion: \", t_end)\n",
    "\n",
    "N = 10\n",
    "times = np.linspace(0, t_end, N)\n",
    "\n",
    "orbit_elements = np.zeros((N, 6))\n",
    "asteroid_statev = np.zeros((N, 6))\n",
    "for i,time in enumerate(times):\n",
    "    sim.integrate(-time)\n",
    "    sim.move_to_com()\n",
    "    asteroid_statev[i] = sim.particles[-1].xyz + sim.particles[-1].vxyz\n",
    "    o = sim.orbits(primary=sun)[-1]\n",
    "    orbit_elements[i] = [o.a/AU, o.e, o.inc*deg, o.Omega*deg, o.omega*deg, o.f] \n",
    "\n",
    "osc = orbit_elements[-1]\n",
    "print(f\"Elementos orbitales osculantes ultimo t: {time} s\")   \n",
    "print(f\"a={osc[0]}, e={osc[1]}, i={osc[2]}, Omega={osc[3]}, omega={osc[4]}, f={osc[5]}\")  "
   ]
  },
  {
   "cell_type": "markdown",
   "metadata": {},
   "source": [
    "### Calculando elementos orbitales osculantes con spy"
   ]
  },
  {
   "cell_type": "code",
   "execution_count": 42,
   "metadata": {},
   "outputs": [
    {
     "name": "stdout",
     "output_type": "stream",
     "text": [
      "Elementos orbitales osculantes ultimo t calculados con SPY: 287238006.36966944 s\n",
      "q=0.704557392937663, e=0.6989529853226245, i=10.247448922396474, Omega=328.4407221134385, omega=106.07595575994935, f=3.10938743481394\n"
     ]
    }
   ],
   "source": [
    "r_int = asteroid_statev[-1]\n",
    "et = spy.utc2et(date)\n",
    "state = [r_int[0], r_int[1], r_int[2], r_int[3], r_int[4], r_int[5]]\n",
    "mu = 1.98847e30*sim.G\n",
    "\n",
    "osc_spy = spy.oscelt(state, et, mu)\n",
    "print(f\"Elementos orbitales osculantes ultimo t calculados con SPY: {time} s\")   \n",
    "print(f\"q={osc_spy[0]/AU}, e={osc_spy[1]}, i={osc_spy[2]*deg}, Omega={osc_spy[3]*deg}, omega={osc_spy[4]*deg}, f={osc_spy[5]}\") "
   ]
  },
  {
   "cell_type": "markdown",
   "metadata": {},
   "source": [
    "### Comparando datos del profe: \n",
    "\n",
    "Projected impact site:\n",
    "Lat. : 55.07815N\n",
    "Lon. : 60.09285E\n",
    "Alt. : 178.4583 m\n",
    "\n",
    "La fecha de impacto es:\n",
    "Julian Date = 2456338.639279\n",
    "\n",
    "La dirección del bolido era:\n",
    "Radiant:\n",
    "Az.  : 105.8913\n",
    "Alt. : 17.84583\n",
    "\n",
    "Las coordenadas del asteroide en el momento del impacto relativas a ECLIPJ2000 son:\n",
    "Position vector at impact time (Ecliptic J2000.0):\n",
    "\n",
    "x , y, z (AU) = -8.2296109700e-01 5.4628609900e-01 2.6028354800e-05\n",
    "vx, vy, vz (AU/day) = -1.7823720100e-02 -9.2681019800e-03 -3.4069700000e-03 \n",
    "r (AU) = 9.8777197200e-01"
   ]
  },
  {
   "cell_type": "code",
   "execution_count": 6,
   "metadata": {},
   "outputs": [
    {
     "name": "stdout",
     "output_type": "stream",
     "text": [
      "UTC time       : 2013-02-15 03:20:33.706\n",
      "Ephemeris Time : 414170500.8911254 seconds since J2000.0\n",
      "Rotation Vector : [0.00000000e+00 0.00000000e+00 7.29211543e-05]\n"
     ]
    }
   ],
   "source": [
    "from astropy.time import Time\n",
    "import spiceypy as spy\n",
    "\n",
    "jd = 2456338.639279\n",
    "\n",
    "t = Time(jd, format='jd', scale='utc')\n",
    "utc_string = t.utc.iso \n",
    "et = spy.utc2et(utc_string)\n",
    "\n",
    "print(f\"UTC time       : {utc_string}\")\n",
    "print(f\"Ephemeris Time : {et} seconds since J2000.0\")\n",
    "\n",
    "r = Geo2Rec(lon=60.09285, lat=55.07815, alt=178.4583) \n",
    "r_eclip = Geo2Eclip(lon=60.09285, lat=55.07815, alt=178.4583, et=et, frame='IAU_EARTH') #return units base on \"alt\" units\n",
    "\n",
    "v = np.array([vx, vy, vz])  \n",
    "\n",
    "T_earth = 2 * np.pi / 86400 + 2 * np.pi / (365.25 * 86400)\n",
    "#T_earth = 86164.0905\n",
    "omega = np.array([0,0,T_earth]) \n",
    "print(f\"Rotation Vector : {omega}\")\n",
    "\n",
    "v_E = (v - spy.vcrss(omega, r))\n",
    "mx = spy.pxform('IAU_EARTH', 'ECLIPJ2000', et)\n",
    "v_eclip = spy.mxv(mx, v_E)"
   ]
  },
  {
   "cell_type": "code",
   "execution_count": 7,
   "metadata": {},
   "outputs": [
    {
     "name": "stdout",
     "output_type": "stream",
     "text": [
      "Searching NASA Horizons for 'Sun'... \n",
      "Found: Sun (10) \n",
      "Searching NASA Horizons for 'Earth'... \n",
      "Found: Earth-Moon Barycenter (3) (chosen from query 'Earth')\n",
      "Searching NASA Horizons for 'Mercury'... \n",
      "Found: Mercury Barycenter (199) (chosen from query 'Mercury')\n",
      "Searching NASA Horizons for 'Venus'... \n",
      "Found: Venus Barycenter (299) (chosen from query 'Venus')\n",
      "Searching NASA Horizons for 'Earth'... \n",
      "Found: Earth-Moon Barycenter (3) (chosen from query 'Earth')\n",
      "Searching NASA Horizons for 'Mars'... \n",
      "Found: Mars Barycenter (4) (chosen from query 'Mars')\n",
      "Searching NASA Horizons for 'Jupiter'... \n",
      "Found: Jupiter Barycenter (5) (chosen from query 'Jupiter')\n",
      "Searching NASA Horizons for 'Saturn'... \n",
      "Found: Saturn Barycenter (6) (chosen from query 'Saturn')\n",
      "Searching NASA Horizons for 'Uranus'... \n",
      "Found: Uranus Barycenter (7) (chosen from query 'Uranus')\n",
      "Searching NASA Horizons for 'Neptune'... \n",
      "Found: Neptune Barycenter (8) (chosen from query 'Neptune')\n"
     ]
    }
   ],
   "source": [
    "rb.horizons.SSL_CONTEXT = 'unverified'\n",
    "\n",
    "sim = rb.Simulation()\n",
    "sim.units = 'km', 's', 'kg'\n",
    "sim.integrator = \"WHFast\"\n",
    "#sim.dt = 86400\n",
    "\n",
    "for body in [\"Sun\", \"Earth\", \"Mercury\", \"Venus\", \"Earth\", \"Mars\", \"Jupiter\", \"Saturn\", \"Uranus\", \"Neptune\"]:\n",
    "    sim.add(body, hash=body, date=date)\n",
    "\n",
    "sun = sim.particles[0]\n",
    "r_earth = np.array(sim.particles['Earth'].xyz)\n",
    "v_earth = np.array(sim.particles['Earth'].vxyz)\n",
    "\n",
    "r_asteroid = r_eclip  + r_earth \n",
    "v_asteroid = v_eclip + v_earth #así si es \n",
    "\n",
    "asteroid = sim.add(x=r_asteroid[0], y=r_asteroid[1], z=r_asteroid[2], \n",
    "                vx=v_asteroid[0], vy=v_asteroid[1], vz=v_asteroid[2])"
   ]
  },
  {
   "cell_type": "code",
   "execution_count": 8,
   "metadata": {},
   "outputs": [
    {
     "name": "stdout",
     "output_type": "stream",
     "text": [
      "Position ECLIPJ200:  [-8.23964890e-01  5.43791877e-01 -2.12928445e-05]\n",
      "Velocity ECLIPJ200:  [-0.0190926  -0.00988658 -0.00345363]\n",
      "Velocity mag:  18.875651936295935\n"
     ]
    }
   ],
   "source": [
    "AU = 149597870 #km\n",
    "day = 86400\n",
    "\n",
    "print(\"Position ECLIPJ200: \", r_asteroid/AU)\n",
    "print(\"Velocity ECLIPJ200: \", (v_asteroid/AU)*day)\n",
    "print(\"Velocity mag: \", mag(v_E))"
   ]
  },
  {
   "cell_type": "code",
   "execution_count": 9,
   "metadata": {},
   "outputs": [
    {
     "name": "stdout",
     "output_type": "stream",
     "text": [
      "Elementos orbitales instantaneos: \n",
      "a=2.372424677691459, e=0.7016088739435956, i=10.410394984702243, Omega=-33.568615547324185, omega=108.2220963395764, f=1.2526114089179856\n"
     ]
    }
   ],
   "source": [
    "deg = 180/np.pi\n",
    "sim.move_to_com()\n",
    "asteroid_statev = sim.particles[-1].xyz + sim.particles[-1].vxyz\n",
    "o = sim.orbits(primary=sun)[-1]\n",
    "orbit_elements = [o.a/AU, o.e, o.inc*deg, o.Omega*deg, o.omega*deg, o.f] \n",
    "\n",
    "print(f\"Elementos orbitales instantaneos: \")   \n",
    "print(f\"a={orbit_elements[0]}, e={orbit_elements[1]}, i={orbit_elements[2]}, Omega={orbit_elements[3]}, omega={orbit_elements[4]}, f={orbit_elements[5]}\")  "
   ]
  },
  {
   "cell_type": "code",
   "execution_count": 10,
   "metadata": {},
   "outputs": [
    {
     "name": "stdout",
     "output_type": "stream",
     "text": [
      "---------------------------------\n",
      "REBOUND version:     \t4.4.7\n",
      "REBOUND built on:    \tMar  9 2025 20:56:14\n",
      "Number of particles: \t11\n",
      "Selected integrator: \twhfast\n",
      "Simulation time:     \t0.0000000000000000e+00\n",
      "Current timestep:    \t0.001000\n",
      "---------------------------------\n",
      "<rebound.particle.Particle object at 0x2effa3ee5d0, m=1.9884754159566474e+30 x=-150006.54756420263 y=-375025.82207393023 z=-7188.193107249768 vx=0.010826047142184584 vy=-0.0014637237934469036 vz=-0.00023452407127716457>\n",
      "<rebound.particle.Particle object at 0x2effa3ed350, m=6.045825576341311e+24 x=-123261957.83132082 y=81351076.8213421 z=-9560.004964008403 vx=-16.949008934334103 vy=-24.930108733811668 vz=0.0005425020829763973>\n",
      "<rebound.particle.Particle object at 0x2effa3ee5d0, m=3.301109449002709e+23 x=19405571.82401994 y=41433965.470469266 z=1614591.7183279435 vx=-53.85233524712189 vy=22.537614300916402 vz=6.783406057485624>\n",
      "<rebound.particle.Particle object at 0x2effa3ed350, m=4.867466257521635e+24 x=57681863.87072127 y=-92573024.05817167 z=-4608173.082605424 vx=29.44399167207175 vy=18.485415500959483 vz=-1.4456007784880656>\n",
      "<rebound.particle.Particle object at 0x2effa3ee5d0, m=6.045825576341311e+24 x=-123261957.83132082 y=81351076.8213421 z=-9560.004964008403 vx=-16.949008934334103 vy=-24.930108733811668 vz=0.0005425020829763973>\n",
      "<rebound.particle.Particle object at 0x2effa3ed350, m=6.417120534329241e+23 x=203719419.37364548 y=-36798408.55273997 z=-5775847.102855968 vx=5.200777252839911 vy=25.91731588106084 vz=0.4153871802442515>\n",
      "<rebound.particle.Particle object at 0x2effa3ee5d0, m=1.8985802402728163e+27 x=163053735.5918002 y=741540021.672848 z=-6740540.973263445 vx=-12.919595391330711 vy=3.4298481574047464 vz=0.2748607557393251>\n",
      "<rebound.particle.Particle object at 0x2effa3ed350, m=5.6847662661820045e+26 x=-1189500501.2413282 y=-856288308.6754168 z=62227876.58882771 vx=5.119277207165019 vy=-7.862492095713882 vz=-0.06699549845629388>\n",
      "<rebound.particle.Particle object at 0x2effa3ee5d0, m=8.682180015822403e+25 x=2971649780.1481686 y=409688577.51774395 z=-36977694.42442818 vx=-0.9798310682343842 vy=6.428817386207385 vz=0.03658065796286408>\n",
      "<rebound.particle.Particle object at 0x2effa3ed350, m=1.0243399990081626e+26 x=3982911160.2168417 y=-2064321928.7671437 z=-49279546.196046025 vx=2.4650496842422847 vy=4.857918273190835 vz=-0.1568469004113652>\n",
      "<rebound.particle.Particle object at 0x2effa3ee5d0, m=0.0 x=-123262905.51800126 y=81349868.20923865 z=-3200.5810764684065 vx=-33.05795679241942 vy=-17.118105192819442 vz=-5.97981163468901>\n",
      "---------------------------------\n",
      "The following fields have non-default values:\n",
      "G:\n",
      "< 1.000000e+00\n",
      "---\n",
      "> 6.674080e-20\n",
      "N:\n",
      "< 0\n",
      "---\n",
      "> 11\n",
      "integrator:\n",
      "< 0\n",
      "---\n",
      "> 1\n",
      "python_unit_l:\n",
      "< 0\n",
      "---\n",
      "> 1452969904\n",
      "python_unit_m:\n",
      "< 0\n",
      "---\n",
      "> 904287398\n",
      "python_unit_t:\n",
      "< 0\n",
      "---\n",
      "> 619056205\n",
      "rand_seed:\n",
      "< 1021828\n",
      "---\n",
      "> 715828\n",
      "particles:\n",
      "> (1408 bytes, values not printed)\n",
      "\n"
     ]
    }
   ],
   "source": [
    "sim.status()"
   ]
  },
  {
   "cell_type": "code",
   "execution_count": 11,
   "metadata": {},
   "outputs": [
    {
     "name": "stdout",
     "output_type": "stream",
     "text": [
      "tiempo de integracion:  86400\n",
      "Elementos orbitales en tiempo: 0.0 s\n",
      "a=2.372424677691459, e=0.7016088739435956, i=10.410394984702243, Omega=-33.568615547324185, omega=108.2220963395764, f=1.2526114089179856\n",
      "Elementos orbitales en tiempo: 9600.0 s\n",
      "a=2.992970858390127, e=0.7296201293361579, i=10.088934178252336, Omega=-37.11861365833563, omega=119.19140235871187, f=1.0589862943876156\n",
      "Elementos orbitales en tiempo: 19200.0 s\n",
      "a=-1.9689180369255646, e=1.9248972851004795, i=9.114910799652465, Omega=-63.10339586594164, omega=180.61219892299536, f=6.269290692409124\n",
      "Elementos orbitales en tiempo: 28800.0 s\n",
      "a=-1.8817124183634264, e=1.9883995240288335, i=9.115017749689661, Omega=-63.71326280867493, omega=181.52939965734566, f=6.252029673819759\n",
      "Elementos orbitales en tiempo: 38400.0 s\n",
      "a=-1.8774834493799804, e=1.9914468172353859, i=9.114280491133819, Omega=-63.737055832177525, omega=181.5774487731444, f=6.249892493919305\n",
      "Elementos orbitales en tiempo: 48000.0 s\n",
      "a=-0.8826597062034937, e=5.564626354824077, i=9.46886822456715, Omega=-78.70327433911024, omega=198.53605255992974, f=5.956234880861334\n",
      "Elementos orbitales en tiempo: 57600.0 s\n",
      "a=-0.7374835249480377, e=11.014823099750766, i=9.763739491541067, Omega=-84.02659898315393, omega=202.83375288332564, f=5.882270250890919\n",
      "Elementos orbitales en tiempo: 67200.0 s\n",
      "a=-0.6947540615375877, e=16.72277808724797, i=9.89955742152073, Omega=-86.00180462514798, omega=204.24704868030145, f=5.8579957880960905\n",
      "Elementos orbitales en tiempo: 76800.0 s\n",
      "a=-0.6744197439782934, e=22.704971302614865, i=9.976183342692666, Omega=-87.02732211283876, omega=204.94468882768163, f=5.846027441713748\n",
      "Elementos orbitales en tiempo: 86400.0 s\n",
      "a=-0.6672692514607109, e=25.996402536026178, i=10.004427837059383, Omega=-87.3930944502115, omega=205.20192754396635, f=5.841556608184442\n"
     ]
    }
   ],
   "source": [
    "hora = 3600\n",
    "\n",
    "#t_end = 4*periodo_orb\n",
    "t_end = 24*hora\n",
    "print(\"tiempo de integracion: \", t_end)\n",
    "\n",
    "N = 10\n",
    "times = np.linspace(0, t_end, N)\n",
    "\n",
    "orbit_elements = np.zeros((N, 6))\n",
    "asteroid_statev = np.zeros((N, 6))\n",
    "for i,time in enumerate(times):\n",
    "    sim.integrate(-time)\n",
    "    sim.move_to_com()\n",
    "    asteroid_statev[i] = sim.particles[-1].xyz + sim.particles[-1].vxyz\n",
    "    o = sim.orbits(primary=sun)[-1]\n",
    "    int_elements = [o.a/AU, o.e, o.inc*deg, o.Omega*deg, o.omega*deg, o.f] \n",
    "    orbit_elements[i] = int_elements \n",
    "\n",
    "    print(f\"Elementos orbitales en tiempo: {time} s\")   \n",
    "    print(f\"a={int_elements[0]}, e={int_elements[1]}, i={int_elements[2]}, Omega={int_elements[3]}, omega={int_elements[4]}, f={int_elements[5]}\")  "
   ]
  },
  {
   "cell_type": "code",
   "execution_count": null,
   "metadata": {},
   "outputs": [],
   "source": []
  }
 ],
 "metadata": {
  "kernelspec": {
   "display_name": "Python 3",
   "language": "python",
   "name": "python3"
  },
  "language_info": {
   "codemirror_mode": {
    "name": "ipython",
    "version": 3
   },
   "file_extension": ".py",
   "mimetype": "text/x-python",
   "name": "python",
   "nbconvert_exporter": "python",
   "pygments_lexer": "ipython3",
   "version": "3.12.4"
  }
 },
 "nbformat": 4,
 "nbformat_minor": 2
}
