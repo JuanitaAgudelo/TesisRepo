{
 "cells": [
  {
   "cell_type": "code",
   "execution_count": 1,
   "metadata": {},
   "outputs": [],
   "source": [
    "import pandas as pd\n",
    "from astropy.time import Time\n",
    "import spiceypy as spy\n",
    "import numpy as np\n",
    "import rebound as rb\n",
    "import matplotlib.pyplot as plt\n",
    "from Utils import *\n",
    "from astroquery.jplhorizons import Horizons"
   ]
  },
  {
   "cell_type": "code",
   "execution_count": 2,
   "metadata": {},
   "outputs": [
    {
     "data": {
      "text/html": [
       "<div>\n",
       "<style scoped>\n",
       "    .dataframe tbody tr th:only-of-type {\n",
       "        vertical-align: middle;\n",
       "    }\n",
       "\n",
       "    .dataframe tbody tr th {\n",
       "        vertical-align: top;\n",
       "    }\n",
       "\n",
       "    .dataframe thead th {\n",
       "        text-align: right;\n",
       "    }\n",
       "</style>\n",
       "<table border=\"1\" class=\"dataframe\">\n",
       "  <thead>\n",
       "    <tr style=\"text-align: right;\">\n",
       "      <th></th>\n",
       "      <th>Peak Brightness Date/Time (UT)</th>\n",
       "      <th>Latitude (deg.)</th>\n",
       "      <th>Longitude (deg.)</th>\n",
       "      <th>Altitude (km)</th>\n",
       "      <th>Velocity (km/s)</th>\n",
       "      <th>vx</th>\n",
       "      <th>vy</th>\n",
       "      <th>vz</th>\n",
       "      <th>Total Radiated Energy (J)</th>\n",
       "      <th>Calculated Total Impact Energy (kt)</th>\n",
       "    </tr>\n",
       "  </thead>\n",
       "  <tbody>\n",
       "    <tr>\n",
       "      <th>0</th>\n",
       "      <td>2023-08-05 19:54:50</td>\n",
       "      <td>19.9N</td>\n",
       "      <td>131.7W</td>\n",
       "      <td>44.0</td>\n",
       "      <td>21.8</td>\n",
       "      <td>3.3</td>\n",
       "      <td>20.4</td>\n",
       "      <td>-6.8</td>\n",
       "      <td>1.719000e+12</td>\n",
       "      <td>3.800</td>\n",
       "    </tr>\n",
       "    <tr>\n",
       "      <th>1</th>\n",
       "      <td>2023-07-26 03:41:54</td>\n",
       "      <td>18.9N</td>\n",
       "      <td>103.4W</td>\n",
       "      <td>36.1</td>\n",
       "      <td>15.6</td>\n",
       "      <td>-9.5</td>\n",
       "      <td>12.2</td>\n",
       "      <td>1.9</td>\n",
       "      <td>1.510000e+11</td>\n",
       "      <td>0.440</td>\n",
       "    </tr>\n",
       "    <tr>\n",
       "      <th>2</th>\n",
       "      <td>2023-07-07 16:15:31</td>\n",
       "      <td>14.5N</td>\n",
       "      <td>126.6W</td>\n",
       "      <td>38.3</td>\n",
       "      <td>25.7</td>\n",
       "      <td>2.6</td>\n",
       "      <td>4.1</td>\n",
       "      <td>-25.2</td>\n",
       "      <td>2.600000e+10</td>\n",
       "      <td>0.092</td>\n",
       "    </tr>\n",
       "    <tr>\n",
       "      <th>3</th>\n",
       "      <td>2023-07-06 05:52:31</td>\n",
       "      <td>59.3S</td>\n",
       "      <td>145.4W</td>\n",
       "      <td>71.0</td>\n",
       "      <td>NaN</td>\n",
       "      <td>NaN</td>\n",
       "      <td>NaN</td>\n",
       "      <td>NaN</td>\n",
       "      <td>3.000000e+10</td>\n",
       "      <td>0.100</td>\n",
       "    </tr>\n",
       "    <tr>\n",
       "      <th>4</th>\n",
       "      <td>2023-06-21 19:39:13</td>\n",
       "      <td>12.4N</td>\n",
       "      <td>62.8E</td>\n",
       "      <td>40.4</td>\n",
       "      <td>16.5</td>\n",
       "      <td>7.3</td>\n",
       "      <td>-2.0</td>\n",
       "      <td>-16.4</td>\n",
       "      <td>5.430000e+11</td>\n",
       "      <td>1.400</td>\n",
       "    </tr>\n",
       "    <tr>\n",
       "      <th>...</th>\n",
       "      <td>...</td>\n",
       "      <td>...</td>\n",
       "      <td>...</td>\n",
       "      <td>...</td>\n",
       "      <td>...</td>\n",
       "      <td>...</td>\n",
       "      <td>...</td>\n",
       "      <td>...</td>\n",
       "      <td>...</td>\n",
       "      <td>...</td>\n",
       "    </tr>\n",
       "    <tr>\n",
       "      <th>955</th>\n",
       "      <td>1993-11-29 17:48:41</td>\n",
       "      <td>26.5N</td>\n",
       "      <td>78.3E</td>\n",
       "      <td>NaN</td>\n",
       "      <td>NaN</td>\n",
       "      <td>NaN</td>\n",
       "      <td>NaN</td>\n",
       "      <td>NaN</td>\n",
       "      <td>2.600000e+10</td>\n",
       "      <td>0.092</td>\n",
       "    </tr>\n",
       "    <tr>\n",
       "      <th>956</th>\n",
       "      <td>1993-10-31 03:39:27</td>\n",
       "      <td>51.3N</td>\n",
       "      <td>100.9W</td>\n",
       "      <td>NaN</td>\n",
       "      <td>NaN</td>\n",
       "      <td>NaN</td>\n",
       "      <td>NaN</td>\n",
       "      <td>NaN</td>\n",
       "      <td>4.000000e+10</td>\n",
       "      <td>0.130</td>\n",
       "    </tr>\n",
       "    <tr>\n",
       "      <th>957</th>\n",
       "      <td>1991-10-04 09:22:47</td>\n",
       "      <td>78.7N</td>\n",
       "      <td>6.3E</td>\n",
       "      <td>NaN</td>\n",
       "      <td>NaN</td>\n",
       "      <td>NaN</td>\n",
       "      <td>NaN</td>\n",
       "      <td>NaN</td>\n",
       "      <td>5.500000e+11</td>\n",
       "      <td>1.400</td>\n",
       "    </tr>\n",
       "    <tr>\n",
       "      <th>958</th>\n",
       "      <td>1990-10-01 03:51:47</td>\n",
       "      <td>7.5N</td>\n",
       "      <td>142.8E</td>\n",
       "      <td>NaN</td>\n",
       "      <td>NaN</td>\n",
       "      <td>NaN</td>\n",
       "      <td>NaN</td>\n",
       "      <td>NaN</td>\n",
       "      <td>2.500000e+12</td>\n",
       "      <td>5.200</td>\n",
       "    </tr>\n",
       "    <tr>\n",
       "      <th>959</th>\n",
       "      <td>1988-04-15 03:03:10</td>\n",
       "      <td>4.1S</td>\n",
       "      <td>124.3E</td>\n",
       "      <td>NaN</td>\n",
       "      <td>NaN</td>\n",
       "      <td>NaN</td>\n",
       "      <td>NaN</td>\n",
       "      <td>NaN</td>\n",
       "      <td>7.580000e+12</td>\n",
       "      <td>14.000</td>\n",
       "    </tr>\n",
       "  </tbody>\n",
       "</table>\n",
       "<p>960 rows × 10 columns</p>\n",
       "</div>"
      ],
      "text/plain": [
       "    Peak Brightness Date/Time (UT) Latitude (deg.) Longitude (deg.)  \\\n",
       "0              2023-08-05 19:54:50           19.9N           131.7W   \n",
       "1              2023-07-26 03:41:54           18.9N           103.4W   \n",
       "2              2023-07-07 16:15:31           14.5N           126.6W   \n",
       "3              2023-07-06 05:52:31           59.3S           145.4W   \n",
       "4              2023-06-21 19:39:13           12.4N            62.8E   \n",
       "..                             ...             ...              ...   \n",
       "955            1993-11-29 17:48:41           26.5N            78.3E   \n",
       "956            1993-10-31 03:39:27           51.3N           100.9W   \n",
       "957            1991-10-04 09:22:47           78.7N             6.3E   \n",
       "958            1990-10-01 03:51:47            7.5N           142.8E   \n",
       "959            1988-04-15 03:03:10            4.1S           124.3E   \n",
       "\n",
       "     Altitude (km)  Velocity (km/s)   vx    vy    vz  \\\n",
       "0             44.0             21.8  3.3  20.4  -6.8   \n",
       "1             36.1             15.6 -9.5  12.2   1.9   \n",
       "2             38.3             25.7  2.6   4.1 -25.2   \n",
       "3             71.0              NaN  NaN   NaN   NaN   \n",
       "4             40.4             16.5  7.3  -2.0 -16.4   \n",
       "..             ...              ...  ...   ...   ...   \n",
       "955            NaN              NaN  NaN   NaN   NaN   \n",
       "956            NaN              NaN  NaN   NaN   NaN   \n",
       "957            NaN              NaN  NaN   NaN   NaN   \n",
       "958            NaN              NaN  NaN   NaN   NaN   \n",
       "959            NaN              NaN  NaN   NaN   NaN   \n",
       "\n",
       "     Total Radiated Energy (J)  Calculated Total Impact Energy (kt)  \n",
       "0                 1.719000e+12                                3.800  \n",
       "1                 1.510000e+11                                0.440  \n",
       "2                 2.600000e+10                                0.092  \n",
       "3                 3.000000e+10                                0.100  \n",
       "4                 5.430000e+11                                1.400  \n",
       "..                         ...                                  ...  \n",
       "955               2.600000e+10                                0.092  \n",
       "956               4.000000e+10                                0.130  \n",
       "957               5.500000e+11                                1.400  \n",
       "958               2.500000e+12                                5.200  \n",
       "959               7.580000e+12                               14.000  \n",
       "\n",
       "[960 rows x 10 columns]"
      ]
     },
     "execution_count": 2,
     "metadata": {},
     "output_type": "execute_result"
    }
   ],
   "source": [
    "fireballs = pd.read_csv('datos/cneos_fireball_data_original.csv', comment='#')\n",
    "fireballs"
   ]
  },
  {
   "cell_type": "code",
   "execution_count": 3,
   "metadata": {},
   "outputs": [],
   "source": [
    "fireballs = fireballs.dropna()"
   ]
  },
  {
   "cell_type": "code",
   "execution_count": 4,
   "metadata": {},
   "outputs": [],
   "source": [
    "def change_coord(x):\n",
    "    if x[-1] == 'N' or x[-1] == 'E':\n",
    "        new = float(x[:-1])\n",
    "    elif x[-1] == 'S' or x[-1] == 'W':\n",
    "        new = -float(x[:-1])\n",
    "    return new    "
   ]
  },
  {
   "cell_type": "code",
   "execution_count": null,
   "metadata": {},
   "outputs": [
    {
     "name": "stderr",
     "output_type": "stream",
     "text": [
      "C:\\Users\\aguju\\AppData\\Local\\Temp\\ipykernel_5340\\2173166978.py:1: SettingWithCopyWarning: \n",
      "A value is trying to be set on a copy of a slice from a DataFrame.\n",
      "Try using .loc[row_indexer,col_indexer] = value instead\n",
      "\n",
      "See the caveats in the documentation: https://pandas.pydata.org/pandas-docs/stable/user_guide/indexing.html#returning-a-view-versus-a-copy\n",
      "  fireballs['Longitude (deg.)'] = fireballs['Longitude (deg.)'].apply(change_coord)\n",
      "C:\\Users\\aguju\\AppData\\Local\\Temp\\ipykernel_5340\\2173166978.py:2: SettingWithCopyWarning: \n",
      "A value is trying to be set on a copy of a slice from a DataFrame.\n",
      "Try using .loc[row_indexer,col_indexer] = value instead\n",
      "\n",
      "See the caveats in the documentation: https://pandas.pydata.org/pandas-docs/stable/user_guide/indexing.html#returning-a-view-versus-a-copy\n",
      "  fireballs['Latitude (deg.)'] = fireballs['Latitude (deg.)'].apply(change_coord)\n"
     ]
    }
   ],
   "source": [
    "fireballs['Longitude (deg.)'] = fireballs['Longitude (deg.)'].apply(change_coord)\n",
    "fireballs['Latitude (deg.)'] = fireballs['Latitude (deg.)'].apply(change_coord)"
   ]
  },
  {
   "cell_type": "code",
   "execution_count": 6,
   "metadata": {},
   "outputs": [
    {
     "name": "stderr",
     "output_type": "stream",
     "text": [
      "'wget' is not recognized as an internal or external command,\n",
      "operable program or batch file.\n",
      "'wget' is not recognized as an internal or external command,\n",
      "operable program or batch file.\n",
      "'wget' is not recognized as an internal or external command,\n",
      "operable program or batch file.\n",
      "'wget' is not recognized as an internal or external command,\n",
      "operable program or batch file.\n",
      "'wget' is not recognized as an internal or external command,\n",
      "operable program or batch file.\n",
      "'wget' is not recognized as an internal or external command,\n",
      "operable program or batch file.\n"
     ]
    }
   ],
   "source": [
    "\n",
    "\n",
    "!wget https://naif.jpl.nasa.gov/pub/naif/generic_kernels/lsk/naif0012.tls -O naif0012.tls\n",
    "!wget https://naif.jpl.nasa.gov/pub/naif/generic_kernels/pck/pck00010.tpc -O pck00010.tpc\n",
    "!wget https://naif.jpl.nasa.gov/pub/naif/generic_kernels/pck/earth_fixed.tf -O earth_fixed.tf\n",
    "!wget https://naif.jpl.nasa.gov/pub/naif/generic_kernels/pck/earth_720101_230601.bpc -O earth_720101_230601.bpc\n",
    "!wget https://naif.jpl.nasa.gov/pub/naif/generic_kernels/spk/planets/de438.bsp -O de438.bsp\n",
    "!wget https://naif.jpl.nasa.gov/pub/naif/generic_kernels/pck/earth_latest_high_prec.bpc -O earth_latest_high_prec.bpc\n"
   ]
  },
  {
   "cell_type": "code",
   "execution_count": 36,
   "metadata": {},
   "outputs": [],
   "source": [
    "spy.furnsh(['naif0012.tls', 'pck00010.tpc', 'earth_fixed.tf', 'earth_720101_230601.bpc', 'de438.bsp', 'earth_latest_high_prec.bpc'])"
   ]
  },
  {
   "cell_type": "code",
   "execution_count": 10,
   "metadata": {},
   "outputs": [],
   "source": [
    "lat = fireballs['Latitude (deg.)'].to_numpy()\n",
    "lon = fireballs['Longitude (deg.)'].to_numpy()\n",
    "alt = fireballs['Altitude (km)'].to_numpy()\n",
    "date = fireballs['Peak Brightness Date/Time (UT)'].to_numpy()\n"
   ]
  },
  {
   "cell_type": "code",
   "execution_count": 11,
   "metadata": {},
   "outputs": [],
   "source": [
    "x_earth_ecl = []\n",
    "y_earth_ecl = []\n",
    "z_earth_ecl = []\n",
    "for i in range(len(lat)):\n",
    "    \n",
    "    r_earth_ecl = Geo2Eclip(lat[i],lon[i],alt[i],date[i]) \n",
    "    \n",
    "    x_earth_ecl.append(r_earth_ecl[0])\n",
    "    y_earth_ecl.append(r_earth_ecl[1])\n",
    "    z_earth_ecl.append(r_earth_ecl[2])"
   ]
  },
  {
   "cell_type": "code",
   "execution_count": 12,
   "metadata": {},
   "outputs": [
    {
     "name": "stderr",
     "output_type": "stream",
     "text": [
      "/tmp/ipykernel_26040/1318801435.py:1: SettingWithCopyWarning: \n",
      "A value is trying to be set on a copy of a slice from a DataFrame.\n",
      "Try using .loc[row_indexer,col_indexer] = value instead\n",
      "\n",
      "See the caveats in the documentation: https://pandas.pydata.org/pandas-docs/stable/user_guide/indexing.html#returning-a-view-versus-a-copy\n",
      "  fireballs['x ecliptic'] = x_earth_ecl\n",
      "/tmp/ipykernel_26040/1318801435.py:2: SettingWithCopyWarning: \n",
      "A value is trying to be set on a copy of a slice from a DataFrame.\n",
      "Try using .loc[row_indexer,col_indexer] = value instead\n",
      "\n",
      "See the caveats in the documentation: https://pandas.pydata.org/pandas-docs/stable/user_guide/indexing.html#returning-a-view-versus-a-copy\n",
      "  fireballs['y ecliptic'] = y_earth_ecl\n",
      "/tmp/ipykernel_26040/1318801435.py:3: SettingWithCopyWarning: \n",
      "A value is trying to be set on a copy of a slice from a DataFrame.\n",
      "Try using .loc[row_indexer,col_indexer] = value instead\n",
      "\n",
      "See the caveats in the documentation: https://pandas.pydata.org/pandas-docs/stable/user_guide/indexing.html#returning-a-view-versus-a-copy\n",
      "  fireballs['z ecliptic'] = z_earth_ecl\n"
     ]
    }
   ],
   "source": [
    "fireballs['x ecliptic'] = x_earth_ecl\n",
    "fireballs['y ecliptic'] = y_earth_ecl\n",
    "fireballs['z ecliptic'] = z_earth_ecl"
   ]
  },
  {
   "attachments": {},
   "cell_type": "markdown",
   "metadata": {},
   "source": [
    "### Comparar integración del bólido '2014-01-08 17:05:34' con el paper de Siraj"
   ]
  },
  {
   "cell_type": "code",
   "execution_count": 13,
   "metadata": {},
   "outputs": [],
   "source": [
    "meteor = fireballs.loc[fireballs['Peak Brightness Date/Time (UT)'].str.contains('2014-01-08 17:05:34')]"
   ]
  },
  {
   "cell_type": "code",
   "execution_count": 14,
   "metadata": {},
   "outputs": [
    {
     "name": "stdout",
     "output_type": "stream",
     "text": [
      "Object : \n"
     ]
    },
    {
     "data": {
      "text/html": [
       "<div>\n",
       "<style scoped>\n",
       "    .dataframe tbody tr th:only-of-type {\n",
       "        vertical-align: middle;\n",
       "    }\n",
       "\n",
       "    .dataframe tbody tr th {\n",
       "        vertical-align: top;\n",
       "    }\n",
       "\n",
       "    .dataframe thead th {\n",
       "        text-align: right;\n",
       "    }\n",
       "</style>\n",
       "<table border=\"1\" class=\"dataframe\">\n",
       "  <thead>\n",
       "    <tr style=\"text-align: right;\">\n",
       "      <th></th>\n",
       "      <th>Peak Brightness Date/Time (UT)</th>\n",
       "      <th>Latitude (deg.)</th>\n",
       "      <th>Longitude (deg.)</th>\n",
       "      <th>Altitude (km)</th>\n",
       "      <th>Velocity (km/s)</th>\n",
       "      <th>vx</th>\n",
       "      <th>vy</th>\n",
       "      <th>vz</th>\n",
       "      <th>Total Radiated Energy (J)</th>\n",
       "      <th>Calculated Total Impact Energy (kt)</th>\n",
       "      <th>x ecliptic</th>\n",
       "      <th>y ecliptic</th>\n",
       "      <th>z ecliptic</th>\n",
       "    </tr>\n",
       "  </thead>\n",
       "  <tbody>\n",
       "    <tr>\n",
       "      <th>355</th>\n",
       "      <td>2014-01-08 17:05:34</td>\n",
       "      <td>-1.3</td>\n",
       "      <td>147.6</td>\n",
       "      <td>18.7</td>\n",
       "      <td>44.8</td>\n",
       "      <td>-3.4</td>\n",
       "      <td>-43.5</td>\n",
       "      <td>-10.3</td>\n",
       "      <td>3.100000e+10</td>\n",
       "      <td>0.11</td>\n",
       "      <td>-5393.678116</td>\n",
       "      <td>1091.817339</td>\n",
       "      <td>3249.252992</td>\n",
       "    </tr>\n",
       "  </tbody>\n",
       "</table>\n",
       "</div>"
      ],
      "text/plain": [
       "    Peak Brightness Date/Time (UT)  Latitude (deg.)  Longitude (deg.)  \\\n",
       "355            2014-01-08 17:05:34             -1.3             147.6   \n",
       "\n",
       "     Altitude (km)  Velocity (km/s)   vx    vy    vz  \\\n",
       "355           18.7             44.8 -3.4 -43.5 -10.3   \n",
       "\n",
       "     Total Radiated Energy (J)  Calculated Total Impact Energy (kt)  \\\n",
       "355               3.100000e+10                                 0.11   \n",
       "\n",
       "      x ecliptic   y ecliptic   z ecliptic  \n",
       "355 -5393.678116  1091.817339  3249.252992  "
      ]
     },
     "execution_count": 14,
     "metadata": {},
     "output_type": "execute_result"
    }
   ],
   "source": [
    "print('Object : ')\n",
    "meteor"
   ]
  },
  {
   "cell_type": "code",
   "execution_count": 15,
   "metadata": {},
   "outputs": [],
   "source": [
    "#PARAMETERS \n",
    "\n",
    "date = meteor['Peak Brightness Date/Time (UT)'][355]\n",
    "lon = meteor['Longitude (deg.)'][355]\n",
    "lat = meteor['Latitude (deg.)'][355]\n",
    "alt = meteor['Altitude (km)'][355]\n",
    "vx = meteor['vx'][355]\n",
    "vy = meteor['vy'][355]\n",
    "vz = meteor['vz'][355]\n",
    "x_eclip = meteor['x ecliptic'][355]\n",
    "y_eclip = meteor['y ecliptic'][355]\n",
    "z_eclip = meteor['z ecliptic'][355]"
   ]
  },
  {
   "cell_type": "code",
   "execution_count": 16,
   "metadata": {},
   "outputs": [
    {
     "name": "stdout",
     "output_type": "stream",
     "text": [
      "Velocidad del asteroide antes del impacto respecto a la tierra \n",
      "[ -3.4 -43.5 -10.3] 44.83190827970632\n"
     ]
    }
   ],
   "source": [
    "#meteor's pre-impact velocity in a geocentric Earth-fixed reference frame\n",
    "v = np.array([vx, vy, vz])   \n",
    "\n",
    "T_earth = 86400\n",
    "\n",
    "#vector velocidad de rotación\n",
    "omega = np.array([0,0,(2*np.pi)/T_earth]) \n",
    "\n",
    "print('Velocidad del asteroide antes del impacto respecto a la tierra ')\n",
    "print(v, mag(v))  \n"
   ]
  },
  {
   "cell_type": "code",
   "execution_count": 17,
   "metadata": {},
   "outputs": [
    {
     "name": "stdout",
     "output_type": "stream",
     "text": [
      "[-5399.64687765  3426.72010848  -144.1587164 ]\n",
      "[-5393.67811613  1091.81733861  3249.25299229]\n"
     ]
    }
   ],
   "source": [
    "#posición del meteoro en coordenadas rectangulares respecto a la tierra \n",
    "r = Geo2Rec(lon, lat, alt)\n",
    "print(r)\n",
    "\n",
    "r_iner = np.array([x_eclip, y_eclip, z_eclip]) \n",
    "print(r_iner)\n"
   ]
  },
  {
   "cell_type": "code",
   "execution_count": 18,
   "metadata": {},
   "outputs": [
    {
     "data": {
      "text/plain": [
       "(array([ -3.15080188, -43.1073266 , -10.3       ]),\n",
       " array([ 3.4, 43.5, 10.3]),\n",
       " 44.4326361915465,\n",
       " 116.78101435530589)"
      ]
     },
     "execution_count": 18,
     "metadata": {},
     "output_type": "execute_result"
    }
   ],
   "source": [
    "v_E = (v - spy.vcrss(omega, r))\n",
    "v_E, -v, mag(v_E), np.arccos((v@r)/(np.linalg.norm(v)*np.linalg.norm(r)))*180/np.pi\n"
   ]
  },
  {
   "cell_type": "code",
   "execution_count": 19,
   "metadata": {},
   "outputs": [
    {
     "name": "stdout",
     "output_type": "stream",
     "text": [
      "Matriz de rotación \n",
      "[[ 0.99716246 -0.07526728  0.00136306]\n",
      " [ 0.06851585  0.91492118  0.39777482]\n",
      " [-0.03118652 -0.39655273  0.91748206]]\n",
      "Posición asteroide inercial ecliptico: [-5642.44156711  2707.87470299 -1322.7420744 ]\n",
      "Velocidad asteroide inercial ecliptico: [  0.08867015 -43.75276672   7.7425255 ]\n",
      "Magnitud velocidad: 44.4326361915465\n"
     ]
    }
   ],
   "source": [
    "et = spy.utc2et(date)\n",
    "mx = spy.pxform('IAU_EARTH', 'ECLIPJ2000', et)\n",
    "print(\"Matriz de rotación \")\n",
    "print(mx)\n",
    "\n",
    "r_eclip = spy.mxv(mx, r)\n",
    "v_eclip = spy.mxv(mx, v_E)\n",
    "\n",
    "print(f\"Posición asteroide inercial ecliptico: {r_eclip}\")\n",
    "print(f\"Velocidad asteroide inercial ecliptico: {v_eclip}\")\n",
    "print(f\"Magnitud velocidad: {mag(v_eclip)}\")"
   ]
  },
  {
   "cell_type": "code",
   "execution_count": 20,
   "metadata": {},
   "outputs": [
    {
     "data": {
      "text/html": [
       "<div><i>Table masked=True length=2</i>\n",
       "<table id=\"table139656965907184\" class=\"table-striped table-bordered table-condensed\">\n",
       "<thead><tr><th>targetname</th><th>datetime_jd</th><th>datetime_str</th><th>x</th><th>y</th><th>z</th><th>vx</th><th>vy</th><th>vz</th><th>lighttime</th><th>range</th><th>range_rate</th></tr></thead>\n",
       "<thead><tr><th>---</th><th>d</th><th>---</th><th>AU</th><th>AU</th><th>AU</th><th>AU / d</th><th>AU / d</th><th>AU / d</th><th>d</th><th>AU</th><th>AU / d</th></tr></thead>\n",
       "<thead><tr><th>str11</th><th>float64</th><th>str30</th><th>float64</th><th>float64</th><th>float64</th><th>float64</th><th>float64</th><th>float64</th><th>float64</th><th>float64</th><th>float64</th></tr></thead>\n",
       "<tr><td>Earth (399)</td><td>2456737.5</td><td>A.D. 2014-Mar-21 00:00:00.0000</td><td>-0.9945468211497613</td><td>-0.003722207387582296</td><td>-0.0001020957168866397</td><td>-0.0002507165931815516</td><td>-0.01726151078274061</td><td>-1.703512565068483e-07</td><td>0.005744063655928266</td><td>0.9945537917631541</td><td>0.0003153176165069349</td></tr>\n",
       "<tr><td>Earth (399)</td><td>2456738.5</td><td>A.D. 2014-Mar-22 00:00:00.0000</td><td>-0.9946489028189718</td><td>-0.0209832991638009</td><td>-0.0001022309209574547</td><td>4.656936758353987e-05</td><td>-0.01725985104532338</td><td>-9.456438268899956e-08</td><td>0.005745891177136442</td><td>0.9948702172514479</td><td>0.0003174770455735695</td></tr>\n",
       "</table></div>"
      ],
      "text/plain": [
       "<Table masked=True length=2>\n",
       " targetname datetime_jd ...       range              range_rate     \n",
       "    ---          d      ...         AU                 AU / d       \n",
       "   str11      float64   ...      float64              float64       \n",
       "----------- ----------- ... ------------------ ---------------------\n",
       "Earth (399)   2456737.5 ... 0.9945537917631541 0.0003153176165069349\n",
       "Earth (399)   2456738.5 ... 0.9948702172514479 0.0003174770455735695"
      ]
     },
     "execution_count": 20,
     "metadata": {},
     "output_type": "execute_result"
    }
   ],
   "source": [
    "Horizons(id = '399', location='@0', epochs = dict(start = '2014-03-21', stop = '2014-03-22', step = '1d')).vectors()"
   ]
  },
  {
   "cell_type": "code",
   "execution_count": 21,
   "metadata": {},
   "outputs": [
    {
     "name": "stdout",
     "output_type": "stream",
     "text": [
      "Searching NASA Horizons for 'Sun'... \n",
      "Found: Sun (10) \n",
      "Searching NASA Horizons for 'Earth'... \n",
      "Found: Earth-Moon Barycenter (3) (chosen from query 'Earth')\n"
     ]
    },
    {
     "data": {
      "text/plain": [
       "(array([-4.56682168e+07,  1.39459114e+08, -1.96792418e+04]),\n",
       " array([-28.69279537, -53.1376722 ,   7.74260786]),\n",
       " array([-4.56625744e+07,  1.39456406e+08, -1.83564997e+04]),\n",
       " array([-2.87814655e+01, -9.38490548e+00,  8.23593561e-05]),\n",
       " 42.438492349511534,\n",
       " 60.883796606945346)"
      ]
     },
     "execution_count": 21,
     "metadata": {},
     "output_type": "execute_result"
    }
   ],
   "source": [
    "sim = rb.Simulation()\n",
    "sim.units = 'km', 's', 'kg'\n",
    "sim.integrator = \"ias15\"\n",
    "\n",
    "sun = sim.add(\"Sun\", hash='sun', date=date)\n",
    "earth = sim.add(\"Earth\", hash='earth', date=date)\n",
    "\n",
    "r_earth = np.array(sim.particles['earth'].xyz)\n",
    "v_earth = np.array(sim.particles['earth'].vxyz)\n",
    "\n",
    "r_asteroid = r_eclip  + r_earth \n",
    "v_asteroid = v_eclip + v_earth #así si es \n",
    "\n",
    "#v_asteroid = -v_eclip + v_earth #esto es errado \n",
    "v_esc = (2*sim.G*1.98e30/((r_asteroid@r_asteroid)**0.5))**0.5\n",
    "\n",
    "asteroid = sim.add(x=r_asteroid[0], y=r_asteroid[1], z=r_asteroid[2], \n",
    "                   vx=v_asteroid[0], vy=v_asteroid[1], vz=v_asteroid[2],)\n",
    "r_asteroid, v_asteroid, r_earth, v_earth, v_esc, mag(v_asteroid)"
   ]
  },
  {
   "cell_type": "code",
   "execution_count": 42,
   "metadata": {},
   "outputs": [
    {
     "data": {
      "text/plain": [
       "(11.170665203719915, 43.0055275265486, 44.4326361915465)"
      ]
     },
     "execution_count": 42,
     "metadata": {},
     "output_type": "execute_result"
    }
   ],
   "source": [
    "v_esc_E = (2*sim.G*5.98e24/((r@r)**0.5))**0.5\n",
    "v_mag = mag(v_eclip)\n",
    "v_inf_E = (v_mag**2 - v_esc_E**2)**0.5\n",
    "v_esc_E, v_inf_E, v_mag"
   ]
  },
  {
   "cell_type": "code",
   "execution_count": 43,
   "metadata": {},
   "outputs": [
    {
     "name": "stdout",
     "output_type": "stream",
     "text": [
      "---------------------------------\n",
      "REBOUND version:     \t3.23.5\n",
      "REBOUND built on:    \tMar  2 2023 13:22:06\n",
      "Number of particles: \t3\n",
      "Selected integrator: \tias15\n",
      "Simulation time:     \t0.0000000000000000e+00\n",
      "Current timestep:    \t0.001000\n",
      "---------------------------------\n",
      "<rebound.particle.Particle object at 0x7fcb7ff536c0, m=1.9884754159566474e+30 x=154505.2265538892 y=-338056.7291831016 z=-14068.46131306503 vx=0.01044665676699867 vy=0.004186721288873228 vz=-0.0002423673964135767>\n",
      "<rebound.particle.Particle object at 0x7fcb7ff521c0, m=6.045825576341311e+24 x=-45662574.40348314 y=139456406.3682046 z=-18356.49972175807 vx=-28.78146551981982 vy=-9.384905480708625 vz=8.235935607459055e-05>\n",
      "<rebound.particle.Particle object at 0x7fcb7ff536c0, m=0.0 x=-45668216.84505025 y=139459114.24290758 z=-19679.241796156795 vx=-28.692795370927715 vy=-53.1376721976239 vz=7.74260786142672>\n",
      "---------------------------------\n"
     ]
    }
   ],
   "source": [
    "sim.status()"
   ]
  },
  {
   "cell_type": "code",
   "execution_count": 44,
   "metadata": {},
   "outputs": [
    {
     "data": {
      "text/plain": [
       "(2.3735204241631296, -0.46600352883966073)"
      ]
     },
     "execution_count": 44,
     "metadata": {},
     "output_type": "execute_result"
    }
   ],
   "source": [
    "sim.move_to_com()\n",
    "o = sim.calculate_orbits(primary=sun)\n",
    "o[1].e, o[1].a/1.496e8  #Verdaderos elementos orbitales (correctos)"
   ]
  },
  {
   "cell_type": "code",
   "execution_count": null,
   "metadata": {},
   "outputs": [],
   "source": [
    "state = [r_eclip[205][0], r_eclip[205][1], r_eclip[205][2], v_eclip[205][0], v_eclip[205][1], v_eclip[205][2]]\n",
    "et = spy.utc2et(date[205])\n",
    "sim = rb.Simulation()\n",
    "sim.units = 'km', 's', 'kg'\n",
    "mu = 1.98847e30*sim.G\n",
    " "
   ]
  },
  {
   "cell_type": "code",
   "execution_count": 25,
   "metadata": {},
   "outputs": [],
   "source": [
    "r_eclip, v_eclip\n",
    "state = [r_eclip[0], r_eclip[1], r_eclip[2], v_eclip[0], v_eclip[1], v_eclip[2]]\n",
    "mu = 1.98847e30*sim.G"
   ]
  },
  {
   "cell_type": "code",
   "execution_count": 26,
   "metadata": {},
   "outputs": [
    {
     "data": {
      "text/plain": [
       "array([2.41464109e-01, 9.99924509e-01, 2.27512896e-01, 3.84440267e+00,\n",
       "       1.98165079e+00, 3.15413678e+00, 4.42472801e+08, 1.32712079e+11])"
      ]
     },
     "execution_count": 26,
     "metadata": {},
     "output_type": "execute_result"
    }
   ],
   "source": [
    "spy.oscelt(state, et, mu)"
   ]
  },
  {
   "cell_type": "code",
   "execution_count": 27,
   "metadata": {},
   "outputs": [],
   "source": [
    "r_eclip, v_eclip\n",
    "state = [r_asteroid[0], r_asteroid[1], r_asteroid[2], v_asteroid[0], v_asteroid[1], v_asteroid[2]]\n",
    "mu = 1.98847e30*sim.G"
   ]
  },
  {
   "cell_type": "code",
   "execution_count": 28,
   "metadata": {},
   "outputs": [
    {
     "data": {
      "text/plain": [
       "array([ 9.54224324e+07,  2.36477371e+00,  1.74822513e-01,  1.88801691e+00,\n",
       "        1.04370242e+00, -1.23379674e+00,  4.42472801e+08,  1.32712079e+11])"
      ]
     },
     "execution_count": 28,
     "metadata": {},
     "output_type": "execute_result"
    }
   ],
   "source": [
    "spy.oscelt(state, et, mu)"
   ]
  },
  {
   "attachments": {},
   "cell_type": "markdown",
   "metadata": {},
   "source": [
    "### corregir constantes"
   ]
  },
  {
   "cell_type": "code",
   "execution_count": 46,
   "metadata": {},
   "outputs": [
    {
     "name": "stdout",
     "output_type": "stream",
     "text": [
      "Searching NASA Horizons for 'Sun'... \n",
      "Found: Sun (10) \n",
      "Searching NASA Horizons for 'Earth'... \n",
      "Found: Earth-Moon Barycenter (3) (chosen from query 'Earth')\n"
     ]
    },
    {
     "data": {
      "text/plain": [
       "(2.3735204241631296, -0.46600352883966073)"
      ]
     },
     "execution_count": 46,
     "metadata": {},
     "output_type": "execute_result"
    }
   ],
   "source": [
    "sim = rb.Simulation()\n",
    "sim.units = 'km', 's', 'kg'\n",
    "sim.integrator = \"ias15\"\n",
    "\n",
    "sun = sim.add(\"Sun\", hash='sun', date=date)\n",
    "earth = sim.add(\"Earth\", hash='earth', date=date)\n",
    "\n",
    "r_earth = np.array(sim.particles['earth'].xyz)\n",
    "v_earth = np.array(sim.particles['earth'].vxyz)\n",
    "\n",
    "r_asteroid = r_eclip  + r_earth \n",
    "#v_asteroid = v_eclip + v_earth #así si es \n",
    "\n",
    "v_asteroid = -v_eclip + v_earth #esto es errado \n",
    "v_esc = (2*sim.G*1.98e30/((r_asteroid@r_asteroid)**0.5))**0.5\n",
    "\n",
    "asteroid = sim.add(x=r_asteroid[0], y=r_asteroid[1], z=r_asteroid[2], \n",
    "                   vx=v_asteroid[0], vy=v_asteroid[1], vz=v_asteroid[2],)\n",
    "r_asteroid, v_asteroid, r_earth, v_earth, v_esc, mag(v_asteroid)\n",
    "\n",
    "sim.move_to_com()\n",
    "o = sim.calculate_orbits(primary=sun)\n",
    "o[1].e, o[1].a/1.496e8 "
   ]
  },
  {
   "cell_type": "code",
   "execution_count": 65,
   "metadata": {},
   "outputs": [
    {
     "name": "stdout",
     "output_type": "stream",
     "text": [
      "---------------------------------\n",
      "REBOUND version:     \t3.23.5\n",
      "REBOUND built on:    \tMar  2 2023 13:22:06\n",
      "Number of particles: \t2\n",
      "Selected integrator: \tias15\n",
      "Simulation time:     \t0.0000000000000000e+00\n",
      "Current timestep:    \t0.001000\n",
      "---------------------------------\n",
      "<rebound.particle.Particle object at 0x7f9b1e6719c0, m=1.9884754159566474e+30 x=0.0 y=-5.820766091346741e-11 z=1.8189894035458565e-12 vx=0.0 vy=0.0 vz=0.0>\n",
      "<rebound.particle.Particle object at 0x7f9b54b49240, m=0.0 x=-45822722.07160414 y=139797170.9720907 z=-5610.780483091763 vx=-0.01044665676699867 vy=-0.004186721288873228 vz=0.0002423673964135767>\n",
      "---------------------------------\n"
     ]
    }
   ],
   "source": [
    "sim.status()"
   ]
  },
  {
   "cell_type": "code",
   "execution_count": 31,
   "metadata": {},
   "outputs": [
    {
     "data": {
      "text/plain": [
       "43.65559593427102"
      ]
     },
     "execution_count": 31,
     "metadata": {},
     "output_type": "execute_result"
    }
   ],
   "source": [
    "v_mag = (v_asteroid@v_asteroid)**0.5\n",
    "v_inf = (v_mag**2 - v_esc**2)**0.5\n",
    "v_inf"
   ]
  },
  {
   "cell_type": "code",
   "execution_count": 37,
   "metadata": {},
   "outputs": [
    {
     "data": {
      "text/plain": [
       "nan"
      ]
     },
     "execution_count": 37,
     "metadata": {},
     "output_type": "execute_result"
    }
   ],
   "source": [
    "o = sim.calculate_orbits(primary='sun')\n",
    "o[0].e"
   ]
  },
  {
   "cell_type": "code",
   "execution_count": 95,
   "metadata": {},
   "outputs": [
    {
     "data": {
      "text/plain": [
       "(array([-2.87814655e+01, -9.38490548e+00,  8.23593561e-05]),\n",
       " array([-28.87013567,  34.36786124,  -7.74244314]),\n",
       " 45.54755806076936,\n",
       " 42.439118397423954)"
      ]
     },
     "execution_count": 95,
     "metadata": {},
     "output_type": "execute_result"
    }
   ],
   "source": [
    "v_earth, v_asteroid, (v_asteroid@v_asteroid)**0.5, (2*sim.G*1.98e30/((r_earth@r_earth)**0.5))**0.5"
   ]
  },
  {
   "cell_type": "code",
   "execution_count": 18,
   "metadata": {},
   "outputs": [],
   "source": [
    "v_iner = spy.mxv(mx, v_E - spy.vcrss(omega_vec, r_E))\n",
    "r_iner = np.array([x_eclip, y_eclip, z_eclip]) "
   ]
  },
  {
   "cell_type": "code",
   "execution_count": 19,
   "metadata": {},
   "outputs": [
    {
     "name": "stdout",
     "output_type": "stream",
     "text": [
      "Searching NASA Horizons for 'Sun'... \n",
      "Found: Sun (10) \n",
      "Searching NASA Horizons for 'Earth'... \n",
      "Found: Earth-Moon Barycenter (3) (chosen from query 'Earth')\n"
     ]
    }
   ],
   "source": [
    "sim = rb.Simulation()\n",
    "sim.integrator = \"ias15\"\n",
    "\n",
    "sim.add(\"Sun\",hash='sun')\n",
    "sim.add(\"Earth\",hash='earth')\n",
    "\n",
    "r_earth = sim.particles['earth'].xyz\n",
    "v_earth = sim.particles['earth'].vxyz\n",
    "\n",
    "r_asteroid = r_iner + r_earth\n",
    "v_asteroid = v_iner + v_earth\n",
    "\n",
    "v_esc = (2*sim.G*1.98e30/((r_asteroid@r_asteroid)**0.5))**0.5\n",
    "\n",
    "sim.add(x=r_asteroid[0], y=r_asteroid[1], z=r_asteroid[2])\n"
   ]
  }
 ],
 "metadata": {
  "kernelspec": {
   "display_name": "Python 3",
   "language": "python",
   "name": "python3"
  },
  "language_info": {
   "codemirror_mode": {
    "name": "ipython",
    "version": 3
   },
   "file_extension": ".py",
   "mimetype": "text/x-python",
   "name": "python",
   "nbconvert_exporter": "python",
   "pygments_lexer": "ipython3",
   "version": "3.12.4"
  },
  "orig_nbformat": 4
 },
 "nbformat": 4,
 "nbformat_minor": 2
}
