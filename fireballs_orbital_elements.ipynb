{
 "cells": [
  {
   "cell_type": "code",
   "execution_count": 1,
   "metadata": {},
   "outputs": [],
   "source": [
    "import pandas as pd\n",
    "import datetime\n",
    "from astropy.time import Time\n",
    "import spiceypy as spy\n",
    "import numpy as np\n",
    "import rebound as rb\n",
    "import matplotlib.pyplot as plt\n",
    "from Utils import *\n",
    "from astroquery.jplhorizons import Horizons\n",
    "import spiceypy as spy"
   ]
  },
  {
   "cell_type": "code",
   "execution_count": 2,
   "metadata": {},
   "outputs": [
    {
     "data": {
      "text/html": [
       "<div>\n",
       "<style scoped>\n",
       "    .dataframe tbody tr th:only-of-type {\n",
       "        vertical-align: middle;\n",
       "    }\n",
       "\n",
       "    .dataframe tbody tr th {\n",
       "        vertical-align: top;\n",
       "    }\n",
       "\n",
       "    .dataframe thead th {\n",
       "        text-align: right;\n",
       "    }\n",
       "</style>\n",
       "<table border=\"1\" class=\"dataframe\">\n",
       "  <thead>\n",
       "    <tr style=\"text-align: right;\">\n",
       "      <th></th>\n",
       "      <th>Peak Brightness Date/Time (UT)</th>\n",
       "      <th>Latitude (deg.)</th>\n",
       "      <th>Longitude (deg.)</th>\n",
       "      <th>Altitude (km)</th>\n",
       "      <th>Velocity (km/s)</th>\n",
       "      <th>vx</th>\n",
       "      <th>vy</th>\n",
       "      <th>vz</th>\n",
       "      <th>Total Radiated Energy (J)</th>\n",
       "      <th>Calculated Total Impact Energy (kt)</th>\n",
       "    </tr>\n",
       "  </thead>\n",
       "  <tbody>\n",
       "    <tr>\n",
       "      <th>0</th>\n",
       "      <td>2023-08-05 19:54:50</td>\n",
       "      <td>19.9N</td>\n",
       "      <td>131.7W</td>\n",
       "      <td>44.0</td>\n",
       "      <td>21.8</td>\n",
       "      <td>3.3</td>\n",
       "      <td>20.4</td>\n",
       "      <td>-6.8</td>\n",
       "      <td>1.719000e+12</td>\n",
       "      <td>3.800</td>\n",
       "    </tr>\n",
       "    <tr>\n",
       "      <th>1</th>\n",
       "      <td>2023-07-26 03:41:54</td>\n",
       "      <td>18.9N</td>\n",
       "      <td>103.4W</td>\n",
       "      <td>36.1</td>\n",
       "      <td>15.6</td>\n",
       "      <td>-9.5</td>\n",
       "      <td>12.2</td>\n",
       "      <td>1.9</td>\n",
       "      <td>1.510000e+11</td>\n",
       "      <td>0.440</td>\n",
       "    </tr>\n",
       "    <tr>\n",
       "      <th>2</th>\n",
       "      <td>2023-07-07 16:15:31</td>\n",
       "      <td>14.5N</td>\n",
       "      <td>126.6W</td>\n",
       "      <td>38.3</td>\n",
       "      <td>25.7</td>\n",
       "      <td>2.6</td>\n",
       "      <td>4.1</td>\n",
       "      <td>-25.2</td>\n",
       "      <td>2.600000e+10</td>\n",
       "      <td>0.092</td>\n",
       "    </tr>\n",
       "    <tr>\n",
       "      <th>3</th>\n",
       "      <td>2023-07-06 05:52:31</td>\n",
       "      <td>59.3S</td>\n",
       "      <td>145.4W</td>\n",
       "      <td>71.0</td>\n",
       "      <td>NaN</td>\n",
       "      <td>NaN</td>\n",
       "      <td>NaN</td>\n",
       "      <td>NaN</td>\n",
       "      <td>3.000000e+10</td>\n",
       "      <td>0.100</td>\n",
       "    </tr>\n",
       "    <tr>\n",
       "      <th>4</th>\n",
       "      <td>2023-06-21 19:39:13</td>\n",
       "      <td>12.4N</td>\n",
       "      <td>62.8E</td>\n",
       "      <td>40.4</td>\n",
       "      <td>16.5</td>\n",
       "      <td>7.3</td>\n",
       "      <td>-2.0</td>\n",
       "      <td>-16.4</td>\n",
       "      <td>5.430000e+11</td>\n",
       "      <td>1.400</td>\n",
       "    </tr>\n",
       "    <tr>\n",
       "      <th>...</th>\n",
       "      <td>...</td>\n",
       "      <td>...</td>\n",
       "      <td>...</td>\n",
       "      <td>...</td>\n",
       "      <td>...</td>\n",
       "      <td>...</td>\n",
       "      <td>...</td>\n",
       "      <td>...</td>\n",
       "      <td>...</td>\n",
       "      <td>...</td>\n",
       "    </tr>\n",
       "    <tr>\n",
       "      <th>955</th>\n",
       "      <td>1993-11-29 17:48:41</td>\n",
       "      <td>26.5N</td>\n",
       "      <td>78.3E</td>\n",
       "      <td>NaN</td>\n",
       "      <td>NaN</td>\n",
       "      <td>NaN</td>\n",
       "      <td>NaN</td>\n",
       "      <td>NaN</td>\n",
       "      <td>2.600000e+10</td>\n",
       "      <td>0.092</td>\n",
       "    </tr>\n",
       "    <tr>\n",
       "      <th>956</th>\n",
       "      <td>1993-10-31 03:39:27</td>\n",
       "      <td>51.3N</td>\n",
       "      <td>100.9W</td>\n",
       "      <td>NaN</td>\n",
       "      <td>NaN</td>\n",
       "      <td>NaN</td>\n",
       "      <td>NaN</td>\n",
       "      <td>NaN</td>\n",
       "      <td>4.000000e+10</td>\n",
       "      <td>0.130</td>\n",
       "    </tr>\n",
       "    <tr>\n",
       "      <th>957</th>\n",
       "      <td>1991-10-04 09:22:47</td>\n",
       "      <td>78.7N</td>\n",
       "      <td>6.3E</td>\n",
       "      <td>NaN</td>\n",
       "      <td>NaN</td>\n",
       "      <td>NaN</td>\n",
       "      <td>NaN</td>\n",
       "      <td>NaN</td>\n",
       "      <td>5.500000e+11</td>\n",
       "      <td>1.400</td>\n",
       "    </tr>\n",
       "    <tr>\n",
       "      <th>958</th>\n",
       "      <td>1990-10-01 03:51:47</td>\n",
       "      <td>7.5N</td>\n",
       "      <td>142.8E</td>\n",
       "      <td>NaN</td>\n",
       "      <td>NaN</td>\n",
       "      <td>NaN</td>\n",
       "      <td>NaN</td>\n",
       "      <td>NaN</td>\n",
       "      <td>2.500000e+12</td>\n",
       "      <td>5.200</td>\n",
       "    </tr>\n",
       "    <tr>\n",
       "      <th>959</th>\n",
       "      <td>1988-04-15 03:03:10</td>\n",
       "      <td>4.1S</td>\n",
       "      <td>124.3E</td>\n",
       "      <td>NaN</td>\n",
       "      <td>NaN</td>\n",
       "      <td>NaN</td>\n",
       "      <td>NaN</td>\n",
       "      <td>NaN</td>\n",
       "      <td>7.580000e+12</td>\n",
       "      <td>14.000</td>\n",
       "    </tr>\n",
       "  </tbody>\n",
       "</table>\n",
       "<p>960 rows × 10 columns</p>\n",
       "</div>"
      ],
      "text/plain": [
       "    Peak Brightness Date/Time (UT) Latitude (deg.) Longitude (deg.)  \\\n",
       "0              2023-08-05 19:54:50           19.9N           131.7W   \n",
       "1              2023-07-26 03:41:54           18.9N           103.4W   \n",
       "2              2023-07-07 16:15:31           14.5N           126.6W   \n",
       "3              2023-07-06 05:52:31           59.3S           145.4W   \n",
       "4              2023-06-21 19:39:13           12.4N            62.8E   \n",
       "..                             ...             ...              ...   \n",
       "955            1993-11-29 17:48:41           26.5N            78.3E   \n",
       "956            1993-10-31 03:39:27           51.3N           100.9W   \n",
       "957            1991-10-04 09:22:47           78.7N             6.3E   \n",
       "958            1990-10-01 03:51:47            7.5N           142.8E   \n",
       "959            1988-04-15 03:03:10            4.1S           124.3E   \n",
       "\n",
       "     Altitude (km)  Velocity (km/s)   vx    vy    vz  \\\n",
       "0             44.0             21.8  3.3  20.4  -6.8   \n",
       "1             36.1             15.6 -9.5  12.2   1.9   \n",
       "2             38.3             25.7  2.6   4.1 -25.2   \n",
       "3             71.0              NaN  NaN   NaN   NaN   \n",
       "4             40.4             16.5  7.3  -2.0 -16.4   \n",
       "..             ...              ...  ...   ...   ...   \n",
       "955            NaN              NaN  NaN   NaN   NaN   \n",
       "956            NaN              NaN  NaN   NaN   NaN   \n",
       "957            NaN              NaN  NaN   NaN   NaN   \n",
       "958            NaN              NaN  NaN   NaN   NaN   \n",
       "959            NaN              NaN  NaN   NaN   NaN   \n",
       "\n",
       "     Total Radiated Energy (J)  Calculated Total Impact Energy (kt)  \n",
       "0                 1.719000e+12                                3.800  \n",
       "1                 1.510000e+11                                0.440  \n",
       "2                 2.600000e+10                                0.092  \n",
       "3                 3.000000e+10                                0.100  \n",
       "4                 5.430000e+11                                1.400  \n",
       "..                         ...                                  ...  \n",
       "955               2.600000e+10                                0.092  \n",
       "956               4.000000e+10                                0.130  \n",
       "957               5.500000e+11                                1.400  \n",
       "958               2.500000e+12                                5.200  \n",
       "959               7.580000e+12                               14.000  \n",
       "\n",
       "[960 rows x 10 columns]"
      ]
     },
     "execution_count": 2,
     "metadata": {},
     "output_type": "execute_result"
    }
   ],
   "source": [
    "fireballs = pd.read_csv('datos/cneos_fireball_data_original.csv', comment='#')\n",
    "fireballs"
   ]
  },
  {
   "cell_type": "code",
   "execution_count": 3,
   "metadata": {},
   "outputs": [],
   "source": [
    "fireballs = fireballs.dropna()\n"
   ]
  },
  {
   "cell_type": "code",
   "execution_count": 4,
   "metadata": {},
   "outputs": [],
   "source": [
    "def change_coord(x):\n",
    "    if x[-1] == 'N' or x[-1] == 'E':\n",
    "        new = float(x[:-1])\n",
    "    elif x[-1] == 'S' or x[-1] == 'W':\n",
    "        new = -float(x[:-1])\n",
    "    return new    "
   ]
  },
  {
   "cell_type": "code",
   "execution_count": 5,
   "metadata": {},
   "outputs": [
    {
     "name": "stderr",
     "output_type": "stream",
     "text": [
      "C:\\Users\\aguju\\AppData\\Local\\Temp\\ipykernel_31072\\2173166978.py:1: SettingWithCopyWarning: \n",
      "A value is trying to be set on a copy of a slice from a DataFrame.\n",
      "Try using .loc[row_indexer,col_indexer] = value instead\n",
      "\n",
      "See the caveats in the documentation: https://pandas.pydata.org/pandas-docs/stable/user_guide/indexing.html#returning-a-view-versus-a-copy\n",
      "  fireballs['Longitude (deg.)'] = fireballs['Longitude (deg.)'].apply(change_coord)\n",
      "C:\\Users\\aguju\\AppData\\Local\\Temp\\ipykernel_31072\\2173166978.py:2: SettingWithCopyWarning: \n",
      "A value is trying to be set on a copy of a slice from a DataFrame.\n",
      "Try using .loc[row_indexer,col_indexer] = value instead\n",
      "\n",
      "See the caveats in the documentation: https://pandas.pydata.org/pandas-docs/stable/user_guide/indexing.html#returning-a-view-versus-a-copy\n",
      "  fireballs['Latitude (deg.)'] = fireballs['Latitude (deg.)'].apply(change_coord)\n"
     ]
    }
   ],
   "source": [
    "fireballs['Longitude (deg.)'] = fireballs['Longitude (deg.)'].apply(change_coord)\n",
    "fireballs['Latitude (deg.)'] = fireballs['Latitude (deg.)'].apply(change_coord)\n"
   ]
  },
  {
   "cell_type": "code",
   "execution_count": null,
   "metadata": {},
   "outputs": [
    {
     "name": "stderr",
     "output_type": "stream",
     "text": [
      "'wget' is not recognized as an internal or external command,\n",
      "operable program or batch file.\n"
     ]
    },
    {
     "name": "stderr",
     "output_type": "stream",
     "text": [
      "'wget' is not recognized as an internal or external command,\n",
      "operable program or batch file.\n",
      "'wget' is not recognized as an internal or external command,\n",
      "operable program or batch file.\n",
      "'wget' is not recognized as an internal or external command,\n",
      "operable program or batch file.\n",
      "'wget' is not recognized as an internal or external command,\n",
      "operable program or batch file.\n",
      "'wget' is not recognized as an internal or external command,\n",
      "operable program or batch file.\n"
     ]
    }
   ],
   "source": [
    "!wget https://naif.jpl.nasa.gov/pub/naif/generic_kernels/lsk/naif0012.tls -O naif0012.tls\n",
    "!wget https://naif.jpl.nasa.gov/pub/naif/generic_kernels/pck/pck00010.tpc -O pck00010.tpc\n",
    "!wget https://naif.jpl.nasa.gov/pub/naif/generic_kernels/pck/earth_fixed.tf -O earth_fixed.tf\n",
    "!wget https://naif.jpl.nasa.gov/pub/naif/generic_kernels/pck/earth_720101_230601.bpc -O earth_720101_230601.bpc\n",
    "!wget https://naif.jpl.nasa.gov/pub/naif/generic_kernels/spk/planets/de438.bsp -O de438.bsp\n",
    "!wget https://naif.jpl.nasa.gov/pub/naif/generic_kernels/pck/earth_latest_high_prec.bpc -O earth_latest_high_prec.bpc\n"
   ]
  },
  {
   "cell_type": "code",
   "execution_count": 7,
   "metadata": {},
   "outputs": [
    {
     "ename": "SpiceNOSUCHFILE",
     "evalue": "\n================================================================================\n\nToolkit version: CSPICE_N0067\n\nSPICE(NOSUCHFILE) --\n\nThe attempt to load \"naif0012.tls\" by the routine FURNSH failed. It could not be located.\n\nfurnsh_c --> FURNSH --> ZZLDKER\n\n================================================================================",
     "output_type": "error",
     "traceback": [
      "\u001b[1;31m---------------------------------------------------------------------------\u001b[0m",
      "\u001b[1;31mSpiceNOSUCHFILE\u001b[0m                           Traceback (most recent call last)",
      "\u001b[1;32m~\\AppData\\Local\\Temp\\ipykernel_31072\\3457125435.py\u001b[0m in \u001b[0;36m?\u001b[1;34m()\u001b[0m\n\u001b[1;32m----> 1\u001b[1;33m \u001b[0mspy\u001b[0m\u001b[1;33m.\u001b[0m\u001b[0mfurnsh\u001b[0m\u001b[1;33m(\u001b[0m\u001b[1;33m[\u001b[0m\u001b[1;34m'naif0012.tls'\u001b[0m\u001b[1;33m,\u001b[0m \u001b[1;34m'pck00010.tpc'\u001b[0m\u001b[1;33m,\u001b[0m \u001b[1;34m'earth_fixed.tf'\u001b[0m\u001b[1;33m,\u001b[0m \u001b[1;34m'earth_720101_230601.bpc'\u001b[0m\u001b[1;33m,\u001b[0m \u001b[1;34m'de438.bsp'\u001b[0m\u001b[1;33m,\u001b[0m \u001b[1;34m'earth_latest_high_prec.bpc'\u001b[0m\u001b[1;33m]\u001b[0m\u001b[1;33m)\u001b[0m\u001b[1;33m\u001b[0m\u001b[1;33m\u001b[0m\u001b[0m\n\u001b[0m",
      "\u001b[1;32mc:\\Users\\aguju\\AppData\\Local\\Programs\\Python\\Python312\\Lib\\site-packages\\spiceypy\\spiceypy.py\u001b[0m in \u001b[0;36m?\u001b[1;34m(*args, **kwargs)\u001b[0m\n\u001b[0;32m    138\u001b[0m             \u001b[0mres\u001b[0m \u001b[1;33m=\u001b[0m \u001b[0mf\u001b[0m\u001b[1;33m(\u001b[0m\u001b[1;33m*\u001b[0m\u001b[0margs\u001b[0m\u001b[1;33m,\u001b[0m \u001b[1;33m**\u001b[0m\u001b[0mkwargs\u001b[0m\u001b[1;33m)\u001b[0m\u001b[1;33m\u001b[0m\u001b[1;33m\u001b[0m\u001b[0m\n\u001b[0;32m    139\u001b[0m             \u001b[0mcheck_for_spice_error\u001b[0m\u001b[1;33m(\u001b[0m\u001b[0mf\u001b[0m\u001b[1;33m)\u001b[0m\u001b[1;33m\u001b[0m\u001b[1;33m\u001b[0m\u001b[0m\n\u001b[0;32m    140\u001b[0m             \u001b[1;32mreturn\u001b[0m \u001b[0mres\u001b[0m\u001b[1;33m\u001b[0m\u001b[1;33m\u001b[0m\u001b[0m\n\u001b[0;32m    141\u001b[0m         \u001b[1;32mexcept\u001b[0m \u001b[0mBaseException\u001b[0m\u001b[1;33m:\u001b[0m\u001b[1;33m\u001b[0m\u001b[1;33m\u001b[0m\u001b[0m\n\u001b[1;32m--> 142\u001b[1;33m             \u001b[1;32mraise\u001b[0m\u001b[1;33m\u001b[0m\u001b[1;33m\u001b[0m\u001b[0m\n\u001b[0m",
      "\u001b[1;32mc:\\Users\\aguju\\AppData\\Local\\Programs\\Python\\Python312\\Lib\\site-packages\\spiceypy\\spiceypy.py\u001b[0m in \u001b[0;36m?\u001b[1;34m(f)\u001b[0m\n\u001b[0;32m    118\u001b[0m         \u001b[0mexplain\u001b[0m \u001b[1;33m=\u001b[0m \u001b[0mgetmsg\u001b[0m\u001b[1;33m(\u001b[0m\u001b[1;34m\"EXPLAIN\"\u001b[0m\u001b[1;33m,\u001b[0m \u001b[1;36m100\u001b[0m\u001b[1;33m)\u001b[0m\u001b[1;33m.\u001b[0m\u001b[0mstrip\u001b[0m\u001b[1;33m(\u001b[0m\u001b[1;33m)\u001b[0m\u001b[1;33m\u001b[0m\u001b[1;33m\u001b[0m\u001b[0m\n\u001b[0;32m    119\u001b[0m         \u001b[0mlong\u001b[0m \u001b[1;33m=\u001b[0m \u001b[0mgetmsg\u001b[0m\u001b[1;33m(\u001b[0m\u001b[1;34m\"LONG\"\u001b[0m\u001b[1;33m,\u001b[0m \u001b[1;36m1841\u001b[0m\u001b[1;33m)\u001b[0m\u001b[1;33m.\u001b[0m\u001b[0mstrip\u001b[0m\u001b[1;33m(\u001b[0m\u001b[1;33m)\u001b[0m\u001b[1;33m\u001b[0m\u001b[1;33m\u001b[0m\u001b[0m\n\u001b[0;32m    120\u001b[0m         \u001b[0mtraceback\u001b[0m \u001b[1;33m=\u001b[0m \u001b[0mqcktrc\u001b[0m\u001b[1;33m(\u001b[0m\u001b[1;36m200\u001b[0m\u001b[1;33m)\u001b[0m\u001b[1;33m\u001b[0m\u001b[1;33m\u001b[0m\u001b[0m\n\u001b[0;32m    121\u001b[0m         \u001b[0mreset\u001b[0m\u001b[1;33m(\u001b[0m\u001b[1;33m)\u001b[0m\u001b[1;33m\u001b[0m\u001b[1;33m\u001b[0m\u001b[0m\n\u001b[1;32m--> 122\u001b[1;33m         raise dynamically_instantiate_spiceyerror(\n\u001b[0m\u001b[0;32m    123\u001b[0m             \u001b[0mshort\u001b[0m\u001b[1;33m=\u001b[0m\u001b[0mshort\u001b[0m\u001b[1;33m,\u001b[0m \u001b[0mexplain\u001b[0m\u001b[1;33m=\u001b[0m\u001b[0mexplain\u001b[0m\u001b[1;33m,\u001b[0m \u001b[0mlong\u001b[0m\u001b[1;33m=\u001b[0m\u001b[0mlong\u001b[0m\u001b[1;33m,\u001b[0m \u001b[0mtraceback\u001b[0m\u001b[1;33m=\u001b[0m\u001b[0mtraceback\u001b[0m\u001b[1;33m\u001b[0m\u001b[1;33m\u001b[0m\u001b[0m\n\u001b[0;32m    124\u001b[0m         \u001b[1;33m)\u001b[0m\u001b[1;33m\u001b[0m\u001b[1;33m\u001b[0m\u001b[0m\n",
      "\u001b[1;31mSpiceNOSUCHFILE\u001b[0m: \n================================================================================\n\nToolkit version: CSPICE_N0067\n\nSPICE(NOSUCHFILE) --\n\nThe attempt to load \"naif0012.tls\" by the routine FURNSH failed. It could not be located.\n\nfurnsh_c --> FURNSH --> ZZLDKER\n\n================================================================================"
     ]
    }
   ],
   "source": [
    "spy.furnsh(['naif0012.tls', 'pck00010.tpc', 'earth_fixed.tf', 'earth_720101_230601.bpc', 'de438.bsp', 'earth_latest_high_prec.bpc'])"
   ]
  },
  {
   "attachments": {},
   "cell_type": "markdown",
   "metadata": {},
   "source": [
    "### get earth sun SSB positions"
   ]
  },
  {
   "cell_type": "code",
   "execution_count": 18,
   "metadata": {},
   "outputs": [],
   "source": [
    "earthxyz=np.zeros((len(fireballs),3))\n",
    "sunxyz=np.zeros((len(fireballs),3))\n",
    "\n",
    "earthvxyz=np.zeros((len(fireballs),3))\n",
    "sunvxyz=np.zeros((len(fireballs),3))"
   ]
  },
  {
   "cell_type": "code",
   "execution_count": 19,
   "metadata": {},
   "outputs": [],
   "source": [
    "for i, date in enumerate(fireballs['Peak Brightness Date/Time (UT)']):\n",
    "    start =  datetime.datetime.strptime(date, '%Y-%m-%d %H:%M:%S')\n",
    "    stop = start + datetime.timedelta(minutes=1)\n",
    "\n",
    "    sun = Horizons(id = '10', location='@0', epochs = dict(start = str(start), stop = str(stop), step = '1m')).vectors()\n",
    "    earth = Horizons(id = '399', location='@0', epochs = dict(start = str(start), stop = str(stop), step = '1m')).vectors()\n",
    "\n",
    "    earthxyz[i] = [earth[0]['x'], earth[0]['y'],earth[0]['z']]\n",
    "    sunxyz[i] = [sun[0]['x'], sun[0]['y'], sun[0]['z']]\n",
    "\n",
    "    earthvxyz[i] = [earth[0]['vx'], earth[0]['vy'],earth[0]['vz']]\n",
    "    sunvxyz[i] = [sun[0]['vx'], sun[0]['vy'], sun[0]['vz']]\n",
    "\n"
   ]
  },
  {
   "cell_type": "code",
   "execution_count": 20,
   "metadata": {},
   "outputs": [],
   "source": [
    "UA2km = 1.496e+8\n",
    "day2sec = 86400"
   ]
  },
  {
   "cell_type": "code",
   "execution_count": 21,
   "metadata": {},
   "outputs": [
    {
     "name": "stderr",
     "output_type": "stream",
     "text": [
      "/tmp/ipykernel_25315/2521466836.py:1: SettingWithCopyWarning: \n",
      "A value is trying to be set on a copy of a slice from a DataFrame.\n",
      "Try using .loc[row_indexer,col_indexer] = value instead\n",
      "\n",
      "See the caveats in the documentation: https://pandas.pydata.org/pandas-docs/stable/user_guide/indexing.html#returning-a-view-versus-a-copy\n",
      "  fireballs['earthx'] = earthxyz[:,0]*UA2km\n",
      "/tmp/ipykernel_25315/2521466836.py:2: SettingWithCopyWarning: \n",
      "A value is trying to be set on a copy of a slice from a DataFrame.\n",
      "Try using .loc[row_indexer,col_indexer] = value instead\n",
      "\n",
      "See the caveats in the documentation: https://pandas.pydata.org/pandas-docs/stable/user_guide/indexing.html#returning-a-view-versus-a-copy\n",
      "  fireballs['earthy'] = earthxyz[:,1]*UA2km\n",
      "/tmp/ipykernel_25315/2521466836.py:3: SettingWithCopyWarning: \n",
      "A value is trying to be set on a copy of a slice from a DataFrame.\n",
      "Try using .loc[row_indexer,col_indexer] = value instead\n",
      "\n",
      "See the caveats in the documentation: https://pandas.pydata.org/pandas-docs/stable/user_guide/indexing.html#returning-a-view-versus-a-copy\n",
      "  fireballs['earthz'] = earthxyz[:,2]*UA2km\n",
      "/tmp/ipykernel_25315/2521466836.py:5: SettingWithCopyWarning: \n",
      "A value is trying to be set on a copy of a slice from a DataFrame.\n",
      "Try using .loc[row_indexer,col_indexer] = value instead\n",
      "\n",
      "See the caveats in the documentation: https://pandas.pydata.org/pandas-docs/stable/user_guide/indexing.html#returning-a-view-versus-a-copy\n",
      "  fireballs['sunx'] = sunxyz[:,0]*UA2km\n",
      "/tmp/ipykernel_25315/2521466836.py:6: SettingWithCopyWarning: \n",
      "A value is trying to be set on a copy of a slice from a DataFrame.\n",
      "Try using .loc[row_indexer,col_indexer] = value instead\n",
      "\n",
      "See the caveats in the documentation: https://pandas.pydata.org/pandas-docs/stable/user_guide/indexing.html#returning-a-view-versus-a-copy\n",
      "  fireballs['suny'] = sunxyz[:,1]*UA2km\n",
      "/tmp/ipykernel_25315/2521466836.py:7: SettingWithCopyWarning: \n",
      "A value is trying to be set on a copy of a slice from a DataFrame.\n",
      "Try using .loc[row_indexer,col_indexer] = value instead\n",
      "\n",
      "See the caveats in the documentation: https://pandas.pydata.org/pandas-docs/stable/user_guide/indexing.html#returning-a-view-versus-a-copy\n",
      "  fireballs['sunz'] = sunxyz[:,2]*UA2km\n",
      "/tmp/ipykernel_25315/2521466836.py:9: SettingWithCopyWarning: \n",
      "A value is trying to be set on a copy of a slice from a DataFrame.\n",
      "Try using .loc[row_indexer,col_indexer] = value instead\n",
      "\n",
      "See the caveats in the documentation: https://pandas.pydata.org/pandas-docs/stable/user_guide/indexing.html#returning-a-view-versus-a-copy\n",
      "  fireballs['earthvx'] = earthvxyz[:,0]*UA2km/day2sec\n",
      "/tmp/ipykernel_25315/2521466836.py:10: SettingWithCopyWarning: \n",
      "A value is trying to be set on a copy of a slice from a DataFrame.\n",
      "Try using .loc[row_indexer,col_indexer] = value instead\n",
      "\n",
      "See the caveats in the documentation: https://pandas.pydata.org/pandas-docs/stable/user_guide/indexing.html#returning-a-view-versus-a-copy\n",
      "  fireballs['earthvy'] = earthvxyz[:,1]*UA2km/day2sec\n",
      "/tmp/ipykernel_25315/2521466836.py:11: SettingWithCopyWarning: \n",
      "A value is trying to be set on a copy of a slice from a DataFrame.\n",
      "Try using .loc[row_indexer,col_indexer] = value instead\n",
      "\n",
      "See the caveats in the documentation: https://pandas.pydata.org/pandas-docs/stable/user_guide/indexing.html#returning-a-view-versus-a-copy\n",
      "  fireballs['earthvz'] = earthvxyz[:,2]*UA2km/day2sec\n",
      "/tmp/ipykernel_25315/2521466836.py:13: SettingWithCopyWarning: \n",
      "A value is trying to be set on a copy of a slice from a DataFrame.\n",
      "Try using .loc[row_indexer,col_indexer] = value instead\n",
      "\n",
      "See the caveats in the documentation: https://pandas.pydata.org/pandas-docs/stable/user_guide/indexing.html#returning-a-view-versus-a-copy\n",
      "  fireballs['sunvx'] = sunvxyz[:,0]*UA2km/day2sec\n",
      "/tmp/ipykernel_25315/2521466836.py:14: SettingWithCopyWarning: \n",
      "A value is trying to be set on a copy of a slice from a DataFrame.\n",
      "Try using .loc[row_indexer,col_indexer] = value instead\n",
      "\n",
      "See the caveats in the documentation: https://pandas.pydata.org/pandas-docs/stable/user_guide/indexing.html#returning-a-view-versus-a-copy\n",
      "  fireballs['sunvy'] = sunvxyz[:,1]*UA2km/day2sec\n",
      "/tmp/ipykernel_25315/2521466836.py:15: SettingWithCopyWarning: \n",
      "A value is trying to be set on a copy of a slice from a DataFrame.\n",
      "Try using .loc[row_indexer,col_indexer] = value instead\n",
      "\n",
      "See the caveats in the documentation: https://pandas.pydata.org/pandas-docs/stable/user_guide/indexing.html#returning-a-view-versus-a-copy\n",
      "  fireballs['sunvz'] = sunvxyz[:,2]*UA2km/day2sec\n"
     ]
    }
   ],
   "source": [
    "fireballs['earthx'] = earthxyz[:,0]*UA2km\n",
    "fireballs['earthy'] = earthxyz[:,1]*UA2km\n",
    "fireballs['earthz'] = earthxyz[:,2]*UA2km\n",
    "\n",
    "fireballs['sunx'] = sunxyz[:,0]*UA2km\n",
    "fireballs['suny'] = sunxyz[:,1]*UA2km\n",
    "fireballs['sunz'] = sunxyz[:,2]*UA2km\n",
    "\n",
    "fireballs['earthvx'] = earthvxyz[:,0]*UA2km/day2sec\n",
    "fireballs['earthvy'] = earthvxyz[:,1]*UA2km/day2sec\n",
    "fireballs['earthvz'] = earthvxyz[:,2]*UA2km/day2sec\n",
    "\n",
    "fireballs['sunvx'] = sunvxyz[:,0]*UA2km/day2sec\n",
    "fireballs['sunvy'] = sunvxyz[:,1]*UA2km/day2sec\n",
    "fireballs['sunvz'] = sunvxyz[:,2]*UA2km/day2sec\n",
    "\n"
   ]
  },
  {
   "cell_type": "code",
   "execution_count": 17,
   "metadata": {},
   "outputs": [],
   "source": [
    "#fireballs.to_csv('cneos_fireball_data_sun_earth.csv', index = False)"
   ]
  },
  {
   "attachments": {},
   "cell_type": "markdown",
   "metadata": {},
   "source": [
    "### Integrate positions for all bodies"
   ]
  },
  {
   "cell_type": "code",
   "execution_count": 22,
   "metadata": {},
   "outputs": [],
   "source": [
    "#fireballs = pd.read_csv('cneos_fireball_data_sun_earth.csv')\n",
    "#fireballs = fireballs[:10]\n",
    "meteor = fireballs.loc[fireballs['Peak Brightness Date/Time (UT)'].str.contains('2014-01-08 17:05:34')]"
   ]
  },
  {
   "cell_type": "code",
   "execution_count": 23,
   "metadata": {},
   "outputs": [
    {
     "data": {
      "text/html": [
       "<div>\n",
       "<style scoped>\n",
       "    .dataframe tbody tr th:only-of-type {\n",
       "        vertical-align: middle;\n",
       "    }\n",
       "\n",
       "    .dataframe tbody tr th {\n",
       "        vertical-align: top;\n",
       "    }\n",
       "\n",
       "    .dataframe thead th {\n",
       "        text-align: right;\n",
       "    }\n",
       "</style>\n",
       "<table border=\"1\" class=\"dataframe\">\n",
       "  <thead>\n",
       "    <tr style=\"text-align: right;\">\n",
       "      <th></th>\n",
       "      <th>Peak Brightness Date/Time (UT)</th>\n",
       "      <th>Latitude (deg.)</th>\n",
       "      <th>Longitude (deg.)</th>\n",
       "      <th>Altitude (km)</th>\n",
       "      <th>Velocity (km/s)</th>\n",
       "      <th>vx</th>\n",
       "      <th>vy</th>\n",
       "      <th>vz</th>\n",
       "      <th>Total Radiated Energy (J)</th>\n",
       "      <th>Calculated Total Impact Energy (kt)</th>\n",
       "      <th>...</th>\n",
       "      <th>earthz</th>\n",
       "      <th>sunx</th>\n",
       "      <th>suny</th>\n",
       "      <th>sunz</th>\n",
       "      <th>earthvx</th>\n",
       "      <th>earthvy</th>\n",
       "      <th>earthvz</th>\n",
       "      <th>sunvx</th>\n",
       "      <th>sunvy</th>\n",
       "      <th>sunvz</th>\n",
       "    </tr>\n",
       "  </thead>\n",
       "  <tbody>\n",
       "    <tr>\n",
       "      <th>355</th>\n",
       "      <td>2014-01-08 17:05:34</td>\n",
       "      <td>-1.3</td>\n",
       "      <td>147.6</td>\n",
       "      <td>18.7</td>\n",
       "      <td>44.8</td>\n",
       "      <td>-3.4</td>\n",
       "      <td>-43.5</td>\n",
       "      <td>-10.3</td>\n",
       "      <td>3.100000e+10</td>\n",
       "      <td>0.11</td>\n",
       "      <td>...</td>\n",
       "      <td>-18427.0739</td>\n",
       "      <td>154507.425703</td>\n",
       "      <td>-338061.540911</td>\n",
       "      <td>-14068.661556</td>\n",
       "      <td>-28.77745</td>\n",
       "      <td>-9.396459</td>\n",
       "      <td>0.001138</td>\n",
       "      <td>0.010447</td>\n",
       "      <td>0.004187</td>\n",
       "      <td>-0.000242</td>\n",
       "    </tr>\n",
       "  </tbody>\n",
       "</table>\n",
       "<p>1 rows × 22 columns</p>\n",
       "</div>"
      ],
      "text/plain": [
       "    Peak Brightness Date/Time (UT)  Latitude (deg.)  Longitude (deg.)  \\\n",
       "355            2014-01-08 17:05:34             -1.3             147.6   \n",
       "\n",
       "     Altitude (km)  Velocity (km/s)   vx    vy    vz  \\\n",
       "355           18.7             44.8 -3.4 -43.5 -10.3   \n",
       "\n",
       "     Total Radiated Energy (J)  Calculated Total Impact Energy (kt)  ...  \\\n",
       "355               3.100000e+10                                 0.11  ...   \n",
       "\n",
       "         earthz           sunx           suny          sunz   earthvx  \\\n",
       "355 -18427.0739  154507.425703 -338061.540911 -14068.661556 -28.77745   \n",
       "\n",
       "      earthvy   earthvz     sunvx     sunvy     sunvz  \n",
       "355 -9.396459  0.001138  0.010447  0.004187 -0.000242  \n",
       "\n",
       "[1 rows x 22 columns]"
      ]
     },
     "execution_count": 23,
     "metadata": {},
     "output_type": "execute_result"
    }
   ],
   "source": [
    "meteor"
   ]
  },
  {
   "cell_type": "code",
   "execution_count": 24,
   "metadata": {},
   "outputs": [],
   "source": [
    "\n",
    "date = fireballs['Peak Brightness Date/Time (UT)'].to_numpy()\n",
    "lon = fireballs['Longitude (deg.)'].to_numpy()\n",
    "lat = fireballs['Latitude (deg.)'].to_numpy()\n",
    "alt = fireballs['Altitude (km)'].to_numpy()\n",
    "vx = fireballs['vx'].to_numpy()\n",
    "vy = fireballs['vy'].to_numpy()\n",
    "vz = fireballs['vz'].to_numpy()"
   ]
  },
  {
   "cell_type": "code",
   "execution_count": 25,
   "metadata": {},
   "outputs": [],
   "source": [
    "T_earth = 86400\n",
    "\n",
    "#vector velocidad de rotación\n",
    "omega = np.array([0,0,(2*np.pi)/T_earth]) \n",
    "\n",
    "r_eclip = []\n",
    "v_eclip = []\n",
    "for i in range(len(lon)):\n",
    "    r = Geo2Rec(lon[i], lat[i], alt[i])\n",
    "    v = [vx[i], vy[i], vz[i]]\n",
    "    v_E = (v - spy.vcrss(omega, r))\n",
    "    et = spy.utc2et(date[i])\n",
    "    mx = spy.pxform('IAU_EARTH', 'ECLIPJ2000', et)\n",
    "\n",
    "    r_eclip.append(spy.mxv(mx, r))\n",
    "    v_eclip.append(spy.mxv(mx, v_E))\n",
    "    \n"
   ]
  },
  {
   "cell_type": "code",
   "execution_count": 26,
   "metadata": {},
   "outputs": [
    {
     "data": {
      "text/plain": [
       "(array([[-3.08244248e+03,  5.63084925e+03, -6.58856623e+01],\n",
       "        [-1.53770701e+03, -4.56420363e+03,  4.23289137e+03],\n",
       "        [ 4.60112273e+03,  4.46543698e+03, -2.07684868e+02],\n",
       "        [-3.28425133e+02, -5.19938713e+03,  3.74747456e+03],\n",
       "        [-6.01437538e+03, -1.73908870e+03, -1.35234915e+03],\n",
       "        [ 3.26633348e+03,  4.53726086e+03,  3.10765700e+03],\n",
       "        [ 6.00841079e+03, -4.55872836e+02, -2.20668261e+03],\n",
       "        [-3.34741453e+03,  2.90599965e+03,  4.60822389e+03],\n",
       "        [-5.16202252e+02, -6.37361652e+03,  7.48665365e+02],\n",
       "        [ 1.77962886e+03, -2.56976453e+03,  5.58623039e+03],\n",
       "        [ 6.30022986e+03, -4.32122164e+02,  1.12659266e+03],\n",
       "        [ 1.11018466e+03,  1.91947618e+03, -6.00217374e+03],\n",
       "        [ 3.70315513e+03,  4.97030699e+03,  1.63345671e+03],\n",
       "        [-3.46703153e+03,  5.20628774e+03,  1.38165413e+03],\n",
       "        [-6.13334063e+02, -5.88776511e+03, -2.41747627e+03],\n",
       "        [ 1.88644777e+03, -2.29636430e+03,  5.66905633e+03],\n",
       "        [ 5.11304561e+03, -2.10849227e+02,  3.82999849e+03],\n",
       "        [-5.73184023e+03,  2.78951971e+03,  5.99457900e+02],\n",
       "        [ 3.14974899e+03,  5.06117412e+03,  2.34215721e+03],\n",
       "        [-5.32418872e+03, -1.67871834e+03,  3.10847089e+03],\n",
       "        [-2.94993371e+03, -5.45411729e+03,  1.64557445e+03],\n",
       "        [ 4.45142850e+03, -9.26143514e+02, -4.51215782e+03],\n",
       "        [-3.23143046e+03,  1.72049058e+03, -5.25291453e+03],\n",
       "        [ 1.31520780e+03, -6.27100413e+03, -3.12390665e+01],\n",
       "        [ 3.45432122e+03,  1.17538566e+03, -5.25848803e+03],\n",
       "        [ 1.05256258e+03,  6.30636879e+03, -2.18457401e+02],\n",
       "        [ 2.03010042e+03, -1.56895187e+03, -5.83955185e+03],\n",
       "        [-1.82748479e+03,  5.79580459e+03,  2.03935535e+03],\n",
       "        [-1.52365500e+03,  9.45112159e+02, -6.13543485e+03],\n",
       "        [-4.21566194e+03, -4.69961745e+03,  1.05880029e+03],\n",
       "        [-4.55104336e+03,  3.99134081e+03, -2.10708260e+03],\n",
       "        [ 3.65296289e+03,  4.42163377e+03, -2.85508970e+03],\n",
       "        [-5.16468319e+03, -3.42692479e+03,  1.72888868e+03],\n",
       "        [-1.11151557e+03,  4.12267889e+03,  4.75741823e+03],\n",
       "        [-9.41418348e+02, -5.55222129e+03,  3.06253842e+03],\n",
       "        [-6.29089536e+01,  3.94181330e+03, -5.04130733e+03],\n",
       "        [-5.21049964e+03, -3.73847619e+03,  3.51433568e+01],\n",
       "        [-2.21030605e+03,  5.14359571e+03,  3.10588650e+03],\n",
       "        [ 3.35405066e+03, -1.98600482e+03, -5.08039523e+03],\n",
       "        [-3.49081683e+02, -4.41352907e+03, -4.62620018e+03],\n",
       "        [-2.20997355e+03,  4.05936269e+03,  4.45186195e+03],\n",
       "        [-2.48911359e+02,  6.32630467e+03,  1.00434240e+03],\n",
       "        [ 3.74065544e+03,  4.42436235e+03, -2.74900381e+03],\n",
       "        [-2.03921323e+03, -1.16123771e+03,  5.94896661e+03],\n",
       "        [-3.20431625e+03,  1.46280977e+03,  5.33610188e+03],\n",
       "        [ 3.49758883e+03,  3.39257011e+03,  4.13736257e+03],\n",
       "        [-5.09938060e+03,  3.46014862e+03, -1.74249531e+03],\n",
       "        [-1.95876377e+03, -2.24243931e+03,  5.65940944e+03],\n",
       "        [-4.57926975e+03,  2.11615529e+03,  3.95664264e+03],\n",
       "        [-3.37121407e+02,  3.38728406e+03, -5.42230595e+03],\n",
       "        [-5.24466742e+03,  3.26921428e+03,  1.73182727e+03],\n",
       "        [-2.05648489e+03,  2.54861056e+03,  5.49750131e+03],\n",
       "        [ 3.83440747e+03, -2.51252531e+02, -5.11458461e+03],\n",
       "        [-8.89849841e+02, -2.07842866e+03, -5.97640661e+03],\n",
       "        [ 1.23839385e+03,  3.37235684e+03,  5.28332620e+03],\n",
       "        [ 4.23303583e+03,  2.13066218e+03,  4.28066611e+03],\n",
       "        [ 2.22137115e+03, -5.26533014e+03,  2.91963391e+03],\n",
       "        [ 3.87705720e+03, -1.32140144e+03,  4.91727026e+03],\n",
       "        [ 4.01904292e+03, -3.72805131e+03, -3.31252329e+03],\n",
       "        [-2.28746220e+03, -4.62947324e+03,  3.79739125e+03],\n",
       "        [ 2.92215971e+03, -2.36429813e+03,  5.17839482e+03],\n",
       "        [-5.44181839e+03,  1.45664642e+03,  3.05342833e+03],\n",
       "        [-1.18435537e+02,  6.30735708e+03,  1.07750731e+03],\n",
       "        [ 2.91786783e+03,  3.47605681e+03,  4.49053174e+03],\n",
       "        [ 2.91124175e+03,  4.93812969e+03, -2.86036149e+03],\n",
       "        [-5.67819145e+03,  2.58289438e+03,  1.49701034e+03],\n",
       "        [ 3.65522165e+03,  4.18912521e+03, -3.19704579e+03],\n",
       "        [ 4.04268764e+03, -4.47137001e+03,  2.22094126e+03],\n",
       "        [ 5.74101059e+03,  6.05110726e+02,  2.76737846e+03],\n",
       "        [-5.11297559e+03, -3.13409136e+02, -3.85173863e+03],\n",
       "        [-1.44195510e+03, -5.39245901e+03, -3.12382596e+03],\n",
       "        [-2.25304997e+03,  1.39383453e+03, -5.82095814e+03],\n",
       "        [-4.77998959e+03,  9.11632829e+02,  4.15445632e+03],\n",
       "        [-3.48608039e+03,  4.47088719e+03,  2.96691539e+03],\n",
       "        [-4.73635843e+03, -3.14734397e+03, -2.92846248e+03],\n",
       "        [-3.61272890e+03, -3.23439807e+03, -4.15965615e+03],\n",
       "        [ 3.18635814e+03, -1.09183831e+03,  5.44399929e+03],\n",
       "        [-4.68993256e+03, -1.69921627e+03,  4.03368377e+03],\n",
       "        [-4.68856356e+03, -1.40144591e+03,  4.13277620e+03],\n",
       "        [-1.41194343e+03, -3.84011955e+03,  4.92846208e+03],\n",
       "        [-6.09003361e+02,  6.29543182e+03,  1.07243415e+03],\n",
       "        [ 5.88373223e+03,  2.07037081e+03,  1.38964980e+03],\n",
       "        [-1.59059636e+03, -1.25673409e+03, -6.05642267e+03],\n",
       "        [-3.31668665e+03,  3.25192320e+03,  4.40105467e+03],\n",
       "        [-6.93784362e+02, -2.03691361e+03,  6.03110537e+03],\n",
       "        [ 4.99730227e+03,  9.00176800e+01,  4.00678856e+03],\n",
       "        [ 1.22920992e+02, -6.39435733e+03,  1.63622157e+02],\n",
       "        [ 1.94848569e+03,  5.04789954e+03, -3.44674523e+03],\n",
       "        [ 4.15876094e+03,  3.60607712e+03,  3.29450797e+03],\n",
       "        [ 3.18555204e+03,  4.41023342e+03, -3.42578105e+03],\n",
       "        [-4.32369675e+03,  7.73142588e+02, -4.66567357e+03],\n",
       "        [-5.20281943e+03,  2.07629378e+03, -3.10208241e+03],\n",
       "        [-3.63691660e+03,  1.32653735e+03,  5.10392129e+03],\n",
       "        [ 5.51906463e+03, -6.35982964e+02,  3.18733651e+03],\n",
       "        [ 5.50832992e+03,  3.03442972e+03,  1.26591600e+03],\n",
       "        [ 9.31201601e+02, -2.91402399e+03,  5.62804721e+03],\n",
       "        [-1.10644412e+03,  5.84864942e+03,  2.34660052e+03],\n",
       "        [ 4.47381437e+03,  4.59517041e+03,  5.19986468e+02],\n",
       "        [-5.99440291e+03,  2.05751731e+03,  9.03299946e+02],\n",
       "        [ 3.48844414e+03,  2.68027271e+03,  4.63133060e+03],\n",
       "        [ 1.79921716e+03,  4.46726512e+03, -4.22266619e+03],\n",
       "        [-4.02941619e+03, -4.31426599e+03, -2.47534577e+03],\n",
       "        [-3.68564513e+03, -5.21705609e+03, -5.11110143e+02],\n",
       "        [-1.88449802e+03, -5.38809472e+03, -2.89293811e+03],\n",
       "        [ 4.90666646e+03,  4.10078840e+03,  3.91468110e+02],\n",
       "        [-1.13810022e+03,  5.20442425e+03,  3.55530793e+03],\n",
       "        [ 5.72312219e+03, -2.15253795e+03, -1.90131639e+03],\n",
       "        [-2.34643911e+02,  4.87959557e+03,  4.12289555e+03],\n",
       "        [ 4.94258969e+03, -4.06872049e+03, -9.93935184e+01],\n",
       "        [ 4.65762190e+03, -2.38903874e+03,  3.68004916e+03],\n",
       "        [-3.01937884e+02, -4.81283189e+03,  4.23604013e+03],\n",
       "        [ 1.62491810e+02, -5.84809631e+03, -2.59081741e+03],\n",
       "        [-7.95939588e+02, -1.00480027e+03,  6.25925799e+03],\n",
       "        [ 4.12303111e+03, -2.66106583e+03,  4.11102953e+03],\n",
       "        [-3.73271555e+03, -1.77955857e+02,  5.19461702e+03],\n",
       "        [ 4.82299181e+03, -2.53655563e+03, -3.35803248e+03],\n",
       "        [ 3.52320395e+02, -6.39806585e+03,  3.90368974e+00],\n",
       "        [ 3.21629400e+03,  2.43671202e+03, -4.98324316e+03],\n",
       "        [-6.37749448e+03, -6.49757978e+02,  8.83854191e+01],\n",
       "        [-1.33162302e+03,  1.95427412e+03,  5.94831335e+03],\n",
       "        [-5.28546508e+03,  9.15332868e+01,  3.66972203e+03],\n",
       "        [ 3.22940300e+03,  3.07658982e+01,  5.51590882e+03],\n",
       "        [-5.78041963e+03,  4.93270188e+02, -2.71208819e+03],\n",
       "        [ 3.57740652e+03, -4.96899076e+02,  5.29048890e+03],\n",
       "        [ 2.49479596e+03,  1.62135820e+03, -5.66779165e+03],\n",
       "        [ 7.60583699e+02,  7.75626007e+02, -6.29765391e+03],\n",
       "        [ 3.02958422e+03,  5.45313019e+03, -1.46443650e+03],\n",
       "        [-3.39424339e+03,  3.51721451e+03, -4.14160686e+03],\n",
       "        [-4.45191145e+03,  3.41756914e+03, -3.09343279e+03],\n",
       "        [ 2.92499326e+03,  4.01600285e+03, -4.05463578e+03],\n",
       "        [-3.56803187e+03, -3.59767859e+03, -3.92361117e+03],\n",
       "        [-1.77838758e+03,  4.97418527e+03,  3.59459702e+03],\n",
       "        [-1.43018731e+02,  5.12070144e+03,  3.80640788e+03],\n",
       "        [-1.27288951e+03, -6.27897567e+03, -1.22435711e+02],\n",
       "        [ 3.57488968e+03, -2.76871686e+03,  4.54143065e+03],\n",
       "        [-2.06894660e+03, -3.89363031e+03, -4.61765475e+03],\n",
       "        [ 2.33131654e+03, -3.54410143e+03,  4.80602050e+03],\n",
       "        [ 2.42255052e+03, -1.21928215e+03,  5.79903301e+03],\n",
       "        [ 5.17796537e+03, -3.70348611e+03,  7.97545515e+02],\n",
       "        [-4.13384861e+03,  4.85847481e+03,  6.26839021e+02],\n",
       "        [-2.95517705e+01, -6.28055217e+03, -1.18473017e+03],\n",
       "        [ 3.50957620e+03,  2.18847716e+03,  4.88168245e+03],\n",
       "        [-1.47410191e+03, -5.23386438e+03, -3.37053939e+03],\n",
       "        [ 7.02692026e+01,  5.41841909e+03, -3.44942185e+03],\n",
       "        [-3.14912501e+03, -5.54665307e+03, -6.01194341e+02],\n",
       "        [-4.08466604e+03, -7.82921928e+02,  4.85409651e+03],\n",
       "        [-5.50293165e+03,  4.44085199e+02,  3.23416907e+03],\n",
       "        [-5.29955053e+03,  3.53307327e+03, -7.71875597e+02],\n",
       "        [-5.81716752e+03, -3.47817867e+02,  2.68733632e+03],\n",
       "        [ 6.17245972e+03, -1.00245021e+03, -1.39608213e+03],\n",
       "        [ 4.15836751e+03, -1.34034023e+03,  4.67466564e+03],\n",
       "        [-1.09349257e+03, -5.50685086e+03, -3.08261857e+03],\n",
       "        [-6.93929414e+02, -6.01071025e+03,  2.18201482e+03],\n",
       "        [-1.10278011e+03,  2.38732612e+03, -5.83726485e+03],\n",
       "        [ 6.36646832e+03, -6.86409003e+02,  4.07696256e+02],\n",
       "        [ 3.59089852e+03,  5.29367673e+03, -4.10833145e+02],\n",
       "        [-3.54206894e+03,  3.82088128e+03, -3.72529927e+03],\n",
       "        [ 1.54046646e+03,  3.36554508e+03, -5.22417976e+03],\n",
       "        [ 5.35794682e+03,  3.36706424e+03, -1.08108177e+03],\n",
       "        [ 5.86975233e+03,  2.04076575e+03,  1.55907960e+03],\n",
       "        [-5.01553743e+03, -1.97710259e+03,  3.46815928e+03],\n",
       "        [-4.10305277e+03, -1.05434467e+03, -4.80778857e+03],\n",
       "        [-2.46162152e+03, -5.12027214e+03, -2.94275768e+03],\n",
       "        [ 8.76441294e+02, -3.56400344e+03,  5.26266520e+03],\n",
       "        [-1.04661180e+03, -5.77705917e+03,  2.59131751e+03],\n",
       "        [ 4.18071683e+03, -4.60464536e+03, -1.52517297e+03],\n",
       "        [ 3.84396685e+03, -3.92293722e+03, -3.29365093e+03],\n",
       "        [ 6.16459304e+03,  7.38290425e+02, -1.63331879e+03],\n",
       "        [ 3.25809864e+01, -5.59872182e+03,  3.14183020e+03],\n",
       "        [-5.74981283e+03,  2.13649330e+03, -1.88364941e+03],\n",
       "        [-3.39987391e+03,  6.13096637e+01, -5.44204075e+03],\n",
       "        [-4.62078496e+03, -3.75917411e+03,  2.40055250e+03],\n",
       "        [-2.09813947e+03,  5.99179659e+03, -8.56962286e+02],\n",
       "        [ 4.05186809e+03, -1.07658101e+03,  4.84816352e+03],\n",
       "        [ 4.27888398e+03, -2.96596100e+03,  3.71784140e+03],\n",
       "        [ 3.26164891e+03,  5.09849059e+03,  2.12934069e+03],\n",
       "        [ 2.00081820e+03,  5.82767879e+03, -1.76821710e+03],\n",
       "        [-4.28000924e+03, -7.42776970e+02, -4.69535346e+03],\n",
       "        [-4.86145379e+03,  2.25939162e+03, -3.51835382e+03],\n",
       "        [-3.75128791e+03, -8.65239940e+01, -5.17574989e+03],\n",
       "        [-4.91096960e+03,  3.74148655e+02,  4.09871784e+03],\n",
       "        [ 3.63943676e+03, -5.22624218e+03, -7.31713046e+02],\n",
       "        [-4.28761159e+03,  1.19267717e+03, -4.60469818e+03],\n",
       "        [ 5.88257028e+03,  2.54931212e+03, -1.48295595e+02],\n",
       "        [ 4.51151261e+03, -4.56194107e+03,  6.64630814e+01],\n",
       "        [ 2.25409365e+03,  1.55421171e+03,  5.77754302e+03],\n",
       "        [ 5.79070494e+03, -2.75578837e+03,  2.18486615e+02],\n",
       "        [ 2.95919979e+03, -5.13054714e+03,  2.46199911e+03],\n",
       "        [-3.86249162e+03,  3.91925482e+03,  3.29297369e+03],\n",
       "        [ 3.36118440e+02,  3.72454489e+03, -5.20674034e+03],\n",
       "        [ 3.04214543e+02,  2.33116559e+03,  5.93915609e+03],\n",
       "        [ 4.51802887e+03, -1.23387764e+03,  4.35876729e+03],\n",
       "        [ 1.43703910e+03,  2.06571304e+03, -5.87723664e+03],\n",
       "        [-1.29647171e+03, -4.06637354e+03, -4.74579282e+03],\n",
       "        [ 1.40856556e+03, -4.12595921e+03, -4.68086125e+03],\n",
       "        [-1.03948302e+03,  5.91702765e+03,  2.17840265e+03],\n",
       "        [ 3.01457924e+03, -5.27111473e+03,  2.03854546e+03],\n",
       "        [-2.84347429e+03, -3.24213103e+03, -4.70701709e+03],\n",
       "        [-7.46313379e+02,  6.33885155e+03, -5.00265172e+02],\n",
       "        [-2.25332572e+02, -5.47585396e+02, -6.35991551e+03],\n",
       "        [ 8.62042970e+02,  2.86967449e+03, -5.65566180e+03],\n",
       "        [-1.70365154e+03, -5.70501114e+03, -2.37937744e+03],\n",
       "        [-1.82383661e+03, -5.92830650e+03, -1.60123484e+03],\n",
       "        [-5.08442853e+03,  1.00324658e+03, -3.76197918e+03],\n",
       "        [ 3.54385911e+03,  5.02378046e+03, -1.83193165e+03],\n",
       "        [-5.64244157e+03,  2.70787470e+03, -1.32274207e+03],\n",
       "        [-3.70299325e+03, -1.39873666e+03,  5.03392323e+03],\n",
       "        [ 4.08431268e+03, -1.85732362e+03,  4.55739608e+03],\n",
       "        [-2.48579804e+03,  5.32271961e+03,  2.60662954e+03],\n",
       "        [-3.22329736e+03, -5.52523052e+03,  1.31925679e+02],\n",
       "        [-4.37771285e+03,  1.65162062e+03, -4.36862218e+03],\n",
       "        [ 9.10193142e+02,  1.72494522e+03, -6.08629652e+03],\n",
       "        [-4.21877489e+03, -4.40560324e+03,  1.95242440e+03],\n",
       "        [ 3.86119113e+03, -1.75385229e+03,  4.78277978e+03],\n",
       "        [-2.79790233e+03, -5.71694831e+03, -7.93233881e+02],\n",
       "        [-8.68951197e+02, -1.22469368e+03,  6.20816705e+03],\n",
       "        [ 4.97767256e+03,  3.80708592e+03, -1.35457540e+03],\n",
       "        [ 1.31148169e+03, -3.32132472e+03, -5.29603336e+03],\n",
       "        [ 2.42413491e+03, -9.73537442e+02,  5.83490598e+03],\n",
       "        [-5.46246101e+03,  2.61730044e+03, -2.10574887e+03],\n",
       "        [-3.26445137e+03, -5.00105982e+03,  2.31786673e+03],\n",
       "        [-6.39638220e+02, -4.33034105e+03, -4.64577619e+03],\n",
       "        [-4.95282822e+03,  2.46722828e+03, -3.24518394e+03],\n",
       "        [ 4.51706345e+03, -3.48751993e+03,  2.92627939e+03],\n",
       "        [-1.04949120e+03,  6.13971191e+03,  1.45939435e+03],\n",
       "        [-3.28293538e+02, -5.00955783e+03, -3.96115716e+03],\n",
       "        [ 4.10568134e+03,  4.60958296e+03, -1.70140155e+03],\n",
       "        [ 5.40073981e+03,  9.03075628e+02,  3.32509995e+03],\n",
       "        [ 1.77243585e+03, -2.93694931e+02, -6.12927595e+03],\n",
       "        [ 5.35104518e+03, -3.38875274e+03, -8.96654254e+02],\n",
       "        [ 6.08102000e+03, -1.71306174e+03,  1.23367221e+03],\n",
       "        [ 3.07024353e+02,  5.11817184e+02,  6.35323951e+03],\n",
       "        [ 1.79568043e+03,  5.13563156e+03,  3.36100009e+03],\n",
       "        [ 1.07032697e+02, -4.16010365e+03,  4.88646208e+03],\n",
       "        [-2.27743109e+03, -2.57560400e+03,  5.39345178e+03],\n",
       "        [ 2.00814352e+03, -4.40403464e+03, -4.17962623e+03],\n",
       "        [-1.71732426e+03,  3.19032421e+03, -5.27257440e+03],\n",
       "        [-7.62289412e+02,  5.90721700e+03, -2.34259321e+03],\n",
       "        [ 3.93402962e+03,  4.82060308e+03,  1.59847554e+03],\n",
       "        [-3.85967872e+03,  3.51451549e+03,  3.70821960e+03],\n",
       "        [ 2.01859141e+03,  5.14443954e+03, -3.23334637e+03],\n",
       "        [ 4.33297201e+03,  2.78949659e+03, -3.81741369e+03],\n",
       "        [-6.37829380e+03, -3.40431663e+02, -3.53065428e+02],\n",
       "        [-2.97201418e+03,  5.08752092e+03,  2.49044093e+03],\n",
       "        [ 1.55436356e+03, -4.07294068e+03, -4.67722844e+03],\n",
       "        [-9.99202017e+02,  4.04381175e+03, -4.85889886e+03],\n",
       "        [-3.75796097e+03,  5.98541139e+02, -5.14582254e+03],\n",
       "        [-2.91616576e+03,  3.96017124e+03,  4.10059583e+03],\n",
       "        [-1.51006320e+03, -3.97376571e+03, -4.75830933e+03],\n",
       "        [-3.42055491e+03, -2.17674213e+03, -4.94886126e+03],\n",
       "        [ 2.82314038e+03, -3.84796156e+02,  5.72262661e+03],\n",
       "        [ 8.71383115e+02, -6.31267381e+03, -6.75329925e+02],\n",
       "        [-1.00400828e+03, -3.48625943e+03,  5.27419600e+03],\n",
       "        [ 1.28821463e+02,  6.40611536e+03, -2.97965535e+02],\n",
       "        [-4.09484667e+03, -3.33192519e+03,  3.65580070e+03],\n",
       "        [-3.16062999e+03, -1.98766484e+03,  5.19970768e+03],\n",
       "        [ 1.30524318e+03,  1.15387269e+03,  6.16958167e+03],\n",
       "        [ 1.80933662e+03,  5.92763363e+03,  1.62254828e+03],\n",
       "        [ 1.76902339e+03, -6.13949765e+03, -4.82732270e+02],\n",
       "        [-6.07369364e+03, -1.85526495e+03,  9.06731579e+02],\n",
       "        [ 3.18773497e+03, -3.10377399e+03,  4.60075039e+03],\n",
       "        [-3.40599527e+02,  9.50462975e+02,  6.31845544e+03],\n",
       "        [-3.97380651e+02, -3.91861040e+01, -6.37910875e+03],\n",
       "        [ 2.10543453e+01,  2.38853315e+03,  5.93082780e+03],\n",
       "        [-4.18390770e+03, -2.24519556e+03, -4.28537536e+03],\n",
       "        [-3.37318352e+03, -5.43597748e+03, -3.99649189e+02],\n",
       "        [-4.95212362e+02, -2.99428749e+03, -5.62895903e+03],\n",
       "        [ 1.16720022e+03, -5.42508193e+03,  3.20908664e+03],\n",
       "        [ 1.23497665e+03, -2.17293649e+03,  5.89107187e+03],\n",
       "        [-5.34760365e+03, -8.15847863e+02,  3.42109315e+03],\n",
       "        [-2.13533160e+03,  5.23443900e+03,  3.02197604e+03],\n",
       "        [-5.72570005e+03,  1.64865044e+03, -2.39321653e+03],\n",
       "        [ 3.87762927e+02, -3.62804640e+03, -5.24249305e+03],\n",
       "        [-4.78432061e+03, -1.17286433e+03,  4.10369081e+03],\n",
       "        [ 3.70647841e+02,  3.07610681e+02,  6.38201770e+03],\n",
       "        [-2.57909426e+03,  5.60049213e+03,  1.75007565e+03],\n",
       "        [-2.17389925e+03, -5.05788683e+03, -3.26766852e+03],\n",
       "        [ 1.11274230e+02,  6.36686074e+03,  6.91677874e+02],\n",
       "        [-4.83618193e+02,  5.73312177e+03, -2.84910589e+03],\n",
       "        [ 4.97060208e+03,  3.54889799e+02, -4.02184921e+03],\n",
       "        [ 3.35494578e+03, -5.30147968e+03, -1.28047133e+03],\n",
       "        [-3.57874436e+03, -5.31529213e+03, -2.40115456e+02],\n",
       "        [ 1.45648725e+03, -6.16852054e+03, -9.02700504e+02],\n",
       "        [-1.56054159e+03, -2.25135707e+03, -5.75451154e+03],\n",
       "        [-4.10487825e+03, -1.64999567e+03, -4.63027419e+03],\n",
       "        [-2.55357149e+03, -5.87992294e+03,  2.72272142e+01],\n",
       "        [ 1.62648354e+03, -6.17788726e+03, -5.09198024e+02],\n",
       "        [ 5.63446710e+03,  2.87901339e+03, -1.09312281e+03],\n",
       "        [ 4.59114522e+03, -1.82975939e+03, -4.06195216e+03],\n",
       "        [ 4.14391852e+03,  3.79383534e+03, -3.09051977e+03],\n",
       "        [ 2.29039996e+03, -8.74037092e+02, -5.89425948e+03],\n",
       "        [ 1.76616925e+03, -4.33635021e+03,  4.36517644e+03],\n",
       "        [-2.84558072e+03,  2.58816945e+03, -5.11646394e+03]]),\n",
       " array([[ 1.88150524e+01, -1.10507631e+01, -2.66761141e+00],\n",
       "        [-9.63914995e+00,  1.22585115e+01, -3.21967537e+00],\n",
       "        [-3.09594550e+00, -1.35584782e+01, -2.15805411e+01],\n",
       "        [-7.97166915e+00, -7.56217587e+00, -1.45766343e+01],\n",
       "        [ 1.17792022e+01,  2.56593462e+01, -1.01725084e+00],\n",
       "        [-6.23378633e+00, -1.44209675e+01,  4.30566254e+00],\n",
       "        [-6.29355578e+00, -9.14852736e+00,  1.35733038e+01],\n",
       "        [ 1.81251468e+00,  6.60434460e-01, -2.20895875e+01],\n",
       "        [-2.80705381e+01,  3.64986464e+01, -8.01613445e+00],\n",
       "        [-2.28337022e+01,  1.12006665e+01, -1.96611303e+00],\n",
       "        [-1.98556843e+01,  1.06835464e+01, -3.27521167e+00],\n",
       "        [ 6.72527462e+00, -1.34273194e+01,  4.82394014e+00],\n",
       "        [-9.30969191e+00, -5.12805835e+00, -9.19838396e+00],\n",
       "        [ 1.81170556e+00, -1.71126540e+01,  1.74701963e+00],\n",
       "        [-1.36029302e+00,  8.50632235e+00,  1.42994372e+01],\n",
       "        [-4.81277137e+00,  6.05796391e+00, -1.44950240e+01],\n",
       "        [-1.59263557e+00,  1.78371136e+01,  4.25999421e+00],\n",
       "        [ 1.21268079e+01, -2.21183595e+00,  1.77145959e+01],\n",
       "        [-1.42309641e+01,  2.75386274e+00,  9.19473297e+00],\n",
       "        [ 2.11171546e+01,  2.33899195e+00, -4.87958372e+00],\n",
       "        [-3.17232064e+00,  2.38812024e+01, -1.81935897e+01],\n",
       "        [-1.03524910e+01,  1.65578066e+01, -6.92169019e-02],\n",
       "        [ 8.81400640e-01,  3.40219295e+00,  1.47629837e+01],\n",
       "        [ 8.59297985e+00,  1.18664447e+01, -8.76199047e+00],\n",
       "        [-1.48446664e+01, -5.44914833e+00, -1.52585606e+00],\n",
       "        [ 8.71315292e+00, -1.84061252e+01, -1.08737346e+00],\n",
       "        [-1.15109550e+01,  1.61277604e+01,  1.97279337e+00],\n",
       "        [-9.77579276e+00, -2.26846703e+01, -1.69347285e-01],\n",
       "        [ 5.14187543e+00, -9.02072829e+00,  7.38656145e+00],\n",
       "        [ 1.97375166e+01,  4.48143953e+00,  1.93427621e+00],\n",
       "        [ 1.86694632e+01, -1.73541738e+00, -7.13920420e+00],\n",
       "        [-1.87371436e+01, -4.11672773e+00,  1.93793503e+00],\n",
       "        [ 1.60380381e+01,  6.96483273e+00,  4.46323486e+00],\n",
       "        [ 1.15500142e+01, -9.57340487e+00, -8.62893302e+00],\n",
       "        [-4.80742222e+00,  1.50007761e+01, -1.48847999e+01],\n",
       "        [ 5.89372558e+00, -1.17855103e+01, -1.77085303e+00],\n",
       "        [-3.81163904e+00,  1.42045366e+01, -1.79207555e+01],\n",
       "        [ 4.83371581e+00, -1.72942160e+01,  8.57648236e+00],\n",
       "        [ 9.61295945e-01,  3.21288871e+00,  2.25834893e+01],\n",
       "        [-1.51420859e+00,  1.78323183e+01,  1.27632477e+01],\n",
       "        [ 9.14296504e+00,  2.83422003e+00, -1.56372531e+01],\n",
       "        [-2.42437925e-01, -9.73126428e+00, -1.71432937e+01],\n",
       "        [-1.32998733e+01, -1.79085569e+01, -5.28424403e+00],\n",
       "        [ 1.27736383e+01,  7.47844674e+00, -5.34265384e+00],\n",
       "        [ 7.20673923e+00,  1.18486843e+00, -2.65798987e+01],\n",
       "        [ 4.95813631e+00, -1.15655537e-01, -2.05611390e+01],\n",
       "        [ 8.12417393e+00,  6.88222661e+00,  8.87790864e+00],\n",
       "        [ 7.48366073e+00,  5.14754905e+00, -1.14043046e+01],\n",
       "        [ 6.14967166e+00,  1.33811891e+01, -6.36035980e+00],\n",
       "        [-1.10966899e+01, -2.34317567e+01,  5.17014530e+00],\n",
       "        [ 1.21366432e+01, -1.89197223e+00,  6.89655509e+00],\n",
       "        [-9.06689011e+00, -9.00234614e+00, -5.88609730e+00],\n",
       "        [ 1.20184028e+00, -7.87145302e+00,  1.64892250e+01],\n",
       "        [ 1.15567942e+01,  1.83244490e+00,  2.01064591e+01],\n",
       "        [-1.17958336e+00, -1.15871319e+01, -6.20016933e+00],\n",
       "        [-5.60090912e+00, -9.28184425e+00, -6.97175526e+00],\n",
       "        [-1.38893353e+01,  6.93203205e+00, -1.12143885e+00],\n",
       "        [-1.45166175e+01, -1.48516888e+00,  2.23502275e-02],\n",
       "        [-1.04827800e+01, -3.34412347e+00,  1.59694291e+01],\n",
       "        [-9.90279962e+00,  7.47044216e-01, -1.08742634e+01],\n",
       "        [ 1.20679626e+00, -2.84925040e+00, -1.47895109e+01],\n",
       "        [-6.20410360e+00, -6.10481818e+00, -1.05277518e+01],\n",
       "        [-9.74295780e+00, -1.61968373e+01, -4.29168887e+00],\n",
       "        [-1.07787477e+01, -5.69367794e+00, -1.13499375e+01],\n",
       "        [-1.47075635e+01, -8.46162906e+00,  3.59196778e+00],\n",
       "        [ 8.63021986e+00,  1.18676765e+01, -1.05049329e+01],\n",
       "        [-1.47035364e+01, -2.17990289e+00,  6.31819546e+00],\n",
       "        [-7.81873667e+00,  4.71448006e+00, -7.36749424e+00],\n",
       "        [-2.01683419e+01,  1.14147989e+01, -8.71924813e-01],\n",
       "        [ 1.74208040e+00, -1.27836620e+00,  1.06868706e+01],\n",
       "        [-7.81855637e-01, -2.61404549e+00, -1.39061504e+01],\n",
       "        [ 6.54679410e+00, -1.59818721e+01, -6.05561825e+00],\n",
       "        [ 8.87595669e+00, -1.50308182e+00, -1.19018361e+01],\n",
       "        [-4.04720756e+00,  1.01018507e+01, -9.82060439e+00],\n",
       "        [ 9.69691327e+00,  3.90055896e+00,  1.76890559e+01],\n",
       "        [-4.23488379e-01,  2.62893155e+00,  1.95699896e+01],\n",
       "        [-1.91190913e+01,  8.24726469e+00, -5.82361912e+00],\n",
       "        [ 2.98832750e+01, -9.44916771e+00, -1.63469802e+00],\n",
       "        [-6.92629078e+00,  1.01600822e+01, -1.59435116e+01],\n",
       "        [-1.55505499e+01,  1.11362005e+01, -9.91773416e+00],\n",
       "        [ 1.76760383e+01, -2.08302405e+01, -3.97693727e+00],\n",
       "        [-1.03891850e+01, -1.03606255e+01,  5.82182035e+00],\n",
       "        [-6.35003141e+00, -5.03095242e+00,  9.82421987e+00],\n",
       "        [ 2.63777873e+00, -2.08476360e+01, -6.55326839e+00],\n",
       "        [ 8.31995556e+00,  1.26997209e+01, -9.12031776e+00],\n",
       "        [-1.06920157e+01, -7.41770535e+00, -2.64718907e+00],\n",
       "        [ 4.02074448e+00,  2.41414949e+01, -2.19143559e+00],\n",
       "        [ 3.34552394e+00, -2.59315111e+00,  2.71667768e+01],\n",
       "        [-1.28513511e+01, -2.29867887e+00, -4.86216074e+00],\n",
       "        [ 7.66843031e+00, -6.90294186e+00,  1.79088898e+01],\n",
       "        [ 1.34723882e+01, -4.74238151e+00,  7.04164801e+00],\n",
       "        [ 8.10000314e+00, -9.86429215e-01,  1.07651846e+01],\n",
       "        [ 1.79931232e+01,  3.04374198e+00,  2.67561692e+00],\n",
       "        [-1.60500989e+01,  5.59731595e+00,  2.62051068e+00],\n",
       "        [-7.33747979e+00,  1.06719676e+01,  1.27413527e+00],\n",
       "        [ 3.36019280e+00, -1.74901303e+00, -1.42898714e+01],\n",
       "        [ 1.41792433e+01, -7.77655403e+00, -2.65254048e+00],\n",
       "        [-2.93192542e+01, -3.04092919e+01, -1.25174362e+00],\n",
       "        [ 1.31054117e+01,  7.66339732e+00, -6.24643095e-01],\n",
       "        [ 6.53061363e+00,  3.84470296e+00,  1.58677405e+01],\n",
       "        [-3.90397539e+00, -1.31295905e+01,  7.98920603e+00],\n",
       "        [ 8.98022715e+00,  5.27882667e+00,  4.66854288e+00],\n",
       "        [ 1.06743769e+01,  1.06123309e+01,  1.15380454e+00],\n",
       "        [-3.34711837e+00,  8.17257481e+00,  7.36303707e+00],\n",
       "        [-4.38201831e+00, -1.02081155e+01, -1.14784536e+01],\n",
       "        [ 3.55912692e+00,  6.19827967e+00, -1.67547374e+01],\n",
       "        [-8.91109533e+00, -3.71821918e-02,  1.37674973e+01],\n",
       "        [ 5.43445931e+00, -1.14866876e+01,  6.82187495e+00],\n",
       "        [-1.91778669e+01,  7.95888966e+00, -2.75772269e+00],\n",
       "        [-1.16518273e+01,  1.03075701e+01,  5.03720821e+00],\n",
       "        [-4.85589263e+00,  1.06790655e+01,  8.29612115e-01],\n",
       "        [-7.30582972e+00,  1.37636763e+01,  5.81881798e+00],\n",
       "        [ 3.30410597e+00, -6.88038464e+00, -3.10297738e+01],\n",
       "        [ 3.11195737e-01,  1.66728238e+01, -3.95928101e+00],\n",
       "        [-1.59051819e-01,  1.65123063e+01, -1.01014036e+01],\n",
       "        [-1.02349971e+01, -1.02364568e+01,  4.02236795e+00],\n",
       "        [ 1.42389333e+01,  7.02247764e+00, -2.41888355e+00],\n",
       "        [-1.09393378e+01, -1.47706171e+00, -5.33257835e+00],\n",
       "        [ 1.36573865e+01, -2.95989586e+00, -7.89922546e+00],\n",
       "        [ 1.35938838e+01, -1.96998549e+01,  4.37233544e+00],\n",
       "        [ 9.82967360e+00, -2.27934079e+00, -9.82144821e+00],\n",
       "        [-7.01322222e+00,  2.16290363e+00, -1.23683655e+01],\n",
       "        [ 9.54079745e+00,  1.42729676e+01, -1.95588117e+00],\n",
       "        [-5.08363406e-02, -6.95470462e+00, -9.19202115e+00],\n",
       "        [ 1.29584608e+01,  2.89215488e+00,  1.44579449e+00],\n",
       "        [ 8.70871771e+00,  4.37718011e+00,  1.10556712e+01],\n",
       "        [-2.27280507e+00, -1.09501181e+00,  2.07520234e+01],\n",
       "        [ 3.93428586e+00, -8.61318613e+00,  5.25252379e+00],\n",
       "        [-4.68523950e-01, -1.18877178e+01,  4.71883060e+00],\n",
       "        [ 5.11736871e-01, -1.55551665e+01, -6.00934934e+00],\n",
       "        [-9.77230656e+00,  2.19133390e+01, -3.26332525e-01],\n",
       "        [-1.52681784e+00, -6.73436153e+00, -1.98571476e+01],\n",
       "        [ 1.75616613e+00, -3.13490262e+01, -1.56216541e+00],\n",
       "        [-1.13033304e+00,  1.03670127e+01,  4.88101483e+00],\n",
       "        [-1.04745742e+01,  1.29361102e+00, -1.30753819e+01],\n",
       "        [ 7.86609680e+00,  1.29578397e+01,  4.93973070e+00],\n",
       "        [ 5.54709766e+00,  1.29240690e+01,  2.88787434e+00],\n",
       "        [ 1.10807705e+01,  5.83526568e+00, -7.12837505e+00],\n",
       "        [-5.49782154e+00,  1.79386079e-01, -1.61986506e+01],\n",
       "        [ 3.75016058e+00, -1.29046135e+01, -1.82377140e+00],\n",
       "        [-1.28869734e+00,  1.50340540e+01, -1.93786558e+00],\n",
       "        [-6.12401616e+00, -2.37362399e+01, -9.24211349e-01],\n",
       "        [ 1.42200251e+00,  1.30177941e+01,  3.94498316e+00],\n",
       "        [-9.45150123e+00, -1.54841057e+01,  1.28084149e+00],\n",
       "        [ 1.28521994e+01,  1.69488827e+01,  2.32868949e+00],\n",
       "        [ 2.94455530e+01, -1.20450393e+01, -1.75022412e+01],\n",
       "        [ 8.23579779e+00,  9.20528912e+00, -1.60804641e+00],\n",
       "        [ 2.24048065e+01, -9.33397963e+00, -1.77061614e+00],\n",
       "        [ 8.41577890e+00, -2.80314861e+01,  6.93528528e-01],\n",
       "        [-1.01402374e+01, -5.97696671e+00,  1.31818801e+01],\n",
       "        [-4.83459509e+00,  4.92673777e+00, -1.22638414e+01],\n",
       "        [ 2.32759356e+00,  3.86111148e+00,  1.68508651e+01],\n",
       "        [-1.34029540e+01,  1.26062383e+01,  2.95082909e+00],\n",
       "        [ 8.60575108e+00, -3.34896153e+00,  1.19002148e+01],\n",
       "        [-7.55185628e+00, -2.71765824e+00, -2.36591733e+01],\n",
       "        [-1.26832083e+01, -2.38563045e+01,  1.11280046e+01],\n",
       "        [ 3.55446706e+00, -9.37235591e+00,  1.02698498e+01],\n",
       "        [ 1.16634583e+01,  6.28196011e+00,  1.63301541e+01],\n",
       "        [-4.26209999e+00, -9.64033179e+00, -6.27646417e+00],\n",
       "        [-4.04948569e+00, -6.62161510e+00, -1.52152060e+01],\n",
       "        [ 1.33984872e+01, -3.64855029e+00, -5.41688960e+00],\n",
       "        [ 6.56556396e+00, -6.44922156e+00,  9.32442068e+00],\n",
       "        [-5.54771100e+00,  9.48624909e+00,  4.50726659e+00],\n",
       "        [ 5.94327701e+00, -9.26781602e-01, -1.67204120e+01],\n",
       "        [-1.52873016e+00,  1.53442761e+01, -2.18114065e+00],\n",
       "        [ 6.18416377e+00,  1.38800740e+01, -5.78553160e-01],\n",
       "        [-5.52776846e+00,  9.90932998e+00, -3.62991879e-01],\n",
       "        [-1.17590053e-01, -1.74970367e+01,  6.27810811e+00],\n",
       "        [ 3.61912444e+00,  1.12197737e+01, -2.14560500e+00],\n",
       "        [ 7.82050297e+00,  4.19040991e+00,  9.50554308e+00],\n",
       "        [ 2.51903438e+00,  8.76590500e+00,  7.74869278e+00],\n",
       "        [ 8.17098396e+00,  1.25191378e+01, -6.42219642e+00],\n",
       "        [ 1.91830729e+01, -9.28299435e+00, -1.49002950e-01],\n",
       "        [-9.58180398e+00, -1.93036668e+01, -1.12339007e+01],\n",
       "        [-2.31542225e+00,  1.74200884e+01,  9.52864137e-01],\n",
       "        [-3.16863274e+01, -3.39487012e+01, -1.54208171e+01],\n",
       "        [-1.65682918e+01, -1.70162079e+01, -2.09339314e+01],\n",
       "        [ 1.10990758e+01,  7.15987978e-02,  5.07361816e+00],\n",
       "        [ 1.69902297e+01,  4.54069512e+00, -4.70330871e-01],\n",
       "        [ 1.29782316e+01, -6.29156100e-01,  1.23264031e+00],\n",
       "        [ 1.92428747e+01,  7.79738711e+00,  4.65379820e+00],\n",
       "        [-1.73031719e+01, -7.43562739e+00, -5.35881828e+00],\n",
       "        [ 1.30343564e+01, -4.10151716e+00,  2.62911302e+00],\n",
       "        [-1.09352578e+01, -1.05994444e+01, -1.28260440e+01],\n",
       "        [-1.74931458e+01,  2.97658326e+00, -3.98722942e+00],\n",
       "        [-1.70522690e+00, -2.83003944e+00, -2.07870771e+01],\n",
       "        [-2.68787608e+01,  1.03618160e+01,  5.64444839e-01],\n",
       "        [-7.74987123e+00,  1.43952572e+01,  6.41456900e+00],\n",
       "        [ 1.76752964e+01, -2.97752010e+01,  8.08518632e+00],\n",
       "        [-8.52588585e+00, -1.51652915e+01, -4.31092716e+00],\n",
       "        [ 2.11636610e+00,  1.53719474e+01, -1.51693910e+01],\n",
       "        [-1.18300575e+01,  9.02865531e-01, -2.77057072e+00],\n",
       "        [-1.10595865e+00,  5.43097341e+00,  1.21433437e+01],\n",
       "        [ 1.03797856e+01,  2.25353231e+01,  4.81860545e+00],\n",
       "        [ 1.74568810e+00,  1.96589492e+01,  1.71953421e+00],\n",
       "        [-9.39709496e+00, -1.23359010e+01, -3.02952318e+00],\n",
       "        [-1.52801182e+01,  5.00966381e+00, -5.96279299e+00],\n",
       "        [-6.20285403e+00,  6.69521004e+00,  1.50909156e+01],\n",
       "        [ 1.14758531e+01, -9.48883901e+00, -7.34809239e+00],\n",
       "        [ 7.01451335e+00,  6.27279218e+00,  6.31616309e+00],\n",
       "        [-3.53072320e+00, -1.70959389e+01, -6.20691693e+00],\n",
       "        [ 1.71789740e+00,  1.64428571e+01, -4.68158282e-02],\n",
       "        [ 6.55230334e+00,  1.75326601e+01,  3.17914720e+00],\n",
       "        [ 1.54876214e+01, -3.55563785e+00,  3.91604739e+00],\n",
       "        [-6.85345401e+00, -1.22563406e+01,  8.15777536e+00],\n",
       "        [ 8.86701489e-02, -4.37527667e+01,  7.74252550e+00],\n",
       "        [ 7.85339844e+00, -1.11182395e+01, -5.98171318e+00],\n",
       "        [-3.63272983e+00, -4.31641039e+00, -1.04395713e+01],\n",
       "        [ 1.10604229e+01, -5.91357287e+00, -3.95279835e-01],\n",
       "        [ 8.95191950e+00,  4.34420495e+00, -7.89117111e+00],\n",
       "        [ 1.80816523e+01, -8.54043451e-02, -9.79824665e-02],\n",
       "        [ 1.38357007e+01, -9.03031966e+00,  9.45389062e+00],\n",
       "        [-9.78742458e+00,  1.70703656e+01, -1.09835980e+01],\n",
       "        [ 2.52664341e+00,  4.46247075e+00, -1.06577922e+01],\n",
       "        [ 1.39749100e+01,  4.19963692e+00, -7.50514139e-01],\n",
       "        [-1.61044331e+01,  7.80730941e+00, -5.97832527e+00],\n",
       "        [-1.08696623e+01, -4.84546473e+00,  7.89227892e+00],\n",
       "        [-4.13550112e+00,  6.64269084e+00,  1.06409146e+01],\n",
       "        [-3.60960474e+00,  1.28835177e+01, -2.20851530e-02],\n",
       "        [ 1.51443844e+01, -2.65521412e+00,  2.22064512e+00],\n",
       "        [ 1.20008717e+01,  2.01168147e+00, -1.34226403e+01],\n",
       "        [-9.83331587e+00, -6.09289757e-01,  1.37926323e+01],\n",
       "        [ 2.22166054e+01, -1.64101060e+01, -8.71929335e+00],\n",
       "        [-8.81894415e+00,  7.99691092e+00, -4.21820389e+00],\n",
       "        [-9.95478663e-01, -5.70121490e+00, -1.75817953e+01],\n",
       "        [-1.51574875e+00,  7.09784751e+00,  1.54536798e+01],\n",
       "        [-1.14422407e+01, -2.93319451e-01,  4.68934582e-01],\n",
       "        [-2.90163999e+00,  1.15221371e+01, -6.31959625e-01],\n",
       "        [ 3.58325904e+00,  8.14485459e+00,  8.45355317e+00],\n",
       "        [-3.36342699e+00,  8.48200598e+00,  1.39838061e+01],\n",
       "        [-8.84763758e+00, -6.09521519e+00,  5.26912578e+00],\n",
       "        [ 9.73621173e+00,  5.22015430e+00, -6.08961037e+00],\n",
       "        [-5.49038703e+00, -6.66498233e-01, -1.03859529e+01],\n",
       "        [-1.82820406e+01,  2.29455246e+00, -8.64233861e-01],\n",
       "        [ 3.18033832e+00,  1.48605927e+01, -1.08062916e+01],\n",
       "        [-8.57505554e+00,  8.07918510e+00,  3.59156034e+00],\n",
       "        [ 1.28864454e+01, -8.49782251e+00,  3.88787943e+00],\n",
       "        [-1.19050900e+01, -1.41564273e+01,  4.82834991e-01],\n",
       "        [-2.11702575e+01,  8.62979895e+00,  7.94373178e+00],\n",
       "        [ 6.41866308e+00, -1.27427427e+01, -4.40072281e+00],\n",
       "        [-1.02537579e+01,  1.45859955e+00,  8.96999852e+00],\n",
       "        [ 7.35899987e+00, -4.01483525e+00,  3.11612955e+01],\n",
       "        [ 2.07674273e+01,  2.12976827e+00, -7.48449577e+00],\n",
       "        [ 2.21887301e+01, -7.52388587e+00, -6.02523711e+00],\n",
       "        [ 2.28287417e+00,  1.09460894e+01,  4.51645619e+00],\n",
       "        [ 3.40307358e+00, -6.46525393e+00,  1.33720161e+01],\n",
       "        [ 7.27439741e+00, -1.58846315e+01,  7.20664667e+00],\n",
       "        [ 1.38395990e+00, -8.37494263e+00, -1.28284495e+01],\n",
       "        [-3.25176385e+00,  2.39888918e+01, -8.05869997e-01],\n",
       "        [ 1.20958609e+01,  1.90936107e+01, -7.85350366e+00],\n",
       "        [ 5.10046592e+00, -2.98937833e+00, -1.13520516e+01],\n",
       "        [-2.69780142e+00,  7.84587287e+00, -2.08380885e+01],\n",
       "        [-1.55132666e+00,  1.08990210e+01, -3.08893650e+00],\n",
       "        [-1.19923080e+01, -9.98011128e-01,  4.58559838e+00],\n",
       "        [ 1.30008308e+01, -2.10302582e+00,  2.75282313e+00],\n",
       "        [ 9.48101237e+00,  1.70026698e+00, -1.06642025e+01],\n",
       "        [ 1.19129736e+01, -1.16292443e+01, -1.39338168e+01],\n",
       "        [-2.29844761e+00, -5.55919334e+00, -7.61517408e+00],\n",
       "        [-2.91617134e-01,  2.28041367e+01, -2.69291867e+00],\n",
       "        [ 4.33323279e+00,  1.15547972e+01,  7.41184984e+00],\n",
       "        [-3.14174627e+00,  5.27578156e-01, -1.24333252e+01],\n",
       "        [-1.03258510e+01, -8.72922427e+00, -3.50912695e+00],\n",
       "        [-5.34460670e+00, -4.92140179e-01,  1.01363608e+01],\n",
       "        [ 9.24882045e+00,  6.24689191e+00, -1.45963178e+01],\n",
       "        [ 1.35192281e+01,  1.03051085e+01, -3.37097673e-01],\n",
       "        [ 1.27630663e+01,  9.02444149e+00, -6.32049798e+00],\n",
       "        [-2.73027513e+00,  4.69386418e+00,  2.37986418e+01],\n",
       "        [-3.17358593e+00,  1.44927994e+00, -1.41411664e+01],\n",
       "        [-8.43661515e+00,  8.73420278e+00, -5.85131085e+00],\n",
       "        [-3.86561820e+00,  1.50657653e+01, -4.78505461e+00],\n",
       "        [ 2.34704119e+01,  5.00136603e+00, -3.27516790e+00],\n",
       "        [ 1.42338388e+01,  1.62706884e+00,  9.19432159e-01],\n",
       "        [ 1.80350162e+00,  5.44337210e+00,  1.09360260e+01],\n",
       "        [-8.72182782e+00, -7.69657785e+00, -2.79383550e+01],\n",
       "        [ 2.90237403e+00, -1.36008511e+01, -1.37242062e+01],\n",
       "        [ 4.64897489e+00,  9.36822377e-01, -1.93741121e+01],\n",
       "        [-8.80734207e+00,  1.63873850e+01, -3.61131788e+00],\n",
       "        [ 8.55579659e+00, -1.26008825e+01, -7.83958157e+00],\n",
       "        [ 1.81641720e+00, -1.74170561e+01,  1.10378631e+01],\n",
       "        [-8.08521808e+00,  1.45263410e+01,  1.55470528e+00],\n",
       "        [-1.22897414e+01,  5.73623182e+00, -3.24229065e+00],\n",
       "        [ 1.57051994e+01, -3.93164836e+00,  3.22116526e+00],\n",
       "        [-8.66473587e+00,  2.45458652e+01, -3.33435399e+00],\n",
       "        [ 1.08972039e+01, -3.72282939e+00,  1.18533010e+01],\n",
       "        [ 1.58650570e+01,  5.94558625e+00,  1.38219106e-01],\n",
       "        [ 2.90171020e+00,  2.13294653e+01, -2.05538610e+00],\n",
       "        [ 1.27026331e+01,  1.18211893e+01,  7.51177384e+00],\n",
       "        [-1.77592631e+00, -1.87004636e+01,  6.47356239e+00],\n",
       "        [-1.11672434e+01, -1.19104012e+01, -2.24270615e+00],\n",
       "        [-2.51239724e+01, -1.50995504e+00, -2.49483401e+00],\n",
       "        [-1.15289053e+01, -7.58788512e+00,  1.46298335e+01],\n",
       "        [-1.38256263e+00, -2.03818002e+00, -1.79717482e+01],\n",
       "        [ 1.09765051e+01,  1.03736560e+01,  8.58405852e+00]]))"
      ]
     },
     "execution_count": 26,
     "metadata": {},
     "output_type": "execute_result"
    }
   ],
   "source": [
    "r_eclip  = np.array(r_eclip)\n",
    "v_eclip  = np.array(v_eclip)\n",
    "r_eclip, v_eclip"
   ]
  },
  {
   "cell_type": "code",
   "execution_count": 27,
   "metadata": {},
   "outputs": [
    {
     "name": "stderr",
     "output_type": "stream",
     "text": [
      "/tmp/ipykernel_25315/2424671013.py:1: SettingWithCopyWarning: \n",
      "A value is trying to be set on a copy of a slice from a DataFrame.\n",
      "Try using .loc[row_indexer,col_indexer] = value instead\n",
      "\n",
      "See the caveats in the documentation: https://pandas.pydata.org/pandas-docs/stable/user_guide/indexing.html#returning-a-view-versus-a-copy\n",
      "  fireballs['x_ecliptic'] = r_eclip[:,0]\n",
      "/tmp/ipykernel_25315/2424671013.py:2: SettingWithCopyWarning: \n",
      "A value is trying to be set on a copy of a slice from a DataFrame.\n",
      "Try using .loc[row_indexer,col_indexer] = value instead\n",
      "\n",
      "See the caveats in the documentation: https://pandas.pydata.org/pandas-docs/stable/user_guide/indexing.html#returning-a-view-versus-a-copy\n",
      "  fireballs['y_ecliptic'] = r_eclip[:,1]\n",
      "/tmp/ipykernel_25315/2424671013.py:3: SettingWithCopyWarning: \n",
      "A value is trying to be set on a copy of a slice from a DataFrame.\n",
      "Try using .loc[row_indexer,col_indexer] = value instead\n",
      "\n",
      "See the caveats in the documentation: https://pandas.pydata.org/pandas-docs/stable/user_guide/indexing.html#returning-a-view-versus-a-copy\n",
      "  fireballs['z_ecliptic'] = r_eclip[:,2]\n",
      "/tmp/ipykernel_25315/2424671013.py:5: SettingWithCopyWarning: \n",
      "A value is trying to be set on a copy of a slice from a DataFrame.\n",
      "Try using .loc[row_indexer,col_indexer] = value instead\n",
      "\n",
      "See the caveats in the documentation: https://pandas.pydata.org/pandas-docs/stable/user_guide/indexing.html#returning-a-view-versus-a-copy\n",
      "  fireballs['vx_ecliptic'] = v_eclip[:,0]\n",
      "/tmp/ipykernel_25315/2424671013.py:6: SettingWithCopyWarning: \n",
      "A value is trying to be set on a copy of a slice from a DataFrame.\n",
      "Try using .loc[row_indexer,col_indexer] = value instead\n",
      "\n",
      "See the caveats in the documentation: https://pandas.pydata.org/pandas-docs/stable/user_guide/indexing.html#returning-a-view-versus-a-copy\n",
      "  fireballs['vy_ecliptic'] = v_eclip[:,1]\n",
      "/tmp/ipykernel_25315/2424671013.py:7: SettingWithCopyWarning: \n",
      "A value is trying to be set on a copy of a slice from a DataFrame.\n",
      "Try using .loc[row_indexer,col_indexer] = value instead\n",
      "\n",
      "See the caveats in the documentation: https://pandas.pydata.org/pandas-docs/stable/user_guide/indexing.html#returning-a-view-versus-a-copy\n",
      "  fireballs['vz_ecliptic'] = v_eclip[:,2]\n"
     ]
    }
   ],
   "source": [
    "fireballs['x_ecliptic'] = r_eclip[:,0]\n",
    "fireballs['y_ecliptic'] = r_eclip[:,1]\n",
    "fireballs['z_ecliptic'] = r_eclip[:,2]\n",
    "\n",
    "fireballs['vx_ecliptic'] = v_eclip[:,0]\n",
    "fireballs['vy_ecliptic'] = v_eclip[:,1]\n",
    "fireballs['vz_ecliptic'] = v_eclip[:,2]"
   ]
  },
  {
   "cell_type": "code",
   "execution_count": 29,
   "metadata": {},
   "outputs": [],
   "source": [
    "fireballs.to_csv('cneos_fireball_data_sun_earth.csv', index = False)"
   ]
  },
  {
   "cell_type": "code",
   "execution_count": 59,
   "metadata": {},
   "outputs": [],
   "source": [
    "positions = []\n",
    "e = []\n",
    "q = [] \n",
    "inc = []\n",
    "\n",
    "for i in range(len(r_eclip)):\n",
    "    sim = rb.Simulation()\n",
    "    sim.units = 'km', 's', 'kg'\n",
    "    sim.integrator = \"WHFast\"\n",
    "    sim.dt = 86400\n",
    "    time = -3.154e+7\n",
    "\n",
    "    #sun = sim.add(\"Sun\", hash='sun', date=date[i])\n",
    "    #earth = sim.add(\"Earth\", hash='earth', date=date[i])\n",
    "\n",
    "    #r_earth = np.array(sim.particles['earth'].xyz)\n",
    "    #v_earth = np.array(sim.particles['earth'].vxyz)\n",
    "\n",
    "    earth = sim.add(x=fireballs['earthx (km)'][i], y=fireballs['earthy (km)'][i], z=fireballs['earthz (km)'][i], \n",
    "                   vx=fireballs['earthvx (km/s)'][i], vy=fireballs['earthvy (km/s)'][i], vz=fireballs['earthvz (km/s)'][i], m=5.9722e24)\n",
    "    sun = sim.add(x=fireballs['sunx (km)'][i], y=fireballs['suny (km)'][i], z=fireballs['sunz (km)'][i], \n",
    "                   vx=fireballs['sunvx (km/s)'][i], vy=fireballs['sunvy (km/s)'][i], vz=fireballs['sunvz (km/s)'][i], m=1.98847e30)\n",
    "    \n",
    "    r_earth = np.array(sim.particles[0].xyz)\n",
    "    v_earth = np.array(sim.particles[0].vxyz)  \n",
    "\n",
    "    r_asteroid = r_eclip[i]  + r_earth \n",
    "    v_asteroid = v_eclip[i] + v_earth #así si es \n",
    "\n",
    "    asteroid = sim.add(x=r_asteroid[0], y=r_asteroid[1], z=r_asteroid[2], \n",
    "                   vx=v_asteroid[0], vy=v_asteroid[1], vz=v_asteroid[2])\n",
    "    \n",
    "    sim.integrate(time)\n",
    "\n",
    "    positions.append(sim.particles[2].xyz)\n",
    "\n",
    "\n",
    "    o = sim.calculate_orbits(primary=sun)\n",
    "    e.append(o[1].e)\n",
    "    q.append((1-o[1].e)*o[1].a)\n",
    "    inc.append(o[1].inc)\n",
    "    \n"
   ]
  },
  {
   "cell_type": "code",
   "execution_count": 62,
   "metadata": {},
   "outputs": [],
   "source": [
    "positions = np.array(positions) "
   ]
  },
  {
   "cell_type": "code",
   "execution_count": 77,
   "metadata": {},
   "outputs": [],
   "source": [
    "r_earth = [fireballs['earthx (km)'][100], fireballs['earthy (km)'][100], fireballs['earthz (km)'][100]] \n",
    "v_earth = [fireballs['earthvx (km/s)'][100], fireballs['earthvy (km/s)'][100], fireballs['earthvz (km/s)'][100]]\n",
    "\n",
    "r_asteroid = r_eclip[100]  + r_earth \n",
    "v_asteroid = v_eclip[100] + v_earth #así si es \n",
    "\n",
    "state = [r_asteroid[0], r_asteroid[1], r_asteroid[2], v_asteroid[0], v_asteroid[1], v_asteroid[2]]\n",
    "et = spy.utc2et(date[205])\n",
    "sim = rb.Simulation()\n",
    "sim.units = 'km', 's', 'kg'\n",
    "mu = 1.98847e30*sim.G\n",
    " "
   ]
  },
  {
   "cell_type": "code",
   "execution_count": 78,
   "metadata": {},
   "outputs": [
    {
     "data": {
      "text/plain": [
       "array([1.18311477e+08, 5.54753555e-01, 2.46086237e-01, 4.24541455e+00,\n",
       "       5.12258853e+00, 3.28228146e-01, 4.42472801e+08, 1.32712079e+11])"
      ]
     },
     "execution_count": 78,
     "metadata": {},
     "output_type": "execute_result"
    }
   ],
   "source": [
    "orbital_elements = spy.oscelt(state, et, mu)\n",
    "orbital_elements"
   ]
  },
  {
   "cell_type": "code",
   "execution_count": 79,
   "metadata": {},
   "outputs": [
    {
     "data": {
      "text/plain": [
       "0.5595819224353755"
      ]
     },
     "execution_count": 79,
     "metadata": {},
     "output_type": "execute_result"
    }
   ],
   "source": [
    "e[100]"
   ]
  },
  {
   "attachments": {},
   "cell_type": "markdown",
   "metadata": {},
   "source": [
    "## earth orbit"
   ]
  },
  {
   "cell_type": "code",
   "execution_count": 45,
   "metadata": {},
   "outputs": [
    {
     "name": "stdout",
     "output_type": "stream",
     "text": [
      "Searching NASA Horizons for 'Sun'... \n",
      "Found: Sun (10) \n",
      "Searching NASA Horizons for 'Earth'... \n",
      "Found: Earth-Moon Barycenter (3) (chosen from query 'Earth')\n"
     ]
    }
   ],
   "source": [
    "sim = rb.Simulation()\n",
    "sim.units = 'km', 's', 'kg'\n",
    "sim.integrator = \"WHFast\"\n",
    "sim.dt = 86400\n",
    "\n",
    "sun = sim.add(\"Sun\", hash='sun', date=date[205])\n",
    "earth = sim.add(\"Earth\", hash='earth', date=date[205])\n",
    "\n",
    "times = np.linspace(1,3.154e+7,100) \n",
    "earth_positions = []\n",
    "\n",
    "for time in times:\n",
    "        \n",
    "    sim.integrate(-time)\n",
    "\n",
    "    earth_positions.append(sim.particles['earth'].xyz)"
   ]
  },
  {
   "cell_type": "code",
   "execution_count": 51,
   "metadata": {},
   "outputs": [
    {
     "data": {
      "image/png": "[encoded data removed]",
      "text/plain": [
       "<Figure size 640x480 with 1 Axes>"
      ]
     },
     "metadata": {},
     "output_type": "display_data"
    }
   ],
   "source": [
    "plt.plot(earth_positions[:,0], earth_positions[:,1])\n",
    "ax = plt.gca()\n",
    "ax.set_aspect('equal', adjustable='box')"
   ]
  },
  {
   "cell_type": "code",
   "execution_count": 15,
   "metadata": {},
   "outputs": [],
   "source": [
    "\n",
    "fireballs.to_csv('fireballs_integrate1.csv')"
   ]
  },
  {
   "cell_type": "code",
   "execution_count": 93,
   "metadata": {},
   "outputs": [
    {
     "data": {
      "application/vnd.plotly.v1+json": {
       "config": {
        "plotlyServerURL": "https://plot.ly"
       },
       "data": [
        {
         "mode": "markers",
         "type": "scatter",
         "x": [
          113029035.34712984,
          90280138.90845625,
          117541511.08629863,
          87795860.37366068,
          64294900.04931772,
          131313977.27770236,
          138604786.19077674,
          149371418.025731,
          17355182.396033764,
          65306303.63649032,
          88259217.21239947,
          130661287.94742095,
          147168554.66134578,
          114722861.4555459,
          126429112.41838597,
          141232292.70577282,
          113148549.2989433,
          84768341.52269427,
          110237139.0282535,
          123429784.25104609,
          128218577.08246233,
          93287696.08953772,
          150602900.57668543,
          149103437.15614,
          18578404.016786333,
          104716052.50131333,
          38751001.19370896,
          61735941.53658729,
          150283379.6070979,
          105714637.31111921,
          120756906.08282815,
          98166621.10801676,
          63589106.27456283,
          133475390.43367621,
          69624945.35716316,
          127214410.33421305,
          97427888.18623583,
          124885082.42496198,
          145807058.186981,
          102116636.58045557,
          90616809.30583401,
          121758396.91662766,
          89852893.73003517,
          106869251.62704489,
          143998135.59321877,
          146252052.86795047,
          147582072.2569281,
          151884600.72088078,
          138874532.64716223,
          110728157.54591177,
          137466850.93655136,
          134243014.37330717,
          147749314.20623368,
          123067455.08504826,
          144179888.99758056,
          146814235.64483023,
          122981207.40927733,
          142022781.74894142,
          146472897.9071827,
          146691014.2547166,
          143724851.04254088,
          142595108.47255173,
          103329236.03000262,
          128623482.14165235,
          100482210.7842899,
          131133913.97896008,
          120804603.08304378,
          136703864.00390086,
          95445745.93815863,
          149892865.33457756,
          149008617.99551836,
          101312083.97473218,
          151244107.13626802,
          57646297.34748887,
          126296081.0416469,
          147677511.72037342,
          86233970.70489873,
          31960601.98469412,
          121299857.68091144,
          120476491.67622133,
          61569628.88344069,
          145888272.0109976,
          146830042.49623883,
          77582477.1971447,
          76957775.04465385,
          132158782.18385895,
          106155037.07999687,
          148330229.0435152,
          113003946.93629187,
          112339857.61749582,
          91953024.34573385,
          132010976.39543428,
          121357044.17030804,
          106503026.85050161,
          131015093.42282982,
          147910261.05770785,
          132755931.16180116,
          1629113.910650719,
          147916015.0802334,
          146668594.96531922,
          118754167.0062048,
          138347370.90326682,
          117990341.54072252,
          58681371.989316225,
          142136968.3878874,
          130674479.51979911,
          129687011.16502754,
          145595408.31661296,
          100656197.4842447,
          107847434.05057071,
          97990760.18528672,
          127379395.39993078,
          142977346.92003146,
          130177282.22166891,
          134526652.90829846,
          53897180.0865639,
          127264696.51289728,
          103897093.40454642,
          123859825.98913664,
          88145953.82108209,
          151051129.67388374,
          89495439.7404171,
          117503398.09864978,
          146197178.30250955,
          132930300.83795075,
          128565695.76864798,
          148696060.68555963,
          150094482.61859408,
          145909235.17734563,
          136385705.32307523,
          81736710.60327177,
          143122067.640264,
          53448733.792238496,
          139951087.56453863,
          140257548.78485912,
          136527747.1930318,
          144973791.06913042,
          143489616.04731548,
          137211238.79169667,
          96781786.29276648,
          105541512.77257958,
          49664193.377613895,
          113135395.52608155,
          85194332.41056699,
          65771596.81370475,
          102673565.8567496,
          35185109.12855749,
          69757931.32200173,
          45589274.810226664,
          136739894.05387357,
          146922186.42118663,
          149677343.9411049,
          132013460.21597259,
          138847634.2175208,
          151668489.4605477,
          31887927.34452937,
          142294706.19969818,
          140436639.76560763,
          123939734.10420136,
          142918119.425751,
          137767000.019908,
          143132612.39302945,
          61091158.40868797,
          138887191.56897712,
          31274356.738145445,
          24197918.426091194,
          98836404.09520689,
          129382458.98360029,
          86341519.05580021,
          131201465.81134808,
          147000498.54796287,
          149443421.88913444,
          69948296.89446135,
          18457432.491403744,
          119414350.59558561,
          29443779.83536713,
          71765155.54804116,
          145417728.29463643,
          132010501.8728379,
          141442048.85104704,
          103934096.21482605,
          101056676.64983253,
          131795135.20967174,
          142823307.5661308,
          104431581.61293717,
          148034534.6099687,
          94029096.98356366,
          111617124.0446172,
          44510257.63001964,
          134683008.06981036,
          115516358.77608512,
          147140715.51436242,
          144269333.4696791,
          85208086.03664176,
          118210780.27670011,
          82525579.1092555,
          135441485.09209093,
          138390810.50400633,
          142087260.85207254,
          147780119.73127818,
          124040212.11904125,
          50577653.578581795,
          56171769.11031754,
          125152093.11446339,
          141250193.0030948,
          95750868.1105179,
          60741761.98418686,
          140939589.80978128,
          31478831.47892794,
          125543418.71319374,
          143814217.3509493,
          126056361.3844448,
          105049230.25240456,
          131963872.35906821,
          119906073.37844305,
          106048534.05324297,
          136017624.47814724,
          148801440.029212,
          149415845.97223932,
          68848092.68536094,
          131202980.30480948,
          116256725.90233438,
          63179002.608550176,
          124622965.57820225,
          141693378.4260054,
          121768496.47791284,
          117582809.45650208,
          66287928.972982004,
          76774285.47681502,
          147828351.34395474,
          75962626.8985664,
          99645727.7327241,
          141460169.38510346,
          118240191.32636598,
          88567393.06561716,
          130892391.28061986,
          140286448.13216287,
          122204508.48718996,
          71168770.05328865,
          139228235.40839815,
          143771656.90301397,
          147775170.74992952,
          78037893.61555031,
          86550725.67475823,
          149899504.46072307,
          143073265.5443006,
          149882438.9063803,
          142601699.5605454,
          90619554.87045595,
          81339730.43224451,
          98101756.2704788,
          146072758.18755436,
          147870970.4810359,
          117762684.80463193,
          138705186.72661003,
          150843107.97299123,
          134776686.55331683,
          105701041.86464761,
          94145167.63225594,
          104816825.95811418,
          143035569.51218033,
          146297415.77383047,
          146870150.56301263,
          134419319.2070848,
          136238619.59949172,
          142045612.64048517,
          150084726.19088596,
          142420140.8174051,
          121096759.25210883,
          128455934.91542101,
          67248105.6395012,
          131625854.33726129,
          148149810.86222845,
          148258381.89167976,
          135235049.7403516,
          145105412.71932843,
          77144190.699182,
          85550896.84455425,
          105160799.62035114,
          138930991.13651696,
          146562988.56269285,
          131537777.50470778,
          19148592.98030319,
          149385181.3638107,
          109211941.39187814,
          51504584.525623396,
          130075161.12534629,
          107949474.15555912,
          115365916.12902026,
          55886496.84825599,
          126491890.69975723,
          148545652.96934706,
          37042346.18216847
         ],
         "xaxis": "x",
         "y": [
          0.959098230649223,
          0.5108845091037136,
          0.4594713012713724,
          0.32607861390832105,
          0.8567157439332689,
          0.864042869761481,
          0.7522225627298967,
          0.5410240748275952,
          0.8520221300958221,
          0.7874365347987874,
          0.792293636737409,
          0.7908923825867028,
          0.939641523999279,
          0.7212234289502485,
          0.3396952495815843,
          0.5971097384967956,
          0.7435049749112681,
          0.28801368427415114,
          0.5505689293464319,
          1.091519901128983,
          1.6524658412756263,
          0.6739871414257972,
          0.42156813878859,
          1.1992236158036738,
          0.7828207992475884,
          0.7837469107179583,
          0.6833550613838172,
          0.7559721481110191,
          0.8643350646696301,
          0.7691374133788658,
          0.8759281117948798,
          0.7048939212886336,
          0.5489830761740973,
          0.853538042995324,
          0.46201398187192944,
          0.5946473890932744,
          0.4249960121010371,
          0.9478724086115078,
          0.46121412254031047,
          0.6511165317123149,
          0.24689217836445188,
          0.3429568658191526,
          0.7935187658011004,
          0.5003772245886525,
          0.712011011471204,
          0.4654518573761519,
          0.7955793286652857,
          0.8291384964981032,
          0.8881732482188366,
          1.27500852254541,
          0.6707819477766412,
          0.714422172316992,
          0.8681422087938959,
          0.4030897402035922,
          0.852704208648982,
          0.8878629311155182,
          0.7334364964490367,
          1.0564302188457588,
          1.1360332234059372,
          0.898673704249253,
          0.22800595961676223,
          0.6541358130925999,
          0.7262082512691951,
          0.6318491926429171,
          0.612460835672428,
          0.788323873330644,
          0.6737414227494442,
          0.4800373651000773,
          0.8796289479201308,
          0.15771909779495225,
          0.1003252525155127,
          0.6036973922642483,
          0.820318343104143,
          0.4576724866848227,
          0.38931001764079304,
          0.2839370598162561,
          0.7043392867790443,
          0.8553520012924418,
          0.5368624740801787,
          0.9921051586013013,
          0.8130834128700885,
          1.2180850904515625,
          0.7165418296249638,
          0.6622679038469869,
          0.4665568945751955,
          0.6990173502411848,
          1.0638305212483679,
          0.5710445849969744,
          0.4940875416873095,
          0.22636924083829707,
          0.4430028132210537,
          0.3150098816503207,
          0.8252779576571828,
          0.6473567866488079,
          0.626485989449094,
          0.2869499456490138,
          0.857696530613127,
          0.9841517688221908,
          1.121262106990584,
          0.6292894686929347,
          0.5595819224353755,
          0.5101442105574043,
          0.581048135634995,
          0.4391835208513399,
          0.8028209566290487,
          0.1565500455583493,
          0.42158467414166373,
          0.9554801924223226,
          0.8047825244307034,
          0.5825698707066945,
          0.38034275333593165,
          0.8048515917151778,
          0.9040774725227168,
          0.9078338310453387,
          1.0485797948827986,
          0.542993217741185,
          0.7459155717982481,
          0.3747439237253476,
          0.5863254553642016,
          0.8286263980475963,
          0.8470753457343468,
          0.26289963979303427,
          0.7076060450282398,
          0.49482546472198957,
          0.6329296925758406,
          0.3825394705389421,
          0.48630867652821125,
          0.7482425360988374,
          0.9002553219136223,
          0.9888627560316797,
          0.8013729132038957,
          0.7352541294048003,
          0.9156287381754147,
          0.60990122251589,
          0.7694572472125498,
          0.8915451703689021,
          0.991527100068428,
          0.8157294612650173,
          0.10373540513959273,
          0.4360875302303871,
          0.5228018725323095,
          0.7394809166927735,
          0.45949074597200185,
          0.5959255404397117,
          0.6446856480215234,
          1.5872421204375822,
          0.6193288319341738,
          0.737529758036642,
          0.831353363505582,
          0.7981757494697487,
          0.6059897725786669,
          0.5959199601729567,
          1.096962036728759,
          0.49307991990252853,
          0.1651727136263162,
          0.7801574730539563,
          0.6391009191393534,
          0.9462526975438198,
          0.41835837497654743,
          0.6080089767962307,
          0.7988046973179185,
          0.6044261571715875,
          0.456112483571231,
          0.28123918909346585,
          0.6722806676676221,
          0.7232111706785476,
          0.36935749917757227,
          0.9981507290569692,
          0.3809597724764072,
          0.35593335644233,
          0.6684289867918758,
          1.230979060450446,
          0.6493024055687173,
          0.7831376303157366,
          0.7760160008481028,
          0.8424314899936765,
          0.614535210816585,
          0.7135667897722706,
          0.9515671247842722,
          0.768893673675529,
          0.7840483105819062,
          0.7093729829488205,
          0.6618978333844211,
          1.270425883320074,
          0.6772970918898057,
          0.7209926713247048,
          1.1991199503554368,
          0.6513443892218107,
          0.9491089667842824,
          1.1213322355993303,
          0.6503328015915104,
          0.959055566729633,
          0.43240100258797987,
          0.8437652314365299,
          0.922011344198157,
          0.5041752237418713,
          1.0174126234461192,
          0.5675970164574109,
          0.9935258730192124,
          0.631157879279627,
          0.8685433121722033,
          0.5837009860188773,
          0.5989102854844964,
          0.7269430103461667,
          1.0351468910587664,
          2.373361207232317,
          0.4864435902996917,
          0.36351432775093384,
          0.6488336850206843,
          0.36406541068942205,
          1.285819792138863,
          0.8067379580825975,
          0.7741474581181348,
          0.14463270081778828,
          0.5696421629646522,
          0.6987843960577,
          0.7197426214608635,
          0.7160339664508479,
          1.0889656804791965,
          0.497059780931092,
          0.5992189139792731,
          0.3397756286754249,
          0.8221797181751336,
          0.4991569390209116,
          0.17062015267610126,
          0.1614402769215157,
          0.4347259049010139,
          0.44635862889516925,
          0.3424575165579271,
          0.8367441345173084,
          0.40263908586124486,
          0.3407325023176792,
          0.3593542154937595,
          0.8712143741779647,
          0.46820931608545674,
          0.5564717255032955,
          0.9629176239959943,
          0.9213193033992744,
          0.7177866840048072,
          0.9036375469906707,
          0.8026890753065756,
          0.6080727971682662,
          0.6402696160116761,
          0.7837160234150392,
          0.862590351452273,
          0.4627508228271361,
          1.5627884454585717,
          0.6425028173409438,
          0.872014139219055,
          0.721572859794691,
          0.20213926793869255,
          1.0074056924461068,
          0.8288661547963928,
          0.46985710214419696,
          0.7213773657005281,
          0.8167820124637358,
          1.053222375329049,
          0.2179942498370971,
          0.822951632833869,
          0.3951571708750906,
          0.20396945239120773,
          1.083865512542236,
          0.5062795965959823,
          0.6102778528066336,
          1.0047115165661102,
          1.0358394559565778,
          0.3061184410986967,
          0.1977301878784547,
          0.4977006808749625,
          0.8061790052348512,
          0.7201412033911911,
          0.688601005218374,
          0.42237150538141854,
          0.3081366975675466,
          0.8510732283060615,
          0.2021834788860147,
          0.5864975942138554,
          0.4743945130493417,
          0.6624938804557846,
          1.1295742078909874,
          1.0847400400499847,
          0.8341832877939079,
          0.838131364607698,
          0.9965496937742386,
          0.6159977772288583,
          0.6608682001807422,
          0.9447258940808433,
          0.7461611003264426,
          0.6855645019755083,
          0.7614625252879474,
          0.7430536067008195,
          0.24670956475951902,
          0.613480067460277
         ],
         "yaxis": "y"
        },
        {
         "mode": "markers",
         "type": "scatter",
         "x": [
          113029035.34712984,
          90280138.90845625,
          117541511.08629863,
          87795860.37366068,
          64294900.04931772,
          131313977.27770236,
          138604786.19077674,
          149371418.025731,
          17355182.396033764,
          65306303.63649032,
          88259217.21239947,
          130661287.94742095,
          147168554.66134578,
          114722861.4555459,
          126429112.41838597,
          141232292.70577282,
          113148549.2989433,
          84768341.52269427,
          110237139.0282535,
          123429784.25104609,
          128218577.08246233,
          93287696.08953772,
          150602900.57668543,
          149103437.15614,
          18578404.016786333,
          104716052.50131333,
          38751001.19370896,
          61735941.53658729,
          150283379.6070979,
          105714637.31111921,
          120756906.08282815,
          98166621.10801676,
          63589106.27456283,
          133475390.43367621,
          69624945.35716316,
          127214410.33421305,
          97427888.18623583,
          124885082.42496198,
          145807058.186981,
          102116636.58045557,
          90616809.30583401,
          121758396.91662766,
          89852893.73003517,
          106869251.62704489,
          143998135.59321877,
          146252052.86795047,
          147582072.2569281,
          151884600.72088078,
          138874532.64716223,
          110728157.54591177,
          137466850.93655136,
          134243014.37330717,
          147749314.20623368,
          123067455.08504826,
          144179888.99758056,
          146814235.64483023,
          122981207.40927733,
          142022781.74894142,
          146472897.9071827,
          146691014.2547166,
          143724851.04254088,
          142595108.47255173,
          103329236.03000262,
          128623482.14165235,
          100482210.7842899,
          131133913.97896008,
          120804603.08304378,
          136703864.00390086,
          95445745.93815863,
          149892865.33457756,
          149008617.99551836,
          101312083.97473218,
          151244107.13626802,
          57646297.34748887,
          126296081.0416469,
          147677511.72037342,
          86233970.70489873,
          31960601.98469412,
          121299857.68091144,
          120476491.67622133,
          61569628.88344069,
          145888272.0109976,
          146830042.49623883,
          77582477.1971447,
          76957775.04465385,
          132158782.18385895,
          106155037.07999687,
          148330229.0435152,
          113003946.93629187,
          112339857.61749582,
          91953024.34573385,
          132010976.39543428,
          121357044.17030804,
          106503026.85050161,
          131015093.42282982,
          147910261.05770785,
          132755931.16180116,
          1629113.910650719,
          147916015.0802334,
          146668594.96531922,
          118754167.0062048,
          138347370.90326682,
          117990341.54072252,
          58681371.989316225,
          142136968.3878874,
          130674479.51979911,
          129687011.16502754,
          145595408.31661296,
          100656197.4842447,
          107847434.05057071,
          97990760.18528672,
          127379395.39993078,
          142977346.92003146,
          130177282.22166891,
          134526652.90829846,
          53897180.0865639,
          127264696.51289728,
          103897093.40454642,
          123859825.98913664,
          88145953.82108209,
          151051129.67388374,
          89495439.7404171,
          117503398.09864978,
          146197178.30250955,
          132930300.83795075,
          128565695.76864798,
          148696060.68555963,
          150094482.61859408,
          145909235.17734563,
          136385705.32307523,
          81736710.60327177,
          143122067.640264,
          53448733.792238496,
          139951087.56453863,
          140257548.78485912,
          136527747.1930318,
          144973791.06913042,
          143489616.04731548,
          137211238.79169667,
          96781786.29276648,
          105541512.77257958,
          49664193.377613895,
          113135395.52608155,
          85194332.41056699,
          65771596.81370475,
          102673565.8567496,
          35185109.12855749,
          69757931.32200173,
          45589274.810226664,
          136739894.05387357,
          146922186.42118663,
          149677343.9411049,
          132013460.21597259,
          138847634.2175208,
          151668489.4605477,
          31887927.34452937,
          142294706.19969818,
          140436639.76560763,
          123939734.10420136,
          142918119.425751,
          137767000.019908,
          143132612.39302945,
          61091158.40868797,
          138887191.56897712,
          31274356.738145445,
          24197918.426091194,
          98836404.09520689,
          129382458.98360029,
          86341519.05580021,
          131201465.81134808,
          147000498.54796287,
          149443421.88913444,
          69948296.89446135,
          18457432.491403744,
          119414350.59558561,
          29443779.83536713,
          71765155.54804116,
          145417728.29463643,
          132010501.8728379,
          141442048.85104704,
          103934096.21482605,
          101056676.64983253,
          131795135.20967174,
          142823307.5661308,
          104431581.61293717,
          148034534.6099687,
          94029096.98356366,
          111617124.0446172,
          44510257.63001964,
          134683008.06981036,
          115516358.77608512,
          147140715.51436242,
          144269333.4696791,
          85208086.03664176,
          118210780.27670011,
          82525579.1092555,
          135441485.09209093,
          138390810.50400633,
          142087260.85207254,
          147780119.73127818,
          124040212.11904125,
          50577653.578581795,
          56171769.11031754,
          125152093.11446339,
          141250193.0030948,
          95750868.1105179,
          60741761.98418686,
          140939589.80978128,
          31478831.47892794,
          125543418.71319374,
          143814217.3509493,
          126056361.3844448,
          105049230.25240456,
          131963872.35906821,
          119906073.37844305,
          106048534.05324297,
          136017624.47814724,
          148801440.029212,
          149415845.97223932,
          68848092.68536094,
          131202980.30480948,
          116256725.90233438,
          63179002.608550176,
          124622965.57820225,
          141693378.4260054,
          121768496.47791284,
          117582809.45650208,
          66287928.972982004,
          76774285.47681502,
          147828351.34395474,
          75962626.8985664,
          99645727.7327241,
          141460169.38510346,
          118240191.32636598,
          88567393.06561716,
          130892391.28061986,
          140286448.13216287,
          122204508.48718996,
          71168770.05328865,
          139228235.40839815,
          143771656.90301397,
          147775170.74992952,
          78037893.61555031,
          86550725.67475823,
          149899504.46072307,
          143073265.5443006,
          149882438.9063803,
          142601699.5605454,
          90619554.87045595,
          81339730.43224451,
          98101756.2704788,
          146072758.18755436,
          147870970.4810359,
          117762684.80463193,
          138705186.72661003,
          150843107.97299123,
          134776686.55331683,
          105701041.86464761,
          94145167.63225594,
          104816825.95811418,
          143035569.51218033,
          146297415.77383047,
          146870150.56301263,
          134419319.2070848,
          136238619.59949172,
          142045612.64048517,
          150084726.19088596,
          142420140.8174051,
          121096759.25210883,
          128455934.91542101,
          67248105.6395012,
          131625854.33726129,
          148149810.86222845,
          148258381.89167976,
          135235049.7403516,
          145105412.71932843,
          77144190.699182,
          85550896.84455425,
          105160799.62035114,
          138930991.13651696,
          146562988.56269285,
          131537777.50470778,
          19148592.98030319,
          149385181.3638107,
          109211941.39187814,
          51504584.525623396,
          130075161.12534629,
          107949474.15555912,
          115365916.12902026,
          55886496.84825599,
          126491890.69975723,
          148545652.96934706,
          37042346.18216847
         ],
         "xaxis": "x2",
         "y": [
          0.07467153856490016,
          0.1145445351569827,
          0.7573983540798856,
          0.5964725672829945,
          0.03863066362567724,
          0.11337750003397981,
          0.36536783163312175,
          0.639687069949938,
          2.523069685406619,
          0.07400071602867313,
          0.10564885987318474,
          0.12752842059635056,
          0.21990774946257188,
          0.05004084727236045,
          0.4573542992943913,
          0.3982431880271638,
          0.12250357845485967,
          0.7565570570007651,
          0.2933065659477202,
          0.12587016319357247,
          0.4236570771072796,
          0.0023579014846748523,
          0.43136853203791364,
          0.20240793201282853,
          0.11040941845975433,
          0.03314658234656331,
          0.10177890795749049,
          0.006794505605411031,
          0.18117355287802714,
          0.058173004838069496,
          0.1954816517704072,
          0.06128981323610042,
          0.18456881187941865,
          0.22469900936239814,
          0.6400163011534111,
          0.049943555630031444,
          0.6617550136516912,
          0.22372620979880048,
          0.6733910080510538,
          0.4073566433468717,
          0.6337582276850184,
          0.5722939556780631,
          0.16959829970572632,
          0.17238817446480656,
          0.7636553564691965,
          0.6143567942819759,
          0.22568433471232502,
          0.28717478027899407,
          0.16383172777845706,
          0.13521728088018314,
          0.18700690484689386,
          0.1585843349521653,
          0.41471462781497326,
          0.6715643658384612,
          0.15276112016458215,
          0.16846036901269332,
          0.030853709059508867,
          0.000553646966459478,
          0.3723574926060931,
          0.2643125242386946,
          0.4629896049741105,
          0.27798939386641486,
          0.1302038132242704,
          0.32284362402187033,
          0.11488475801692165,
          0.28297187011388725,
          0.18178851955855996,
          0.21241055897879374,
          0.026928683944164363,
          0.3386553649007206,
          0.4663192530513893,
          0.19894826502064233,
          0.3010373356368816,
          0.45648927568540243,
          0.5773893491897288,
          0.6152469431709392,
          0.1961863037620764,
          0.08602909297992194,
          0.4901998266456827,
          0.2610892657114814,
          0.15250399254293112,
          0.13039446296541884,
          0.24982145918377457,
          0.23477883544342365,
          0.3530666837444926,
          0.07092048151393492,
          0.059884749790111436,
          0.8093959835507194,
          0.15279469558456887,
          0.6767813399107884,
          0.25381833113028024,
          0.34115611206098023,
          0.07407839627749914,
          0.08152345415141381,
          0.035833755292548,
          0.4419751558567194,
          0.07020026807749585,
          2.8463497861829175,
          0.01459675862019693,
          0.4392171451340862,
          0.24527005133610907,
          0.13267915712697678,
          0.03493640977868542,
          0.3320496253631657,
          0.29810185548351137,
          0.5918678800147809,
          0.42504100149396046,
          0.1646285275559972,
          0.08291060613845543,
          0.15592783262164123,
          0.028468965307796065,
          0.15485502262289813,
          0.8622779298116814,
          0.1016572924185588,
          0.2488101676811816,
          0.1808075330774569,
          0.06653574770036375,
          0.18262442761734876,
          0.2347265510349206,
          0.14386615662248428,
          0.24594601902905894,
          0.502793997390989,
          0.05724492694101716,
          0.2563596984057635,
          0.04020664257831126,
          0.3467062040439214,
          0.611799998006515,
          0.13178193733713436,
          0.11413299169840742,
          0.14749707857220878,
          0.010750298877471315,
          0.5324129265318256,
          0.0624157419270626,
          0.13042964152188963,
          0.3442489814246946,
          0.12545366518910517,
          0.06933708974687845,
          0.18246467309801578,
          0.5785123948033322,
          0.06404383881540873,
          0.06349123856812675,
          0.04156308125363361,
          0.12735677320465297,
          0.045533370068507564,
          0.09258874311308471,
          0.45293823562555463,
          0.08554671076495499,
          0.06521734739965768,
          0.030587593970849813,
          0.34624095330756705,
          0.33164032519318204,
          0.46387721644934293,
          0.07306594872071978,
          0.348703666320625,
          0.8361523643980738,
          0.663686009929719,
          0.2818110408326186,
          0.4218905305759568,
          0.19547424841743208,
          0.42469259047925556,
          0.14106422691013532,
          0.25158634760830734,
          0.19320769650453243,
          0.5318580736600494,
          0.12205565300766459,
          0.03596296785584575,
          0.012452270481031197,
          0.15788212953600927,
          0.07837092075335439,
          0.2931715960464381,
          0.20155533259134625,
          0.14530855379929813,
          0.00577215848582336,
          0.9441991163116067,
          0.027192818411626872,
          2.078264486577576,
          0.9450107891725641,
          0.13203037137974716,
          0.012087317575907152,
          0.031877983600862886,
          0.14124556441414182,
          0.16789776098472087,
          0.07230514577087596,
          0.2938934604132851,
          0.1224939730364289,
          0.5565246961665775,
          0.015967676416015455,
          0.19116672235093243,
          0.3579351411481689,
          0.10277222287003447,
          0.45919531624684745,
          0.06521085511905197,
          0.3458894063365154,
          0.15626030940681057,
          0.04613762176111093,
          0.11030848163360159,
          0.1476510412917565,
          0.43753913851995696,
          0.18238567676377543,
          0.16797192573957467,
          0.16950519257981908,
          0.002176732733439848,
          0.13905079451538324,
          0.10892186037577055,
          0.1945648647761412,
          0.17481373403887027,
          0.25530024446815536,
          0.3052652568706351,
          0.021970970714005302,
          0.246940120661893,
          0.0022401671685775316,
          0.26335236901109915,
          0.34141102789847483,
          0.36169261163190086,
          0.022403951146929158,
          0.18100655912784952,
          0.20925588140692983,
          0.27300814053679323,
          0.000490756448467021,
          0.08947542061570733,
          0.3907649717791287,
          0.4722133331824725,
          0.3435939072703926,
          0.1270220229411827,
          0.6033682708847924,
          0.567026857498176,
          0.014499830800574657,
          0.02567630263598162,
          0.33868424079610465,
          0.3564267006510849,
          0.21110288476908753,
          0.21563602358722075,
          0.3052728523986899,
          0.0234984172078166,
          0.39129615306976995,
          0.10316093847389587,
          0.09742865470192283,
          0.012969129967781358,
          0.2967381128596007,
          0.10940971926407592,
          0.22499477308482466,
          0.9603809013324899,
          0.2742858797590292,
          0.2019301703537689,
          0.11100151357944205,
          0.39353788121547206,
          0.1513884776450566,
          0.3441601433699723,
          0.02492993463903142,
          0.2718829188069506,
          0.43286323124920634,
          0.5154017412727472,
          0.07566053328224188,
          0.1419607400824515,
          0.07358218009565336,
          0.27001016252161714,
          0.3564428823157492,
          0.2769231059956886,
          0.08577949034033491,
          0.25577760228739177,
          0.39289950127411527,
          0.08090888480475955,
          0.2745331644454971,
          0.4171792275667692,
          0.008408055388839236,
          0.15489513192448617,
          0.7751174715764044,
          0.45471053750950813,
          0.1749015585843707,
          0.12670317041218856,
          0.12484690966979159,
          0.02534407595380711,
          0.3159228559560839,
          0.9912844731969466,
          0.3686787789301584,
          0.6337879783568424,
          0.1319558976244013,
          0.2844982189552319,
          0.3429662942809607,
          0.03641865477384477,
          0.07492296725243765,
          0.08602579283228286,
          0.2360915063541247,
          0.2869198501134781,
          0.004276338792301912,
          0.08960260444469265,
          0.19437322677798868,
          0.19720403674457557,
          0.06613387131411318,
          0.10330067116606144,
          0.4109785950415142,
          0.5722578394548714,
          0.462978171511932
         ],
         "yaxis": "y2"
        }
       ],
       "layout": {
        "height": 600,
        "template": {
         "data": {
          "bar": [
           {
            "error_x": {
             "color": "#2a3f5f"
            },
            "error_y": {
             "color": "#2a3f5f"
            },
            "marker": {
             "line": {
              "color": "#E5ECF6",
              "width": 0.5
             },
             "pattern": {
              "fillmode": "overlay",
              "size": 10,
              "solidity": 0.2
             }
            },
            "type": "bar"
           }
          ],
          "barpolar": [
           {
            "marker": {
             "line": {
              "color": "#E5ECF6",
              "width": 0.5
             },
             "pattern": {
              "fillmode": "overlay",
              "size": 10,
              "solidity": 0.2
             }
            },
            "type": "barpolar"
           }
          ],
          "carpet": [
           {
            "aaxis": {
             "endlinecolor": "#2a3f5f",
             "gridcolor": "white",
             "linecolor": "white",
             "minorgridcolor": "white",
             "startlinecolor": "#2a3f5f"
            },
            "baxis": {
             "endlinecolor": "#2a3f5f",
             "gridcolor": "white",
             "linecolor": "white",
             "minorgridcolor": "white",
             "startlinecolor": "#2a3f5f"
            },
            "type": "carpet"
           }
          ],
          "choropleth": [
           {
            "colorbar": {
             "outlinewidth": 0,
             "ticks": ""
            },
            "type": "choropleth"
           }
          ],
          "contour": [
           {
            "colorbar": {
             "outlinewidth": 0,
             "ticks": ""
            },
            "colorscale": [
             [
              0,
              "#0d0887"
             ],
             [
              0.1111111111111111,
              "#46039f"
             ],
             [
              0.2222222222222222,
              "#7201a8"
             ],
             [
              0.3333333333333333,
              "#9c179e"
             ],
             [
              0.4444444444444444,
              "#bd3786"
             ],
             [
              0.5555555555555556,
              "#d8576b"
             ],
             [
              0.6666666666666666,
              "#ed7953"
             ],
             [
              0.7777777777777778,
              "#fb9f3a"
             ],
             [
              0.8888888888888888,
              "#fdca26"
             ],
             [
              1,
              "#f0f921"
             ]
            ],
            "type": "contour"
           }
          ],
          "contourcarpet": [
           {
            "colorbar": {
             "outlinewidth": 0,
             "ticks": ""
            },
            "type": "contourcarpet"
           }
          ],
          "heatmap": [
           {
            "colorbar": {
             "outlinewidth": 0,
             "ticks": ""
            },
            "colorscale": [
             [
              0,
              "#0d0887"
             ],
             [
              0.1111111111111111,
              "#46039f"
             ],
             [
              0.2222222222222222,
              "#7201a8"
             ],
             [
              0.3333333333333333,
              "#9c179e"
             ],
             [
              0.4444444444444444,
              "#bd3786"
             ],
             [
              0.5555555555555556,
              "#d8576b"
             ],
             [
              0.6666666666666666,
              "#ed7953"
             ],
             [
              0.7777777777777778,
              "#fb9f3a"
             ],
             [
              0.8888888888888888,
              "#fdca26"
             ],
             [
              1,
              "#f0f921"
             ]
            ],
            "type": "heatmap"
           }
          ],
          "heatmapgl": [
           {
            "colorbar": {
             "outlinewidth": 0,
             "ticks": ""
            },
            "colorscale": [
             [
              0,
              "#0d0887"
             ],
             [
              0.1111111111111111,
              "#46039f"
             ],
             [
              0.2222222222222222,
              "#7201a8"
             ],
             [
              0.3333333333333333,
              "#9c179e"
             ],
             [
              0.4444444444444444,
              "#bd3786"
             ],
             [
              0.5555555555555556,
              "#d8576b"
             ],
             [
              0.6666666666666666,
              "#ed7953"
             ],
             [
              0.7777777777777778,
              "#fb9f3a"
             ],
             [
              0.8888888888888888,
              "#fdca26"
             ],
             [
              1,
              "#f0f921"
             ]
            ],
            "type": "heatmapgl"
           }
          ],
          "histogram": [
           {
            "marker": {
             "pattern": {
              "fillmode": "overlay",
              "size": 10,
              "solidity": 0.2
             }
            },
            "type": "histogram"
           }
          ],
          "histogram2d": [
           {
            "colorbar": {
             "outlinewidth": 0,
             "ticks": ""
            },
            "colorscale": [
             [
              0,
              "#0d0887"
             ],
             [
              0.1111111111111111,
              "#46039f"
             ],
             [
              0.2222222222222222,
              "#7201a8"
             ],
             [
              0.3333333333333333,
              "#9c179e"
             ],
             [
              0.4444444444444444,
              "#bd3786"
             ],
             [
              0.5555555555555556,
              "#d8576b"
             ],
             [
              0.6666666666666666,
              "#ed7953"
             ],
             [
              0.7777777777777778,
              "#fb9f3a"
             ],
             [
              0.8888888888888888,
              "#fdca26"
             ],
             [
              1,
              "#f0f921"
             ]
            ],
            "type": "histogram2d"
           }
          ],
          "histogram2dcontour": [
           {
            "colorbar": {
             "outlinewidth": 0,
             "ticks": ""
            },
            "colorscale": [
             [
              0,
              "#0d0887"
             ],
             [
              0.1111111111111111,
              "#46039f"
             ],
             [
              0.2222222222222222,
              "#7201a8"
             ],
             [
              0.3333333333333333,
              "#9c179e"
             ],
             [
              0.4444444444444444,
              "#bd3786"
             ],
             [
              0.5555555555555556,
              "#d8576b"
             ],
             [
              0.6666666666666666,
              "#ed7953"
             ],
             [
              0.7777777777777778,
              "#fb9f3a"
             ],
             [
              0.8888888888888888,
              "#fdca26"
             ],
             [
              1,
              "#f0f921"
             ]
            ],
            "type": "histogram2dcontour"
           }
          ],
          "mesh3d": [
           {
            "colorbar": {
             "outlinewidth": 0,
             "ticks": ""
            },
            "type": "mesh3d"
           }
          ],
          "parcoords": [
           {
            "line": {
             "colorbar": {
              "outlinewidth": 0,
              "ticks": ""
             }
            },
            "type": "parcoords"
           }
          ],
          "pie": [
           {
            "automargin": true,
            "type": "pie"
           }
          ],
          "scatter": [
           {
            "fillpattern": {
             "fillmode": "overlay",
             "size": 10,
             "solidity": 0.2
            },
            "type": "scatter"
           }
          ],
          "scatter3d": [
           {
            "line": {
             "colorbar": {
              "outlinewidth": 0,
              "ticks": ""
             }
            },
            "marker": {
             "colorbar": {
              "outlinewidth": 0,
              "ticks": ""
             }
            },
            "type": "scatter3d"
           }
          ],
          "scattercarpet": [
           {
            "marker": {
             "colorbar": {
              "outlinewidth": 0,
              "ticks": ""
             }
            },
            "type": "scattercarpet"
           }
          ],
          "scattergeo": [
           {
            "marker": {
             "colorbar": {
              "outlinewidth": 0,
              "ticks": ""
             }
            },
            "type": "scattergeo"
           }
          ],
          "scattergl": [
           {
            "marker": {
             "colorbar": {
              "outlinewidth": 0,
              "ticks": ""
             }
            },
            "type": "scattergl"
           }
          ],
          "scattermapbox": [
           {
            "marker": {
             "colorbar": {
              "outlinewidth": 0,
              "ticks": ""
             }
            },
            "type": "scattermapbox"
           }
          ],
          "scatterpolar": [
           {
            "marker": {
             "colorbar": {
              "outlinewidth": 0,
              "ticks": ""
             }
            },
            "type": "scatterpolar"
           }
          ],
          "scatterpolargl": [
           {
            "marker": {
             "colorbar": {
              "outlinewidth": 0,
              "ticks": ""
             }
            },
            "type": "scatterpolargl"
           }
          ],
          "scatterternary": [
           {
            "marker": {
             "colorbar": {
              "outlinewidth": 0,
              "ticks": ""
             }
            },
            "type": "scatterternary"
           }
          ],
          "surface": [
           {
            "colorbar": {
             "outlinewidth": 0,
             "ticks": ""
            },
            "colorscale": [
             [
              0,
              "#0d0887"
             ],
             [
              0.1111111111111111,
              "#46039f"
             ],
             [
              0.2222222222222222,
              "#7201a8"
             ],
             [
              0.3333333333333333,
              "#9c179e"
             ],
             [
              0.4444444444444444,
              "#bd3786"
             ],
             [
              0.5555555555555556,
              "#d8576b"
             ],
             [
              0.6666666666666666,
              "#ed7953"
             ],
             [
              0.7777777777777778,
              "#fb9f3a"
             ],
             [
              0.8888888888888888,
              "#fdca26"
             ],
             [
              1,
              "#f0f921"
             ]
            ],
            "type": "surface"
           }
          ],
          "table": [
           {
            "cells": {
             "fill": {
              "color": "#EBF0F8"
             },
             "line": {
              "color": "white"
             }
            },
            "header": {
             "fill": {
              "color": "#C8D4E3"
             },
             "line": {
              "color": "white"
             }
            },
            "type": "table"
           }
          ]
         },
         "layout": {
          "annotationdefaults": {
           "arrowcolor": "#2a3f5f",
           "arrowhead": 0,
           "arrowwidth": 1
          },
          "autotypenumbers": "strict",
          "coloraxis": {
           "colorbar": {
            "outlinewidth": 0,
            "ticks": ""
           }
          },
          "colorscale": {
           "diverging": [
            [
             0,
             "#8e0152"
            ],
            [
             0.1,
             "#c51b7d"
            ],
            [
             0.2,
             "#de77ae"
            ],
            [
             0.3,
             "#f1b6da"
            ],
            [
             0.4,
             "#fde0ef"
            ],
            [
             0.5,
             "#f7f7f7"
            ],
            [
             0.6,
             "#e6f5d0"
            ],
            [
             0.7,
             "#b8e186"
            ],
            [
             0.8,
             "#7fbc41"
            ],
            [
             0.9,
             "#4d9221"
            ],
            [
             1,
             "#276419"
            ]
           ],
           "sequential": [
            [
             0,
             "#0d0887"
            ],
            [
             0.1111111111111111,
             "#46039f"
            ],
            [
             0.2222222222222222,
             "#7201a8"
            ],
            [
             0.3333333333333333,
             "#9c179e"
            ],
            [
             0.4444444444444444,
             "#bd3786"
            ],
            [
             0.5555555555555556,
             "#d8576b"
            ],
            [
             0.6666666666666666,
             "#ed7953"
            ],
            [
             0.7777777777777778,
             "#fb9f3a"
            ],
            [
             0.8888888888888888,
             "#fdca26"
            ],
            [
             1,
             "#f0f921"
            ]
           ],
           "sequentialminus": [
            [
             0,
             "#0d0887"
            ],
            [
             0.1111111111111111,
             "#46039f"
            ],
            [
             0.2222222222222222,
             "#7201a8"
            ],
            [
             0.3333333333333333,
             "#9c179e"
            ],
            [
             0.4444444444444444,
             "#bd3786"
            ],
            [
             0.5555555555555556,
             "#d8576b"
            ],
            [
             0.6666666666666666,
             "#ed7953"
            ],
            [
             0.7777777777777778,
             "#fb9f3a"
            ],
            [
             0.8888888888888888,
             "#fdca26"
            ],
            [
             1,
             "#f0f921"
            ]
           ]
          },
          "colorway": [
           "#636efa",
           "#EF553B",
           "#00cc96",
           "#ab63fa",
           "#FFA15A",
           "#19d3f3",
           "#FF6692",
           "#B6E880",
           "#FF97FF",
           "#FECB52"
          ],
          "font": {
           "color": "#2a3f5f"
          },
          "geo": {
           "bgcolor": "white",
           "lakecolor": "white",
           "landcolor": "#E5ECF6",
           "showlakes": true,
           "showland": true,
           "subunitcolor": "white"
          },
          "hoverlabel": {
           "align": "left"
          },
          "hovermode": "closest",
          "mapbox": {
           "style": "light"
          },
          "paper_bgcolor": "white",
          "plot_bgcolor": "#E5ECF6",
          "polar": {
           "angularaxis": {
            "gridcolor": "white",
            "linecolor": "white",
            "ticks": ""
           },
           "bgcolor": "#E5ECF6",
           "radialaxis": {
            "gridcolor": "white",
            "linecolor": "white",
            "ticks": ""
           }
          },
          "scene": {
           "xaxis": {
            "backgroundcolor": "#E5ECF6",
            "gridcolor": "white",
            "gridwidth": 2,
            "linecolor": "white",
            "showbackground": true,
            "ticks": "",
            "zerolinecolor": "white"
           },
           "yaxis": {
            "backgroundcolor": "#E5ECF6",
            "gridcolor": "white",
            "gridwidth": 2,
            "linecolor": "white",
            "showbackground": true,
            "ticks": "",
            "zerolinecolor": "white"
           },
           "zaxis": {
            "backgroundcolor": "#E5ECF6",
            "gridcolor": "white",
            "gridwidth": 2,
            "linecolor": "white",
            "showbackground": true,
            "ticks": "",
            "zerolinecolor": "white"
           }
          },
          "shapedefaults": {
           "line": {
            "color": "#2a3f5f"
           }
          },
          "ternary": {
           "aaxis": {
            "gridcolor": "white",
            "linecolor": "white",
            "ticks": ""
           },
           "baxis": {
            "gridcolor": "white",
            "linecolor": "white",
            "ticks": ""
           },
           "bgcolor": "#E5ECF6",
           "caxis": {
            "gridcolor": "white",
            "linecolor": "white",
            "ticks": ""
           }
          },
          "title": {
           "x": 0.05
          },
          "xaxis": {
           "automargin": true,
           "gridcolor": "white",
           "linecolor": "white",
           "ticks": "",
           "title": {
            "standoff": 15
           },
           "zerolinecolor": "white",
           "zerolinewidth": 2
          },
          "yaxis": {
           "automargin": true,
           "gridcolor": "white",
           "linecolor": "white",
           "ticks": "",
           "title": {
            "standoff": 15
           },
           "zerolinecolor": "white",
           "zerolinewidth": 2
          }
         }
        },
        "title": {
         "text": "Orbital Elements (e,q,inc) CNEOS data bolides integration one year"
        },
        "width": 1000,
        "xaxis": {
         "anchor": "y",
         "domain": [
          0,
          0.45
         ],
         "title": {
          "text": "q [km]"
         }
        },
        "xaxis2": {
         "anchor": "y2",
         "domain": [
          0.55,
          1
         ],
         "title": {
          "text": "q [km]"
         }
        },
        "yaxis": {
         "anchor": "x",
         "domain": [
          0,
          1
         ],
         "title": {
          "text": "e"
         }
        },
        "yaxis2": {
         "anchor": "x2",
         "domain": [
          0,
          1
         ],
         "title": {
          "text": "i"
         }
        }
       }
      }
     },
     "metadata": {},
     "output_type": "display_data"
    }
   ],
   "source": [
    "from plotly.subplots import make_subplots\n",
    "import plotly.graph_objects as go\n",
    "\n",
    "fig = make_subplots(rows=1, cols=2)\n",
    "\n",
    "fig.add_trace(\n",
    "    go.Scatter(x=q, y=e, mode=\"markers\"),\n",
    "    row=1, col=1\n",
    ")\n",
    "\n",
    "fig.add_trace(\n",
    "    go.Scatter(x=q, y=inc, mode=\"markers\"),\n",
    "    row=1, col=2\n",
    ")\n",
    "fig['layout']['xaxis']['title']='q [km]'\n",
    "fig['layout']['xaxis2']['title']='q [km]'\n",
    "fig['layout']['yaxis']['title']='e'\n",
    "fig['layout']['yaxis2']['title']='i'\n",
    "fig.update_layout(height=600, width=1000, title_text=\"Orbital Elements (e,q,inc) CNEOS data bolides integration one year\")\n",
    "fig.show()\n",
    "\n"
   ]
  },
  {
   "cell_type": "code",
   "execution_count": 65,
   "metadata": {},
   "outputs": [
    {
     "data": {
      "text/plain": [
       "[<matplotlib.lines.Line2D at 0x7f65efe31ea0>]"
      ]
     },
     "execution_count": 65,
     "metadata": {},
     "output_type": "execute_result"
    },
    {
     "data": {
      "image/png": "[encoded data removed]",
      "text/plain": [
       "<Figure size 640x480 with 1 Axes>"
      ]
     },
     "metadata": {},
     "output_type": "display_data"
    }
   ],
   "source": [
    "plt.plot(q, inc, '.')"
   ]
  },
  {
   "cell_type": "code",
   "execution_count": null,
   "metadata": {},
   "outputs": [],
   "source": []
  },
  {
   "cell_type": "code",
   "execution_count": 63,
   "metadata": {},
   "outputs": [
    {
     "data": {
      "application/vnd.plotly.v1+json": {
       "config": {
        "plotlyServerURL": "https://plot.ly"
       },
       "data": [
        {
         "mode": "markers",
         "type": "scatter3d",
         "x": [
          -307545558.2310271,
          -165396226.8899694,
          185454481.08298656,
          -79338448.70668025,
          -641813567.710552,
          481968507.70780677,
          472898496.16247267,
          314932277.94074124,
          -162383114.33719712,
          -155544941.5103093,
          20975290.81226471,
          439386285.24459565,
          664359845.7437502,
          539460759.9560801,
          -202253618.4451033,
          83404918.12295268,
          -326559371.9473025,
          -38594854.54303114,
          -173739204.62159294,
          -717974291.1090254,
          -627835420.1514486,
          -371341591.86373466,
          -288886492.4603034,
          -801796504.8432434,
          2994487.341707873,
          222099650.5862697,
          -113908143.58207041,
          381832761.4007893,
          135646924.9458219,
          -303180616.70302165,
          -208004903.92927596,
          307613759.1056948,
          -177741681.47755998,
          204547961.00250888,
          64924233.09048343,
          422404807.56239516,
          -191655214.988114,
          543536003.0192974,
          142808445.69040143,
          -308767938.69130933,
          41429778.990332715,
          -87647751.47686154,
          567326992.4590404,
          -189938732.56072083,
          -412564907.1476028,
          -385225165.43671405,
          -579716216.4691485,
          -609751758.4397483,
          -684778052.2766397,
          614164398.7339265,
          -7610711.2541179545,
          518691972.8049777,
          478403917.18992835,
          239565798.5085838,
          589282569.180398,
          652223175.6999092,
          216486636.04117873,
          701078986.085317,
          743990735.9522116,
          505256172.53881854,
          -96913315.42201033,
          422732993.5512682,
          521038118.7551732,
          207428696.98181003,
          177736957.80104738,
          -503349307.36122084,
          142716376.10370424,
          -279313665.88046783,
          -35311367.31540395,
          127772362.97209589,
          151155823.71655357,
          295985375.90857214,
          -286860074.73313373,
          53279207.96572163,
          215171094.35534623,
          177103900.06563297,
          -35075919.72842233,
          4167864.2656542175,
          -30525207.075257573,
          365510460.17272115,
          282877269.8531431,
          832758616.4879562,
          521651985.1107422,
          361585468.36454993,
          61974548.77247557,
          420321323.44606376,
          -458921418.7696527,
          -205123548.14488605,
          -89726689.2091006,
          137395197.29325417,
          179297688.99622235,
          -4262983.432291077,
          -530525443.8390853,
          -122714277.51248671,
          -374050348.51450306,
          -63086640.194404915,
          -332284938.9131971,
          -9729549.10207121,
          -781971448.2157688,
          -217421131.16516763,
          376098410.30838794,
          -159935823.63789096,
          -295284303.0855567,
          -1286513.7766000577,
          446393726.807195,
          -115704315.56088956,
          184812789.6654485,
          332373726.0653629,
          180564962.64454734,
          -118975220.64406753,
          -148370628.19101685,
          -22458514.388027065,
          401033545.21217364,
          -279768783.58985466,
          -197789154.3997839,
          107377590.13672249,
          -530866011.5076556,
          -9003561.156056445,
          -200537950.30485615,
          214686833.9801341,
          -424463873.64700997,
          -102515422.80349274,
          -524861740.8896743,
          311189347.48794377,
          -174622445.9933756,
          142680133.04187965,
          333740045.7734893,
          216892066.10996217,
          558446514.4496729,
          619815677.9764149,
          -344752529.76126313,
          499911268.0335925,
          591151194.7280524,
          -253893173.591998,
          83289786.75448443,
          -519317525.75676996,
          -496380599.5796022,
          -596015590.0230299,
          97685344.21261474,
          212757233.0078486,
          -303949567.19602346,
          240600423.35108182,
          -196200561.01258308,
          265874303.54250997,
          -73863045.40704623,
          -415751132.3056176,
          -129153297.6523912,
          109803486.65610757,
          402400069.73648435,
          424638869.6001294,
          -276765527.62864524,
          -438553404.9992652,
          -76214250.7629924,
          -177148903.62510782,
          109014770.73038842,
          -7155648.493290024,
          112203688.80740415,
          -502550415.29877347,
          290937206.5835827,
          403869049.17836916,
          -67315497.83464862,
          320031334.86177987,
          -53646295.9004793,
          159774506.51686347,
          -136828972.5608115,
          -33621189.9393335,
          -145877299.1770188,
          659850870.0386741,
          78056442.94790305,
          -182121535.34966677,
          -410605781.2836837,
          -658362033.2132874,
          222652258.32610807,
          86632951.95182227,
          -552419218.6441702,
          -27701246.14623023,
          116295698.2846416,
          -202663704.81934494,
          -528517089.34032893,
          -209212186.1888429,
          -392969492.63040376,
          396228848.8404612,
          77917417.56492214,
          719458487.8340929,
          174268386.23636112,
          522507619.604746,
          525135510.9731566,
          -182975879.09787017,
          313695867.4563274,
          818227356.9857677,
          -305553194.51124763,
          502895119.6289056,
          -201607275.3197923,
          -565018628.1164862,
          -367683799.66591877,
          -80182036.66206938,
          217449081.01475066,
          -387299199.5642575,
          -340669177.2046176,
          -435992335.027048,
          409980331.1206354,
          -185336084.88184112,
          -168476531.9455127,
          -6184373.089460611,
          747878537.0159817,
          830392690.076682,
          137456746.3259399,
          4212223.8625768265,
          100908859.28062202,
          -132878924.23678845,
          -805745526.1411266,
          -261827114.28308132,
          -415326886.6405077,
          -79239276.9866233,
          -91488386.47203559,
          94371598.21607195,
          352109572.23898613,
          -191389116.48836982,
          -211751768.91140825,
          48669400.5713724,
          -407177760.48959374,
          -92845419.98730677,
          199605595.2391144,
          -314564975.24389863,
          155236357.61235708,
          -114846116.34421669,
          30191549.095807277,
          -17795569.527465668,
          -19821655.99681607,
          -384920940.9109483,
          -17433683.53792231,
          -135099107.12852696,
          168055693.3946435,
          466169561.22404647,
          -139523432.01873782,
          -316569495.14576817,
          -377202857.7375063,
          604557564.6866094,
          -121561611.04233932,
          388677393.2641352,
          464528324.65960926,
          -82532137.02280326,
          -13653150.706865082,
          -85952035.86322062,
          -566365890.7494539,
          71792807.10925785,
          16401323.392267428,
          491430855.821462,
          -407733595.2112419,
          -425965227.1845098,
          78624868.87713909,
          47324747.50163883,
          -261602632.46162665,
          -130422529.86586574,
          -394681571.3644884,
          -555937380.4013132,
          -370103562.7457149,
          -83658268.1965529,
          -592988978.4693652,
          100705770.15734683,
          -6087103.90774779,
          732186509.6344864,
          228737612.76199293,
          -454753709.706191,
          -666256854.0449284,
          -727923240.5319128,
          263867970.50858405,
          -20687858.304742105,
          -121604867.04109797,
          -156036664.00298414,
          -63595511.54189299,
          -429968984.63556975,
          -278450985.7532043,
          -5425329.952090506,
          89309815.11194938,
          -13486415.007765105,
          -279874311.6964749,
          -83055851.66833518,
          464627657.5770695,
          152672773.57500064,
          323250325.9122732,
          -432257982.91730905,
          -150647804.24248764,
          -255735387.6376208,
          -158510285.5763859,
          -50785164.48587399,
          -617496613.8498055,
          415021626.416588,
          483601933.0270046,
          -42743734.96894273,
          336076976.0507641,
          -204107286.20062405,
          -52239375.85093502
         ],
         "y": [
          590584268.5608335,
          60862710.93018997,
          150717128.4788183,
          4082933.5409469,
          -15550881.729842281,
          378987973.61481696,
          288097715.21536213,
          289277160.5909221,
          62368541.31555192,
          -459275901.3793155,
          -532596663.88841444,
          445503019.1870843,
          -140023512.13513494,
          175814418.03863975,
          -99307678.2124524,
          -457117106.603187,
          -410250567.4354536,
          -75976853.14063287,
          -320157474.90711135,
          188981147.61975917,
          -820816913.2843145,
          -292268182.39811826,
          221889190.45648757,
          -188534697.99117625,
          -117477289.30442144,
          495723448.4499251,
          -168975291.3474273,
          -196017802.35230047,
          626045472.4728851,
          524846652.8120108,
          654062477.984222,
          -358742334.85731065,
          52549740.581902646,
          625134343.8607721,
          -2928417.249695899,
          208329055.68410128,
          12473262.156596946,
          479581130.1319279,
          -354379097.062169,
          -273623646.7794463,
          -73230707.8774454,
          -150579438.77647656,
          -194620763.8384104,
          254683011.8413839,
          -332584653.647184,
          -14886756.654039808,
          -117269959.6930317,
          80190653.31777671,
          -44960848.14320979,
          590645317.318332,
          538478204.2615176,
          90889831.64935178,
          394229871.6704043,
          39736171.80571754,
          277342335.6959564,
          110688816.63475576,
          -480349283.2256186,
          -208005288.43938163,
          -100194485.3705419,
          -408600891.4204334,
          -152911091.1371387,
          -295687122.136513,
          -184856607.26201797,
          -435508344.1791485,
          -373921591.45806044,
          -267653200.45098135,
          -504739500.0304445,
          -261589020.72285986,
          -703160074.4903101,
          122713447.74695589,
          -22383021.173355106,
          250862434.5934234,
          540345515.1614028,
          -36081936.72536924,
          123869031.28866017,
          -167385035.7289367,
          -440364562.51973486,
          395010778.9720912,
          -361805944.6085802,
          -582466059.8981707,
          474212154.86157453,
          97169891.97109136,
          -190920411.8794618,
          4195958.334762735,
          106030743.71175435,
          -371866067.13508123,
          -574781237.8077612,
          -388429481.22976035,
          -302183031.5806838,
          -17290661.150846027,
          97978048.32366541,
          234953299.13075352,
          245422759.6695145,
          -462130299.37194514,
          -340264106.2716448,
          245460547.59994742,
          512421732.29218346,
          -157501949.74357337,
          190577497.6741838,
          435058585.69467854,
          105237004.42649555,
          385202135.0925595,
          326415023.77294344,
          -101307099.67194767,
          383523403.22447,
          -75966295.14248903,
          -236478262.74060032,
          625889006.9477069,
          -526188987.3221603,
          -369688057.4229312,
          96150922.17708403,
          -577190880.5260018,
          -280942547.161128,
          -576446665.4570879,
          -690387028.0168997,
          -119920695.97985516,
          90617420.67762613,
          102725933.92283171,
          371672346.6200124,
          519285269.5183765,
          454681838.56294084,
          9321470.985803716,
          198354785.29081926,
          259217377.7134487,
          483409753.8846789,
          213484758.13309103,
          229551798.31257117,
          534599617.8034956,
          386011706.8618968,
          414875697.38443774,
          -408890737.60542893,
          -166518223.83768275,
          395715017.4848916,
          -395388069.39258313,
          -575032596.7726357,
          -364097538.47351533,
          -488751735.0235051,
          -16534307.211117776,
          -110565920.53638624,
          -73686631.30360597,
          90072514.23496847,
          -214007554.6008399,
          185793479.09324563,
          -206003852.575048,
          185527003.36599264,
          1018638986.6764838,
          74772511.65288681,
          447265554.4276059,
          285286246.1809891,
          -422581042.80145085,
          -396571659.8488304,
          -176209331.92920774,
          -822331493.8589344,
          340774156.72244954,
          78167505.67971532,
          -115159348.43568201,
          476458398.337495,
          434313887.2394492,
          -63492547.27078659,
          245853717.19575092,
          625806518.3138467,
          367417631.4863734,
          -108503655.16808237,
          -130975640.13043697,
          66935192.96671014,
          96552252.03020003,
          88913988.19836156,
          378611688.1279757,
          76104103.59766005,
          190846378.4961819,
          -317108083.84142214,
          -481973759.39583147,
          238229580.53751004,
          -64866036.208983436,
          -286231825.92513335,
          -288788228.73570764,
          -183797955.06894124,
          533184455.49701846,
          519057966.33136225,
          576320999.1664503,
          469234418.9552175,
          -268969234.81519514,
          528149965.55339366,
          393256516.0547549,
          -427068581.48202735,
          100467064.77623226,
          -650958046.1247874,
          -412692370.34966356,
          664713668.5897506,
          123420190.26610154,
          -321575997.9106482,
          -492065590.3141157,
          -296112287.70434386,
          -94664623.95108451,
          -531373027.9570525,
          20514447.305496924,
          -734579201.0182741,
          -197182360.27395067,
          598563175.0893841,
          272666128.31504935,
          453613666.1530455,
          -23811900.80789892,
          -91046815.65519221,
          579680608.8498183,
          99219678.60461201,
          1362943663.389719,
          66362373.42140543,
          -293455264.5383509,
          91535078.5926464,
          220740446.02288815,
          219149949.65774518,
          510571583.4533972,
          -400561016.8365703,
          -120316397.96709903,
          422600057.0046716,
          -469429075.27892643,
          -445640552.48433423,
          -520545220.0718061,
          -737721553.8130943,
          -69077892.59002572,
          175615920.05575633,
          89959964.96310928,
          449340738.3913627,
          -196507265.3709121,
          14710833.27652384,
          -105864095.95987116,
          -296251909.89824456,
          -96967180.94405824,
          -87062723.04639788,
          -479889133.71037763,
          73713950.16995154,
          -52662357.57178062,
          -241697304.08154958,
          -398196529.9255356,
          150970400.76274914,
          -310441099.46466917,
          558411606.9588007,
          221950833.49636838,
          -382752631.3153687,
          575822195.2611356,
          -370179760.07186574,
          -434610573.5266904,
          343589675.6113984,
          509767405.1624994,
          -327182782.1279551,
          366050539.02963275,
          970736844.935748,
          106335268.41834694,
          -445802962.9231597,
          112085817.27239618,
          -68392191.70660084,
          -671742167.0819901,
          -559863538.4678824,
          -279612929.5316053,
          361773554.7690095,
          236674627.4609467,
          612843848.831324,
          -86007125.0649313,
          -256337787.40861532,
          57508703.77637521,
          -183491101.05921623,
          173896065.151278,
          -349342381.2687076,
          -53999679.10010639,
          -198754274.54330394,
          238318921.4360469,
          68288989.76471697,
          -173599830.52862176,
          -330308871.28694946,
          -558282939.6018085,
          399233185.1369654,
          266441792.660745,
          227155882.74843577,
          243436509.343933,
          601248236.7956473,
          -155587250.95422706,
          -37182931.32395869,
          -15565042.360911725,
          31349207.56757214,
          -750770496.2975972,
          -707406401.3521354,
          408602907.01358575,
          -146056581.48507848,
          658491260.2479922,
          423771590.32680553,
          152432443.01031366,
          -234626474.0308228,
          304306060.48992765,
          -26880591.095367763,
          -405833485.36242497,
          -433469256.90318453,
          72277015.70857254,
          143778920.11761284
         ],
         "z": [
          -13220654.76246803,
          12144678.768663699,
          -207495896.63233152,
          52913612.155473456,
          20917150.433453318,
          -2840056.213635047,
          -23778084.64856201,
          140643366.75088096,
          -64574965.540716216,
          -35912416.15566209,
          -47735155.45593446,
          -78967602.92538081,
          119087473.78092094,
          -28400645.53543816,
          109270430.24715607,
          11260809.951209115,
          32026232.49195847,
          -8591390.279931359,
          -103286171.80067067,
          6480273.454553632,
          443210977.8325804,
          1134346.6114937614,
          -58117125.53906277,
          162598457.20578036,
          5639596.133040467,
          -11544887.576240888,
          -12919131.00412479,
          -2809159.191868783,
          -84533897.74105029,
          -34914422.73989869,
          135415423.03149596,
          24351448.174787696,
          -11440112.47491424,
          148300866.01480192,
          23546619.16188727,
          21786297.887732487,
          -99214479.30158493,
          -164912975.9644375,
          -7808639.470558791,
          146798027.20761037,
          32211007.87487797,
          -12060527.934461951,
          99058669.2452942,
          -54417735.333585285,
          109581970.13612519,
          -18200492.915358417,
          -62575513.081830546,
          130944879.24455161,
          111854793.52943614,
          3761401.789915001,
          -94021508.76829074,
          -4499713.056232354,
          -219715947.31110567,
          -79238807.56595112,
          90078530.03478028,
          93364589.54604106,
          -4726105.27247224,
          -217808.81093386372,
          -218080038.7714601,
          119430272.50374827,
          -57291885.19009365,
          118846058.61323695,
          72365711.86280142,
          151889851.45513356,
          -47461772.83576661,
          -3952227.2987177717,
          -95347577.66609396,
          61122665.145511225,
          17892122.896555908,
          62118360.022837505,
          -61494777.6988092,
          -73433756.49367303,
          148076054.46486345,
          -31863755.5251364,
          -63504930.69553962,
          81250907.03051768,
          -84423685.45569557,
          26777165.83881889,
          -128186491.32402736,
          -5092879.714693294,
          74689061.6486291,
          -103057975.69971322,
          -99134017.72068718,
          86480490.19516763,
          14637084.356931375,
          38044613.97117071,
          -10823368.219518868,
          -156167835.65200582,
          40712177.310155004,
          -23954353.47454588,
          31948132.952638056,
          81394266.23313561,
          10400271.374271026,
          -39094810.90008358,
          -17246065.449351057,
          -75071119.96674334,
          1876877.6389089753,
          -9945587.46615625,
          11345361.837012855,
          -179744707.61827138,
          72609775.03704572,
          -44174923.782003045,
          -14795478.266703114,
          29577454.21613696,
          50811547.86110728,
          -28095105.848655965,
          104420993.85248925,
          -108733804.00920887,
          -29969188.978814393,
          53092481.368344486,
          2149271.942894997,
          6469721.112137238,
          485455973.63063794,
          6866295.580477523,
          58758226.075045675,
          -25565333.265136763,
          -7357292.04943352,
          -18865006.088570144,
          -58118979.19376029,
          66603348.413598984,
          96635873.562867,
          56666145.22547318,
          32111487.862579122,
          -5292296.283714123,
          -19435413.3864078,
          -39300888.52023541,
          -26003304.6165477,
          -47776392.99516716,
          -68955775.27848026,
          109433948.47955571,
          -5220381.655946943,
          254784202.66999835,
          33846792.15747108,
          -514077.650529391,
          193263092.87081045,
          -18370450.54005972,
          -26649163.480639577,
          35849753.69808658,
          -18047572.32246582,
          -11023450.282239808,
          18241310.97438114,
          -9620936.235785462,
          -25571316.870351925,
          15007440.465530962,
          -17598408.92432965,
          445512478.1225251,
          1374486.2911063123,
          28833701.55244108,
          -12548964.140844535,
          -206122024.4410196,
          120225036.03719261,
          -90544761.30447085,
          -60420826.292913534,
          50574495.61770864,
          -136664433.68586668,
          -15402737.637611775,
          -5014071.2306476375,
          -293385630.0171811,
          -54625430.41391376,
          10048958.47309914,
          86416959.97542754,
          -99155495.41949977,
          23377847.31973182,
          -27651009.381921537,
          -1353675.2561130717,
          1678930.8351882359,
          -830333.7876165566,
          -121061255.72695257,
          5927474.558873763,
          72836270.9820452,
          -38077208.857936546,
          92502245.00130557,
          -1698009.4689804153,
          42686373.21938768,
          -16943473.170905437,
          -153722467.13361615,
          -191944300.4140641,
          -66751534.26622429,
          8940135.01804537,
          -18447808.85848254,
          -85914395.0942173,
          -63887162.52292372,
          -36808878.44583169,
          154625809.89925075,
          -44028715.843772314,
          180919990.49100092,
          4439993.606968972,
          59077261.95106974,
          -181978030.42873615,
          85196843.71428464,
          -123861991.44945943,
          37907668.86847738,
          23036150.884828925,
          73910373.53881429,
          4639870.798713029,
          -7704117.403771574,
          113538383.04432066,
          -170552915.87957242,
          50583147.24095506,
          -70175498.41130798,
          -14138778.774073552,
          294653.8824732669,
          -9017521.45585086,
          -62836759.95652159,
          -143914514.63244832,
          -214450953.9696381,
          36359776.32331058,
          23666310.56303169,
          844207.9477355655,
          -63681084.88041414,
          1120791.3552606786,
          26422592.34724016,
          201929777.98744112,
          -15589634.349454226,
          9164356.517273199,
          -61938753.111529544,
          -113071744.54943648,
          -106465940.08949716,
          308145.9199737531,
          -6833268.06974136,
          -60902362.54250991,
          34827084.08174971,
          -175981167.81875733,
          40279118.52140877,
          -95992729.24596015,
          -20668913.099858414,
          4195522.698460707,
          -2067974.22456825,
          18900396.43913491,
          -199552568.95046273,
          -10211654.464155875,
          -3002698.0292249024,
          -53967045.70833687,
          -3147726.6878319434,
          -52910556.9473365,
          -41174675.92410029,
          -21810566.42031924,
          856009.9222472497,
          122366095.47653273,
          73950788.49101405,
          -59674465.04462,
          -214150378.04793894,
          -94209200.83734357,
          -93320601.12323827,
          -62725043.32238166,
          45307717.13301993,
          -137329723.39381704,
          143976684.03445598,
          -10743530.748542286,
          -119851419.69427449,
          47598642.39707987,
          233669105.11973003,
          28219621.798801593,
          -34337241.32981228,
          -1795710.0718112453,
          98274337.35460193,
          66369735.05162551,
          27796226.268801942,
          52937530.87777509,
          16882583.056051962,
          -76327439.96319607,
          43236093.10862882,
          -30378515.28828408,
          -41310905.4993884,
          1751374.269901489,
          118440706.58400798,
          62521993.82624264,
          -85621947.55336061,
          -49180126.49275548,
          -3399111.8201545803,
          -49617337.68661892,
          2482475.5833894745,
          -54529458.14315262,
          -136104942.14908588,
          22690387.513118,
          -88673107.37857492,
          -32413349.6352808,
          -24560452.9491526,
          -165668024.06676108,
          -13970141.960503697,
          53930041.39706629,
          325805.0962776754,
          24384477.46324954,
          -188123257.06876487,
          -1926248.8931499443,
          -1521228.8407315447,
          -14045134.46795675,
          64850253.75799406,
          -18578675.92774981,
          -38973538.32371799,
          -235141146.90203422,
          -56100090.82892456,
          7004066.0689209765
         ]
        }
       ],
       "layout": {
        "margin": {
         "b": 0,
         "l": 0,
         "r": 0,
         "t": 0
        },
        "template": {
         "data": {
          "bar": [
           {
            "error_x": {
             "color": "#2a3f5f"
            },
            "error_y": {
             "color": "#2a3f5f"
            },
            "marker": {
             "line": {
              "color": "#E5ECF6",
              "width": 0.5
             },
             "pattern": {
              "fillmode": "overlay",
              "size": 10,
              "solidity": 0.2
             }
            },
            "type": "bar"
           }
          ],
          "barpolar": [
           {
            "marker": {
             "line": {
              "color": "#E5ECF6",
              "width": 0.5
             },
             "pattern": {
              "fillmode": "overlay",
              "size": 10,
              "solidity": 0.2
             }
            },
            "type": "barpolar"
           }
          ],
          "carpet": [
           {
            "aaxis": {
             "endlinecolor": "#2a3f5f",
             "gridcolor": "white",
             "linecolor": "white",
             "minorgridcolor": "white",
             "startlinecolor": "#2a3f5f"
            },
            "baxis": {
             "endlinecolor": "#2a3f5f",
             "gridcolor": "white",
             "linecolor": "white",
             "minorgridcolor": "white",
             "startlinecolor": "#2a3f5f"
            },
            "type": "carpet"
           }
          ],
          "choropleth": [
           {
            "colorbar": {
             "outlinewidth": 0,
             "ticks": ""
            },
            "type": "choropleth"
           }
          ],
          "contour": [
           {
            "colorbar": {
             "outlinewidth": 0,
             "ticks": ""
            },
            "colorscale": [
             [
              0,
              "#0d0887"
             ],
             [
              0.1111111111111111,
              "#46039f"
             ],
             [
              0.2222222222222222,
              "#7201a8"
             ],
             [
              0.3333333333333333,
              "#9c179e"
             ],
             [
              0.4444444444444444,
              "#bd3786"
             ],
             [
              0.5555555555555556,
              "#d8576b"
             ],
             [
              0.6666666666666666,
              "#ed7953"
             ],
             [
              0.7777777777777778,
              "#fb9f3a"
             ],
             [
              0.8888888888888888,
              "#fdca26"
             ],
             [
              1,
              "#f0f921"
             ]
            ],
            "type": "contour"
           }
          ],
          "contourcarpet": [
           {
            "colorbar": {
             "outlinewidth": 0,
             "ticks": ""
            },
            "type": "contourcarpet"
           }
          ],
          "heatmap": [
           {
            "colorbar": {
             "outlinewidth": 0,
             "ticks": ""
            },
            "colorscale": [
             [
              0,
              "#0d0887"
             ],
             [
              0.1111111111111111,
              "#46039f"
             ],
             [
              0.2222222222222222,
              "#7201a8"
             ],
             [
              0.3333333333333333,
              "#9c179e"
             ],
             [
              0.4444444444444444,
              "#bd3786"
             ],
             [
              0.5555555555555556,
              "#d8576b"
             ],
             [
              0.6666666666666666,
              "#ed7953"
             ],
             [
              0.7777777777777778,
              "#fb9f3a"
             ],
             [
              0.8888888888888888,
              "#fdca26"
             ],
             [
              1,
              "#f0f921"
             ]
            ],
            "type": "heatmap"
           }
          ],
          "heatmapgl": [
           {
            "colorbar": {
             "outlinewidth": 0,
             "ticks": ""
            },
            "colorscale": [
             [
              0,
              "#0d0887"
             ],
             [
              0.1111111111111111,
              "#46039f"
             ],
             [
              0.2222222222222222,
              "#7201a8"
             ],
             [
              0.3333333333333333,
              "#9c179e"
             ],
             [
              0.4444444444444444,
              "#bd3786"
             ],
             [
              0.5555555555555556,
              "#d8576b"
             ],
             [
              0.6666666666666666,
              "#ed7953"
             ],
             [
              0.7777777777777778,
              "#fb9f3a"
             ],
             [
              0.8888888888888888,
              "#fdca26"
             ],
             [
              1,
              "#f0f921"
             ]
            ],
            "type": "heatmapgl"
           }
          ],
          "histogram": [
           {
            "marker": {
             "pattern": {
              "fillmode": "overlay",
              "size": 10,
              "solidity": 0.2
             }
            },
            "type": "histogram"
           }
          ],
          "histogram2d": [
           {
            "colorbar": {
             "outlinewidth": 0,
             "ticks": ""
            },
            "colorscale": [
             [
              0,
              "#0d0887"
             ],
             [
              0.1111111111111111,
              "#46039f"
             ],
             [
              0.2222222222222222,
              "#7201a8"
             ],
             [
              0.3333333333333333,
              "#9c179e"
             ],
             [
              0.4444444444444444,
              "#bd3786"
             ],
             [
              0.5555555555555556,
              "#d8576b"
             ],
             [
              0.6666666666666666,
              "#ed7953"
             ],
             [
              0.7777777777777778,
              "#fb9f3a"
             ],
             [
              0.8888888888888888,
              "#fdca26"
             ],
             [
              1,
              "#f0f921"
             ]
            ],
            "type": "histogram2d"
           }
          ],
          "histogram2dcontour": [
           {
            "colorbar": {
             "outlinewidth": 0,
             "ticks": ""
            },
            "colorscale": [
             [
              0,
              "#0d0887"
             ],
             [
              0.1111111111111111,
              "#46039f"
             ],
             [
              0.2222222222222222,
              "#7201a8"
             ],
             [
              0.3333333333333333,
              "#9c179e"
             ],
             [
              0.4444444444444444,
              "#bd3786"
             ],
             [
              0.5555555555555556,
              "#d8576b"
             ],
             [
              0.6666666666666666,
              "#ed7953"
             ],
             [
              0.7777777777777778,
              "#fb9f3a"
             ],
             [
              0.8888888888888888,
              "#fdca26"
             ],
             [
              1,
              "#f0f921"
             ]
            ],
            "type": "histogram2dcontour"
           }
          ],
          "mesh3d": [
           {
            "colorbar": {
             "outlinewidth": 0,
             "ticks": ""
            },
            "type": "mesh3d"
           }
          ],
          "parcoords": [
           {
            "line": {
             "colorbar": {
              "outlinewidth": 0,
              "ticks": ""
             }
            },
            "type": "parcoords"
           }
          ],
          "pie": [
           {
            "automargin": true,
            "type": "pie"
           }
          ],
          "scatter": [
           {
            "fillpattern": {
             "fillmode": "overlay",
             "size": 10,
             "solidity": 0.2
            },
            "type": "scatter"
           }
          ],
          "scatter3d": [
           {
            "line": {
             "colorbar": {
              "outlinewidth": 0,
              "ticks": ""
             }
            },
            "marker": {
             "colorbar": {
              "outlinewidth": 0,
              "ticks": ""
             }
            },
            "type": "scatter3d"
           }
          ],
          "scattercarpet": [
           {
            "marker": {
             "colorbar": {
              "outlinewidth": 0,
              "ticks": ""
             }
            },
            "type": "scattercarpet"
           }
          ],
          "scattergeo": [
           {
            "marker": {
             "colorbar": {
              "outlinewidth": 0,
              "ticks": ""
             }
            },
            "type": "scattergeo"
           }
          ],
          "scattergl": [
           {
            "marker": {
             "colorbar": {
              "outlinewidth": 0,
              "ticks": ""
             }
            },
            "type": "scattergl"
           }
          ],
          "scattermapbox": [
           {
            "marker": {
             "colorbar": {
              "outlinewidth": 0,
              "ticks": ""
             }
            },
            "type": "scattermapbox"
           }
          ],
          "scatterpolar": [
           {
            "marker": {
             "colorbar": {
              "outlinewidth": 0,
              "ticks": ""
             }
            },
            "type": "scatterpolar"
           }
          ],
          "scatterpolargl": [
           {
            "marker": {
             "colorbar": {
              "outlinewidth": 0,
              "ticks": ""
             }
            },
            "type": "scatterpolargl"
           }
          ],
          "scatterternary": [
           {
            "marker": {
             "colorbar": {
              "outlinewidth": 0,
              "ticks": ""
             }
            },
            "type": "scatterternary"
           }
          ],
          "surface": [
           {
            "colorbar": {
             "outlinewidth": 0,
             "ticks": ""
            },
            "colorscale": [
             [
              0,
              "#0d0887"
             ],
             [
              0.1111111111111111,
              "#46039f"
             ],
             [
              0.2222222222222222,
              "#7201a8"
             ],
             [
              0.3333333333333333,
              "#9c179e"
             ],
             [
              0.4444444444444444,
              "#bd3786"
             ],
             [
              0.5555555555555556,
              "#d8576b"
             ],
             [
              0.6666666666666666,
              "#ed7953"
             ],
             [
              0.7777777777777778,
              "#fb9f3a"
             ],
             [
              0.8888888888888888,
              "#fdca26"
             ],
             [
              1,
              "#f0f921"
             ]
            ],
            "type": "surface"
           }
          ],
          "table": [
           {
            "cells": {
             "fill": {
              "color": "#EBF0F8"
             },
             "line": {
              "color": "white"
             }
            },
            "header": {
             "fill": {
              "color": "#C8D4E3"
             },
             "line": {
              "color": "white"
             }
            },
            "type": "table"
           }
          ]
         },
         "layout": {
          "annotationdefaults": {
           "arrowcolor": "#2a3f5f",
           "arrowhead": 0,
           "arrowwidth": 1
          },
          "autotypenumbers": "strict",
          "coloraxis": {
           "colorbar": {
            "outlinewidth": 0,
            "ticks": ""
           }
          },
          "colorscale": {
           "diverging": [
            [
             0,
             "#8e0152"
            ],
            [
             0.1,
             "#c51b7d"
            ],
            [
             0.2,
             "#de77ae"
            ],
            [
             0.3,
             "#f1b6da"
            ],
            [
             0.4,
             "#fde0ef"
            ],
            [
             0.5,
             "#f7f7f7"
            ],
            [
             0.6,
             "#e6f5d0"
            ],
            [
             0.7,
             "#b8e186"
            ],
            [
             0.8,
             "#7fbc41"
            ],
            [
             0.9,
             "#4d9221"
            ],
            [
             1,
             "#276419"
            ]
           ],
           "sequential": [
            [
             0,
             "#0d0887"
            ],
            [
             0.1111111111111111,
             "#46039f"
            ],
            [
             0.2222222222222222,
             "#7201a8"
            ],
            [
             0.3333333333333333,
             "#9c179e"
            ],
            [
             0.4444444444444444,
             "#bd3786"
            ],
            [
             0.5555555555555556,
             "#d8576b"
            ],
            [
             0.6666666666666666,
             "#ed7953"
            ],
            [
             0.7777777777777778,
             "#fb9f3a"
            ],
            [
             0.8888888888888888,
             "#fdca26"
            ],
            [
             1,
             "#f0f921"
            ]
           ],
           "sequentialminus": [
            [
             0,
             "#0d0887"
            ],
            [
             0.1111111111111111,
             "#46039f"
            ],
            [
             0.2222222222222222,
             "#7201a8"
            ],
            [
             0.3333333333333333,
             "#9c179e"
            ],
            [
             0.4444444444444444,
             "#bd3786"
            ],
            [
             0.5555555555555556,
             "#d8576b"
            ],
            [
             0.6666666666666666,
             "#ed7953"
            ],
            [
             0.7777777777777778,
             "#fb9f3a"
            ],
            [
             0.8888888888888888,
             "#fdca26"
            ],
            [
             1,
             "#f0f921"
            ]
           ]
          },
          "colorway": [
           "#636efa",
           "#EF553B",
           "#00cc96",
           "#ab63fa",
           "#FFA15A",
           "#19d3f3",
           "#FF6692",
           "#B6E880",
           "#FF97FF",
           "#FECB52"
          ],
          "font": {
           "color": "#2a3f5f"
          },
          "geo": {
           "bgcolor": "white",
           "lakecolor": "white",
           "landcolor": "#E5ECF6",
           "showlakes": true,
           "showland": true,
           "subunitcolor": "white"
          },
          "hoverlabel": {
           "align": "left"
          },
          "hovermode": "closest",
          "mapbox": {
           "style": "light"
          },
          "paper_bgcolor": "white",
          "plot_bgcolor": "#E5ECF6",
          "polar": {
           "angularaxis": {
            "gridcolor": "white",
            "linecolor": "white",
            "ticks": ""
           },
           "bgcolor": "#E5ECF6",
           "radialaxis": {
            "gridcolor": "white",
            "linecolor": "white",
            "ticks": ""
           }
          },
          "scene": {
           "xaxis": {
            "backgroundcolor": "#E5ECF6",
            "gridcolor": "white",
            "gridwidth": 2,
            "linecolor": "white",
            "showbackground": true,
            "ticks": "",
            "zerolinecolor": "white"
           },
           "yaxis": {
            "backgroundcolor": "#E5ECF6",
            "gridcolor": "white",
            "gridwidth": 2,
            "linecolor": "white",
            "showbackground": true,
            "ticks": "",
            "zerolinecolor": "white"
           },
           "zaxis": {
            "backgroundcolor": "#E5ECF6",
            "gridcolor": "white",
            "gridwidth": 2,
            "linecolor": "white",
            "showbackground": true,
            "ticks": "",
            "zerolinecolor": "white"
           }
          },
          "shapedefaults": {
           "line": {
            "color": "#2a3f5f"
           }
          },
          "ternary": {
           "aaxis": {
            "gridcolor": "white",
            "linecolor": "white",
            "ticks": ""
           },
           "baxis": {
            "gridcolor": "white",
            "linecolor": "white",
            "ticks": ""
           },
           "bgcolor": "#E5ECF6",
           "caxis": {
            "gridcolor": "white",
            "linecolor": "white",
            "ticks": ""
           }
          },
          "title": {
           "x": 0.05
          },
          "xaxis": {
           "automargin": true,
           "gridcolor": "white",
           "linecolor": "white",
           "ticks": "",
           "title": {
            "standoff": 15
           },
           "zerolinecolor": "white",
           "zerolinewidth": 2
          },
          "yaxis": {
           "automargin": true,
           "gridcolor": "white",
           "linecolor": "white",
           "ticks": "",
           "title": {
            "standoff": 15
           },
           "zerolinecolor": "white",
           "zerolinewidth": 2
          }
         }
        }
       }
      }
     },
     "metadata": {},
     "output_type": "display_data"
    }
   ],
   "source": [
    "import plotly.graph_objects as go\n",
    "\n",
    "x, y, z = positions[:,0], positions[:,1], positions[:,2]\n",
    "\n",
    "fig = go.Figure(data=[go.Scatter3d(x=x, y=y, z=z,\n",
    "                                   mode='markers')])\n",
    "\n",
    "# tight layout\n",
    "fig.update_layout(margin=dict(l=0, r=0, b=0, t=0))\n",
    "fig.show()"
   ]
  },
  {
   "cell_type": "code",
   "execution_count": 60,
   "metadata": {},
   "outputs": [
    {
     "name": "stdout",
     "output_type": "stream",
     "text": [
      "Defaulting to user installation because normal site-packages is not writeable\n",
      "Collecting colorlover\n",
      "  Downloading colorlover-0.3.0-py3-none-any.whl (8.9 kB)\n",
      "Installing collected packages: colorlover\n",
      "Successfully installed colorlover-0.3.0\n"
     ]
    }
   ],
   "source": [
    "!pip install colorlover"
   ]
  },
  {
   "cell_type": "code",
   "execution_count": null,
   "metadata": {},
   "outputs": [],
   "source": []
  }
 ],
 "metadata": {
  "kernelspec": {
   "display_name": "Python 3",
   "language": "python",
   "name": "python3"
  },
  "language_info": {
   "codemirror_mode": {
    "name": "ipython",
    "version": 3
   },
   "file_extension": ".py",
   "mimetype": "text/x-python",
   "name": "python",
   "nbconvert_exporter": "python",
   "pygments_lexer": "ipython3",
   "version": "3.12.4"
  },
  "orig_nbformat": 4
 },
 "nbformat": 4,
 "nbformat_minor": 2
}
