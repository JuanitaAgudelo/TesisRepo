{
 "cells": [
  {
   "cell_type": "markdown",
   "metadata": {},
   "source": [
    "### Integracion trayectoria de meteoro del paper:  A Meteor of Apparent Interstellar Origin in the CNEOS Fireball Catalog (Amir Siraj and Abraham Loeb)\n",
    "\n",
    " https://doi.org/10.3847/1538-4357/ac8eac"
   ]
  },
  {
   "cell_type": "code",
   "execution_count": 1,
   "metadata": {},
   "outputs": [],
   "source": [
    "import pandas as pd\n",
    "from astropy.time import Time\n",
    "import spiceypy as spy\n",
    "import numpy as np\n",
    "import rebound as rb\n",
    "import matplotlib.pyplot as plt\n",
    "from Utils import *\n",
    "from astroquery.jplhorizons import Horizons"
   ]
  },
  {
   "cell_type": "markdown",
   "metadata": {},
   "source": [
    "Se cargan los datos del catalogo de fireballs de CNEOS"
   ]
  },
  {
   "cell_type": "code",
   "execution_count": 2,
   "metadata": {},
   "outputs": [
    {
     "data": {
      "text/html": [
       "<div>\n",
       "<style scoped>\n",
       "    .dataframe tbody tr th:only-of-type {\n",
       "        vertical-align: middle;\n",
       "    }\n",
       "\n",
       "    .dataframe tbody tr th {\n",
       "        vertical-align: top;\n",
       "    }\n",
       "\n",
       "    .dataframe thead th {\n",
       "        text-align: right;\n",
       "    }\n",
       "</style>\n",
       "<table border=\"1\" class=\"dataframe\">\n",
       "  <thead>\n",
       "    <tr style=\"text-align: right;\">\n",
       "      <th></th>\n",
       "      <th>Peak Brightness Date/Time (UT)</th>\n",
       "      <th>Latitude (deg.)</th>\n",
       "      <th>Longitude (deg.)</th>\n",
       "      <th>Altitude (km)</th>\n",
       "      <th>Velocity (km/s)</th>\n",
       "      <th>vx</th>\n",
       "      <th>vy</th>\n",
       "      <th>vz</th>\n",
       "      <th>Total Radiated Energy (J)</th>\n",
       "      <th>Calculated Total Impact Energy (kt)</th>\n",
       "    </tr>\n",
       "  </thead>\n",
       "  <tbody>\n",
       "    <tr>\n",
       "      <th>0</th>\n",
       "      <td>2023-08-05 19:54:50</td>\n",
       "      <td>19.9N</td>\n",
       "      <td>131.7W</td>\n",
       "      <td>44.0</td>\n",
       "      <td>21.8</td>\n",
       "      <td>3.3</td>\n",
       "      <td>20.4</td>\n",
       "      <td>-6.8</td>\n",
       "      <td>1.719000e+12</td>\n",
       "      <td>3.800</td>\n",
       "    </tr>\n",
       "    <tr>\n",
       "      <th>1</th>\n",
       "      <td>2023-07-26 03:41:54</td>\n",
       "      <td>18.9N</td>\n",
       "      <td>103.4W</td>\n",
       "      <td>36.1</td>\n",
       "      <td>15.6</td>\n",
       "      <td>-9.5</td>\n",
       "      <td>12.2</td>\n",
       "      <td>1.9</td>\n",
       "      <td>1.510000e+11</td>\n",
       "      <td>0.440</td>\n",
       "    </tr>\n",
       "    <tr>\n",
       "      <th>2</th>\n",
       "      <td>2023-07-07 16:15:31</td>\n",
       "      <td>14.5N</td>\n",
       "      <td>126.6W</td>\n",
       "      <td>38.3</td>\n",
       "      <td>25.7</td>\n",
       "      <td>2.6</td>\n",
       "      <td>4.1</td>\n",
       "      <td>-25.2</td>\n",
       "      <td>2.600000e+10</td>\n",
       "      <td>0.092</td>\n",
       "    </tr>\n",
       "    <tr>\n",
       "      <th>3</th>\n",
       "      <td>2023-07-06 05:52:31</td>\n",
       "      <td>59.3S</td>\n",
       "      <td>145.4W</td>\n",
       "      <td>71.0</td>\n",
       "      <td>NaN</td>\n",
       "      <td>NaN</td>\n",
       "      <td>NaN</td>\n",
       "      <td>NaN</td>\n",
       "      <td>3.000000e+10</td>\n",
       "      <td>0.100</td>\n",
       "    </tr>\n",
       "    <tr>\n",
       "      <th>4</th>\n",
       "      <td>2023-06-21 19:39:13</td>\n",
       "      <td>12.4N</td>\n",
       "      <td>62.8E</td>\n",
       "      <td>40.4</td>\n",
       "      <td>16.5</td>\n",
       "      <td>7.3</td>\n",
       "      <td>-2.0</td>\n",
       "      <td>-16.4</td>\n",
       "      <td>5.430000e+11</td>\n",
       "      <td>1.400</td>\n",
       "    </tr>\n",
       "    <tr>\n",
       "      <th>...</th>\n",
       "      <td>...</td>\n",
       "      <td>...</td>\n",
       "      <td>...</td>\n",
       "      <td>...</td>\n",
       "      <td>...</td>\n",
       "      <td>...</td>\n",
       "      <td>...</td>\n",
       "      <td>...</td>\n",
       "      <td>...</td>\n",
       "      <td>...</td>\n",
       "    </tr>\n",
       "    <tr>\n",
       "      <th>955</th>\n",
       "      <td>1993-11-29 17:48:41</td>\n",
       "      <td>26.5N</td>\n",
       "      <td>78.3E</td>\n",
       "      <td>NaN</td>\n",
       "      <td>NaN</td>\n",
       "      <td>NaN</td>\n",
       "      <td>NaN</td>\n",
       "      <td>NaN</td>\n",
       "      <td>2.600000e+10</td>\n",
       "      <td>0.092</td>\n",
       "    </tr>\n",
       "    <tr>\n",
       "      <th>956</th>\n",
       "      <td>1993-10-31 03:39:27</td>\n",
       "      <td>51.3N</td>\n",
       "      <td>100.9W</td>\n",
       "      <td>NaN</td>\n",
       "      <td>NaN</td>\n",
       "      <td>NaN</td>\n",
       "      <td>NaN</td>\n",
       "      <td>NaN</td>\n",
       "      <td>4.000000e+10</td>\n",
       "      <td>0.130</td>\n",
       "    </tr>\n",
       "    <tr>\n",
       "      <th>957</th>\n",
       "      <td>1991-10-04 09:22:47</td>\n",
       "      <td>78.7N</td>\n",
       "      <td>6.3E</td>\n",
       "      <td>NaN</td>\n",
       "      <td>NaN</td>\n",
       "      <td>NaN</td>\n",
       "      <td>NaN</td>\n",
       "      <td>NaN</td>\n",
       "      <td>5.500000e+11</td>\n",
       "      <td>1.400</td>\n",
       "    </tr>\n",
       "    <tr>\n",
       "      <th>958</th>\n",
       "      <td>1990-10-01 03:51:47</td>\n",
       "      <td>7.5N</td>\n",
       "      <td>142.8E</td>\n",
       "      <td>NaN</td>\n",
       "      <td>NaN</td>\n",
       "      <td>NaN</td>\n",
       "      <td>NaN</td>\n",
       "      <td>NaN</td>\n",
       "      <td>2.500000e+12</td>\n",
       "      <td>5.200</td>\n",
       "    </tr>\n",
       "    <tr>\n",
       "      <th>959</th>\n",
       "      <td>1988-04-15 03:03:10</td>\n",
       "      <td>4.1S</td>\n",
       "      <td>124.3E</td>\n",
       "      <td>NaN</td>\n",
       "      <td>NaN</td>\n",
       "      <td>NaN</td>\n",
       "      <td>NaN</td>\n",
       "      <td>NaN</td>\n",
       "      <td>7.580000e+12</td>\n",
       "      <td>14.000</td>\n",
       "    </tr>\n",
       "  </tbody>\n",
       "</table>\n",
       "<p>960 rows × 10 columns</p>\n",
       "</div>"
      ],
      "text/plain": [
       "    Peak Brightness Date/Time (UT) Latitude (deg.) Longitude (deg.)  \\\n",
       "0              2023-08-05 19:54:50           19.9N           131.7W   \n",
       "1              2023-07-26 03:41:54           18.9N           103.4W   \n",
       "2              2023-07-07 16:15:31           14.5N           126.6W   \n",
       "3              2023-07-06 05:52:31           59.3S           145.4W   \n",
       "4              2023-06-21 19:39:13           12.4N            62.8E   \n",
       "..                             ...             ...              ...   \n",
       "955            1993-11-29 17:48:41           26.5N            78.3E   \n",
       "956            1993-10-31 03:39:27           51.3N           100.9W   \n",
       "957            1991-10-04 09:22:47           78.7N             6.3E   \n",
       "958            1990-10-01 03:51:47            7.5N           142.8E   \n",
       "959            1988-04-15 03:03:10            4.1S           124.3E   \n",
       "\n",
       "     Altitude (km)  Velocity (km/s)   vx    vy    vz  \\\n",
       "0             44.0             21.8  3.3  20.4  -6.8   \n",
       "1             36.1             15.6 -9.5  12.2   1.9   \n",
       "2             38.3             25.7  2.6   4.1 -25.2   \n",
       "3             71.0              NaN  NaN   NaN   NaN   \n",
       "4             40.4             16.5  7.3  -2.0 -16.4   \n",
       "..             ...              ...  ...   ...   ...   \n",
       "955            NaN              NaN  NaN   NaN   NaN   \n",
       "956            NaN              NaN  NaN   NaN   NaN   \n",
       "957            NaN              NaN  NaN   NaN   NaN   \n",
       "958            NaN              NaN  NaN   NaN   NaN   \n",
       "959            NaN              NaN  NaN   NaN   NaN   \n",
       "\n",
       "     Total Radiated Energy (J)  Calculated Total Impact Energy (kt)  \n",
       "0                 1.719000e+12                                3.800  \n",
       "1                 1.510000e+11                                0.440  \n",
       "2                 2.600000e+10                                0.092  \n",
       "3                 3.000000e+10                                0.100  \n",
       "4                 5.430000e+11                                1.400  \n",
       "..                         ...                                  ...  \n",
       "955               2.600000e+10                                0.092  \n",
       "956               4.000000e+10                                0.130  \n",
       "957               5.500000e+11                                1.400  \n",
       "958               2.500000e+12                                5.200  \n",
       "959               7.580000e+12                               14.000  \n",
       "\n",
       "[960 rows x 10 columns]"
      ]
     },
     "execution_count": 2,
     "metadata": {},
     "output_type": "execute_result"
    }
   ],
   "source": [
    "fireballs = pd.read_csv('datos/cneos_fireball_data_original.csv', comment='#')\n",
    "fireballs"
   ]
  },
  {
   "cell_type": "markdown",
   "metadata": {},
   "source": [
    "Localizamos el impacto del meteoro por la fecha"
   ]
  },
  {
   "cell_type": "code",
   "execution_count": 3,
   "metadata": {},
   "outputs": [
    {
     "data": {
      "text/html": [
       "<div>\n",
       "<style scoped>\n",
       "    .dataframe tbody tr th:only-of-type {\n",
       "        vertical-align: middle;\n",
       "    }\n",
       "\n",
       "    .dataframe tbody tr th {\n",
       "        vertical-align: top;\n",
       "    }\n",
       "\n",
       "    .dataframe thead th {\n",
       "        text-align: right;\n",
       "    }\n",
       "</style>\n",
       "<table border=\"1\" class=\"dataframe\">\n",
       "  <thead>\n",
       "    <tr style=\"text-align: right;\">\n",
       "      <th></th>\n",
       "      <th>Peak Brightness Date/Time (UT)</th>\n",
       "      <th>Latitude (deg.)</th>\n",
       "      <th>Longitude (deg.)</th>\n",
       "      <th>Altitude (km)</th>\n",
       "      <th>Velocity (km/s)</th>\n",
       "      <th>vx</th>\n",
       "      <th>vy</th>\n",
       "      <th>vz</th>\n",
       "      <th>Total Radiated Energy (J)</th>\n",
       "      <th>Calculated Total Impact Energy (kt)</th>\n",
       "    </tr>\n",
       "  </thead>\n",
       "  <tbody>\n",
       "    <tr>\n",
       "      <th>355</th>\n",
       "      <td>2014-01-08 17:05:34</td>\n",
       "      <td>1.3S</td>\n",
       "      <td>147.6E</td>\n",
       "      <td>18.7</td>\n",
       "      <td>44.8</td>\n",
       "      <td>-3.4</td>\n",
       "      <td>-43.5</td>\n",
       "      <td>-10.3</td>\n",
       "      <td>3.100000e+10</td>\n",
       "      <td>0.11</td>\n",
       "    </tr>\n",
       "  </tbody>\n",
       "</table>\n",
       "</div>"
      ],
      "text/plain": [
       "    Peak Brightness Date/Time (UT) Latitude (deg.) Longitude (deg.)  \\\n",
       "355            2014-01-08 17:05:34            1.3S           147.6E   \n",
       "\n",
       "     Altitude (km)  Velocity (km/s)   vx    vy    vz  \\\n",
       "355           18.7             44.8 -3.4 -43.5 -10.3   \n",
       "\n",
       "     Total Radiated Energy (J)  Calculated Total Impact Energy (kt)  \n",
       "355               3.100000e+10                                 0.11  "
      ]
     },
     "execution_count": 3,
     "metadata": {},
     "output_type": "execute_result"
    }
   ],
   "source": [
    "meteor = fireballs.loc[fireballs['Peak Brightness Date/Time (UT)'].str.contains('2014-01-08 17:05:34')]\n",
    "meteor"
   ]
  },
  {
   "cell_type": "code",
   "execution_count": 4,
   "metadata": {},
   "outputs": [
    {
     "data": {
      "text/plain": [
       "('2014-01-08 17:05:34', 147.6, -1.3, 18.7, -3.4, -43.5, -10.3)"
      ]
     },
     "execution_count": 4,
     "metadata": {},
     "output_type": "execute_result"
    }
   ],
   "source": [
    "def change_coord(x):\n",
    "    #funcion para trasformar el formato de coordenadas terrestres que da CNEOS\n",
    "    if x[-1] == 'N' or x[-1] == 'E':\n",
    "        new = float(x[:-1])\n",
    "    elif x[-1] == 'S' or x[-1] == 'W':\n",
    "        new = -float(x[:-1])\n",
    "    return new    \n",
    "\n",
    "#Parametros que obtenemos de los datos:\n",
    "date = meteor['Peak Brightness Date/Time (UT)'][355]\n",
    "lon = change_coord(meteor['Longitude (deg.)'][355])\n",
    "lat = change_coord(meteor['Latitude (deg.)'][355])\n",
    "alt = meteor['Altitude (km)'][355]\n",
    "vx = meteor['vx'][355]\n",
    "vy = meteor['vy'][355]\n",
    "vz = meteor['vz'][355]\n",
    "\n",
    "date, lon, lat, alt, vx, vy, vz"
   ]
  },
  {
   "cell_type": "markdown",
   "metadata": {},
   "source": [
    "Cargamos los Kernes para hacer la trasfromacion de coordenadas geograficas a posicion en el frame ECLIPTICJ2000"
   ]
  },
  {
   "cell_type": "code",
   "execution_count": 5,
   "metadata": {},
   "outputs": [],
   "source": [
    "path = 'datos/kernels/'\n",
    "spy.furnsh([path + 'naif0012.tls', path + 'pck00010.tpc', path + 'earth_fixed.tf', path + 'earth_720101_230601.bpc', path + 'earth_latest_high_prec.bpc'])"
   ]
  },
  {
   "cell_type": "markdown",
   "metadata": {},
   "source": [
    "Usamos la funcion Geo2Ecliptic de Utils para hacer la trasformacion, podemos trasformas desde varios marcos de referencia terrestres al ECLIPTICJ200, usemos ITRF93 y IAU_EARTH"
   ]
  },
  {
   "cell_type": "code",
   "execution_count": 6,
   "metadata": {},
   "outputs": [
    {
     "name": "stdout",
     "output_type": "stream",
     "text": [
      "Position ITRF93 frame:  [-5399.64687765  3426.72010848  -144.1587164 ]\n",
      "Position ITRF93 - ECLIPTICJ200 frame:  [-5645.85195081  2702.10172644 -1319.99274628]\n",
      "Position IAU - ECLIPTICJ200 frame:  [-5642.44156711  2707.87470299 -1322.7420744 ]\n"
     ]
    }
   ],
   "source": [
    "r_irtf = Geo2Rec(lon, lat, alt) \n",
    "r_eclip_itrf93 = Geo2Eclip(lon, lat, alt, date, frame='ITRF93')\n",
    "r_eclip_iau = Geo2Eclip(lon, lat, alt, date, frame='IAU_EARTH')\n",
    "\n",
    "print(\"Position ITRF93 frame: \", r_irtf)\n",
    "print(\"Position ITRF93 - ECLIPTICJ200 frame: \", r_eclip_itrf93)\n",
    "print(\"Position IAU - ECLIPTICJ200 frame: \", r_eclip_iau)"
   ]
  },
  {
   "cell_type": "markdown",
   "metadata": {},
   "source": [
    "Debemos trasformar el vector velocidad "
   ]
  },
  {
   "cell_type": "code",
   "execution_count": 7,
   "metadata": {},
   "outputs": [
    {
     "name": "stdout",
     "output_type": "stream",
     "text": [
      "Velocidad del asteroide antes del impacto respecto a la tierra \n",
      "[ -3.4 -43.5 -10.3] 44.83190827970632\n",
      "Velocidad asteroide inercial ecliptico (ITRF93): [  0.13745035 -43.75295533   7.74074714]\n",
      "Magnitud velocidad (ITRF93): 44.432636191546514\n",
      "Velocidad asteroide inercial ecliptico (IAU): [  0.08867015 -43.75276672   7.7425255 ]\n",
      "Magnitud velocidad (IAU): 44.4326361915465\n"
     ]
    }
   ],
   "source": [
    "v = np.array([vx, vy, vz])   #meteor's pre-impact velocity in a geocentric Earth-fixed reference frame\n",
    "\n",
    "T_earth = 86400  #periodo tierra en segundos\n",
    "\n",
    "#vector velocidad de rotación\n",
    "omega = np.array([0,0,(2*np.pi)/T_earth]) \n",
    "\n",
    "print('Velocidad del asteroide antes del impacto respecto a la tierra ')\n",
    "print(v, mag(v))  \n",
    "\n",
    "v_E = (v - spy.vcrss(omega, r_irtf))\n",
    "#v_E, -v, mag(v_E), np.arccos((v@r_irtf)/(np.linalg.norm(v)*np.linalg.norm(r_irtf)))*180/np.pi\n",
    "\n",
    "et = spy.utc2et(date)\n",
    "mx_iau = spy.pxform('IAU_EARTH', 'ECLIPJ2000', et)\n",
    "mx_itrf = spy.pxform('ITRF93', 'ECLIPJ2000', et)\n",
    "v_eclip_itrf = spy.mxv(mx_itrf, v_E)\n",
    "v_eclip_iau = spy.mxv(mx_iau, v_E)\n",
    "\n",
    "print(f\"Velocidad asteroide inercial ecliptico (ITRF93): {v_eclip_itrf}\")\n",
    "print(f\"Magnitud velocidad (ITRF93): {mag(v_eclip_itrf)}\")\n",
    "\n",
    "print(f\"Velocidad asteroide inercial ecliptico (IAU): {v_eclip_iau}\")\n",
    "print(f\"Magnitud velocidad (IAU): {mag(v_eclip_iau)}\")\n"
   ]
  },
  {
   "cell_type": "code",
   "execution_count": 8,
   "metadata": {},
   "outputs": [
    {
     "data": {
      "text/html": [
       "<div><i>Table masked=True length=2</i>\n",
       "<table id=\"table2184263300064\" class=\"table-striped table-bordered table-condensed\">\n",
       "<thead><tr><th>targetname</th><th>datetime_jd</th><th>datetime_str</th><th>x</th><th>y</th><th>z</th><th>vx</th><th>vy</th><th>vz</th><th>lighttime</th><th>range</th><th>range_rate</th></tr></thead>\n",
       "<thead><tr><th>---</th><th>d</th><th>---</th><th>AU</th><th>AU</th><th>AU</th><th>AU / d</th><th>AU / d</th><th>AU / d</th><th>d</th><th>AU</th><th>AU / d</th></tr></thead>\n",
       "<thead><tr><th>str11</th><th>float64</th><th>str30</th><th>float64</th><th>float64</th><th>float64</th><th>float64</th><th>float64</th><th>float64</th><th>float64</th><th>float64</th><th>float64</th></tr></thead>\n",
       "<tr><td>Earth (399)</td><td>2456737.5</td><td>A.D. 2014-Mar-21 00:00:00.0000</td><td>-0.9945468211497613</td><td>-0.003722207387582296</td><td>-0.0001020957168866397</td><td>-0.0002507165931815516</td><td>-0.01726151078274061</td><td>-1.703512565068483e-07</td><td>0.005744063655928266</td><td>0.9945537917631541</td><td>0.0003153176165069349</td></tr>\n",
       "<tr><td>Earth (399)</td><td>2456738.5</td><td>A.D. 2014-Mar-22 00:00:00.0000</td><td>-0.9946489028189718</td><td>-0.0209832991638009</td><td>-0.0001022309209574547</td><td>4.656936758353987e-05</td><td>-0.01725985104532338</td><td>-9.456438268899956e-08</td><td>0.005745891177136442</td><td>0.9948702172514479</td><td>0.0003174770455735695</td></tr>\n",
       "</table></div>"
      ],
      "text/plain": [
       "<Table masked=True length=2>\n",
       " targetname datetime_jd ...       range              range_rate     \n",
       "    ---          d      ...         AU                 AU / d       \n",
       "   str11      float64   ...      float64              float64       \n",
       "----------- ----------- ... ------------------ ---------------------\n",
       "Earth (399)   2456737.5 ... 0.9945537917631541 0.0003153176165069349\n",
       "Earth (399)   2456738.5 ... 0.9948702172514479 0.0003174770455735695"
      ]
     },
     "execution_count": 8,
     "metadata": {},
     "output_type": "execute_result"
    }
   ],
   "source": [
    "Horizons(id = '399', location='@0', epochs = dict(start = '2014-03-21', stop = '2014-03-22', step = '1d')).vectors()"
   ]
  },
  {
   "cell_type": "markdown",
   "metadata": {},
   "source": [
    "Para realizar la integracion, elijamos trabajar con la trasformacion IAU-ECLIPJ2000"
   ]
  },
  {
   "cell_type": "code",
   "execution_count": 9,
   "metadata": {},
   "outputs": [
    {
     "name": "stdout",
     "output_type": "stream",
     "text": [
      "Searching NASA Horizons for 'Sun'... \n",
      "Found: Sun (10) \n",
      "Searching NASA Horizons for 'Earth'... \n",
      "Found: Earth-Moon Barycenter (3) (chosen from query 'Earth')\n"
     ]
    },
    {
     "data": {
      "text/plain": [
       "(array([-4.56682168e+07,  1.39459114e+08, -1.96792418e+04]),\n",
       " array([-28.69279537, -53.1376722 ,   7.74260786]),\n",
       " array([-4.56625744e+07,  1.39456406e+08, -1.83564997e+04]),\n",
       " array([-2.87814655e+01, -9.38490548e+00,  8.23593561e-05]),\n",
       " 42.438492349511534,\n",
       " 60.883796606945346)"
      ]
     },
     "execution_count": 9,
     "metadata": {},
     "output_type": "execute_result"
    }
   ],
   "source": [
    "rb.horizons.SSL_CONTEXT = 'unverified' #saca error si no hago esto uwu\n",
    "\n",
    "sim = rb.Simulation()\n",
    "sim.units = 'km', 's', 'kg'\n",
    "sim.integrator = \"ias15\"\n",
    "\n",
    "sun = sim.add(\"Sun\", hash='sun', date=date)\n",
    "earth = sim.add(\"Earth\", hash='earth', date=date)\n",
    "\n",
    "r_earth = np.array(sim.particles['earth'].xyz)\n",
    "v_earth = np.array(sim.particles['earth'].vxyz)\n",
    "\n",
    "r_asteroid = r_eclip_iau  + r_earth \n",
    "v_asteroid = v_eclip_iau + v_earth #así si es \n",
    "\n",
    "#v_asteroid = -v_eclip + v_earth #esto es errado \n",
    "v_esc = (2*sim.G*1.98e30/((r_asteroid@r_asteroid)**0.5))**0.5\n",
    "\n",
    "asteroid = sim.add(x=r_asteroid[0], y=r_asteroid[1], z=r_asteroid[2], \n",
    "                   vx=v_asteroid[0], vy=v_asteroid[1], vz=v_asteroid[2],)\n",
    "r_asteroid, v_asteroid, r_earth, v_earth, v_esc, mag(v_asteroid)"
   ]
  },
  {
   "cell_type": "code",
   "execution_count": 10,
   "metadata": {},
   "outputs": [
    {
     "data": {
      "text/plain": [
       "(11.170665203719915, 43.0055275265486, 44.4326361915465)"
      ]
     },
     "execution_count": 10,
     "metadata": {},
     "output_type": "execute_result"
    }
   ],
   "source": [
    "v_esc_E = (2*sim.G*5.98e24/((r_irtf@r_irtf)**0.5))**0.5\n",
    "v_mag = mag(v_eclip_iau)\n",
    "v_inf_E = (v_mag**2 - v_esc_E**2)**0.5\n",
    "v_esc_E, v_inf_E, v_mag"
   ]
  },
  {
   "cell_type": "code",
   "execution_count": 11,
   "metadata": {},
   "outputs": [
    {
     "name": "stdout",
     "output_type": "stream",
     "text": [
      "---------------------------------\n",
      "REBOUND version:     \t4.4.7\n",
      "REBOUND built on:    \tMar  9 2025 20:56:14\n",
      "Number of particles: \t3\n",
      "Selected integrator: \tias15\n",
      "Simulation time:     \t0.0000000000000000e+00\n",
      "Current timestep:    \t0.001000\n",
      "---------------------------------\n",
      "<rebound.particle.Particle object at 0x1fc905433d0, m=1.9884754159566474e+30 x=154505.2265538892 y=-338056.7291831016 z=-14068.46131306503 vx=0.01044665676699867 vy=0.004186721288873228 vz=-0.0002423673964135767>\n",
      "<rebound.particle.Particle object at 0x1fc90541fd0, m=6.045825576341311e+24 x=-45662574.40348314 y=139456406.3682046 z=-18356.49972175807 vx=-28.78146551981982 vy=-9.384905480708625 vz=8.235935607459055e-05>\n",
      "<rebound.particle.Particle object at 0x1fc905433d0, m=0.0 x=-45668216.84505025 y=139459114.24290758 z=-19679.241796156795 vx=-28.692795370927715 vy=-53.1376721976239 vz=7.74260786142672>\n",
      "---------------------------------\n",
      "The following fields have non-default values:\n",
      "G:\n",
      "< 1.000000e+00\n",
      "---\n",
      "> 6.674080e-20\n",
      "N:\n",
      "< 0\n",
      "---\n",
      "> 3\n",
      "python_unit_l:\n",
      "< 0\n",
      "---\n",
      "> 1452969904\n",
      "python_unit_m:\n",
      "< 0\n",
      "---\n",
      "> 904287398\n",
      "python_unit_t:\n",
      "< 0\n",
      "---\n",
      "> 619056205\n",
      "rand_seed:\n",
      "< 827380\n",
      "---\n",
      "> 113380\n",
      "particles:\n",
      "> (384 bytes, values not printed)\n",
      "\n"
     ]
    }
   ],
   "source": [
    "sim.status()"
   ]
  },
  {
   "cell_type": "code",
   "execution_count": 12,
   "metadata": {},
   "outputs": [
    {
     "data": {
      "text/plain": [
       "(2.3735204241631296, -0.46600352883966073)"
      ]
     },
     "execution_count": 12,
     "metadata": {},
     "output_type": "execute_result"
    }
   ],
   "source": [
    "sim.move_to_com()\n",
    "o = sim.orbits(primary=sun)\n",
    "o[1].e, o[1].a/1.496e8  #Verdaderos elementos orbitales (correctos)"
   ]
  },
  {
   "cell_type": "markdown",
   "metadata": {},
   "source": [
    "Determine the set of osculating conic orbital elements that\n",
    "corresponds to the state (position, velocity) of a body at\n",
    "some epoch."
   ]
  },
  {
   "cell_type": "code",
   "execution_count": 13,
   "metadata": {},
   "outputs": [
    {
     "data": {
      "text/plain": [
       "array([2.41464109e-01, 9.99924509e-01, 2.27512896e-01, 3.84440267e+00,\n",
       "       1.98165079e+00, 3.15413678e+00, 4.42472801e+08, 1.32712079e+11])"
      ]
     },
     "execution_count": 13,
     "metadata": {},
     "output_type": "execute_result"
    }
   ],
   "source": [
    "state = [r_eclip_iau[0], r_eclip_iau[1], r_eclip_iau[2], v_eclip_iau[0], v_eclip_iau[1], v_eclip_iau[2]]\n",
    "mu = 1.98847e30*sim.G\n",
    "spy.oscelt(state, et, mu)"
   ]
  },
  {
   "cell_type": "code",
   "execution_count": 14,
   "metadata": {},
   "outputs": [
    {
     "data": {
      "text/plain": [
       "array([ 9.54224324e+07,  2.36477371e+00,  1.74822513e-01,  1.88801691e+00,\n",
       "        1.04370242e+00, -1.23379674e+00,  4.42472801e+08,  1.32712079e+11])"
      ]
     },
     "execution_count": 14,
     "metadata": {},
     "output_type": "execute_result"
    }
   ],
   "source": [
    "state = [r_asteroid[0], r_asteroid[1], r_asteroid[2], v_asteroid[0], v_asteroid[1], v_asteroid[2]]\n",
    "mu = 1.98847e30*sim.G\n",
    "spy.oscelt(state, et, mu)"
   ]
  },
  {
   "cell_type": "code",
   "execution_count": null,
   "metadata": {},
   "outputs": [],
   "source": []
  }
 ],
 "metadata": {
  "kernelspec": {
   "display_name": "Python 3",
   "language": "python",
   "name": "python3"
  },
  "language_info": {
   "codemirror_mode": {
    "name": "ipython",
    "version": 3
   },
   "file_extension": ".py",
   "mimetype": "text/x-python",
   "name": "python",
   "nbconvert_exporter": "python",
   "pygments_lexer": "ipython3",
   "version": "3.12.4"
  },
  "orig_nbformat": 4
 },
 "nbformat": 4,
 "nbformat_minor": 2
}
